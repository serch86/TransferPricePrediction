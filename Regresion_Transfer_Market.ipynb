{
 "cells": [
  {
   "cell_type": "markdown",
   "metadata": {},
   "source": [
    "# Regresion_Transfer_Market"
   ]
  },
  {
   "cell_type": "code",
   "execution_count": 36,
   "metadata": {},
   "outputs": [],
   "source": [
    "# lectura de archivo y filtros o trasnformaciones\n",
    "import numpy as np\n",
    "import pandas as pd\n",
    "# limpieza de nombres\n",
    "import re\n",
    "import unidecode\n",
    "\n",
    "# calculo de edad\n",
    "import datetime\n",
    "\n",
    "# visualizacion de datos\n",
    "import seaborn as sns \n",
    "import matplotlib.pyplot as plt\n",
    "plt.style.use('ggplot')\n",
    "font = {'family' : 'sans',\n",
    "        'weight' : 'bold',\n",
    "        'size'   : 20}\n",
    "plt.rc('font', **font)\n",
    "\n",
    "plt.rcParams['xtick.labelsize'] = 16\n",
    "plt.rcParams['ytick.labelsize'] = 16\n",
    "plt.rcParams[u'figure.figsize'] = (16,8)\n"
   ]
  },
  {
   "cell_type": "code",
   "execution_count": 37,
   "metadata": {},
   "outputs": [],
   "source": [
    "df_16 = pd.read_excel('ránking jugadores Liga Argentina Temporadas 16-17; 17-18 .xlsx',sheet_name='temp_16_17')\n",
    "df_17 = pd.read_excel('ránking jugadores Liga Argentina Temporadas 16-17; 17-18 .xlsx',sheet_name='temp_17_18')"
   ]
  },
  {
   "cell_type": "code",
   "execution_count": 38,
   "metadata": {},
   "outputs": [
    {
     "data": {
      "text/html": [
       "<div>\n",
       "<style scoped>\n",
       "    .dataframe tbody tr th:only-of-type {\n",
       "        vertical-align: middle;\n",
       "    }\n",
       "\n",
       "    .dataframe tbody tr th {\n",
       "        vertical-align: top;\n",
       "    }\n",
       "\n",
       "    .dataframe thead th {\n",
       "        text-align: right;\n",
       "    }\n",
       "</style>\n",
       "<table border=\"1\" class=\"dataframe\">\n",
       "  <thead>\n",
       "    <tr style=\"text-align: right;\">\n",
       "      <th></th>\n",
       "      <th>Jugador</th>\n",
       "      <th>Posición</th>\n",
       "      <th>Fecha de Nacimiento</th>\n",
       "      <th>Nacionalidad</th>\n",
       "      <th>Minutos Jugados Temporada 15-16</th>\n",
       "      <th>Suma Ponderada Agregada Temporada 15-16</th>\n",
       "      <th>Suma Ponderada Agregada restringida Temporada 15-16</th>\n",
       "    </tr>\n",
       "  </thead>\n",
       "  <tbody>\n",
       "    <tr>\n",
       "      <th>0</th>\n",
       "      <td>Acosta, Lautaro</td>\n",
       "      <td>Volante por izquierda</td>\n",
       "      <td>1988-03-14</td>\n",
       "      <td>Argentina</td>\n",
       "      <td>1842</td>\n",
       "      <td>3.784080</td>\n",
       "      <td>3.78408</td>\n",
       "    </tr>\n",
       "    <tr>\n",
       "      <th>1</th>\n",
       "      <td>Aguirre, Jonas</td>\n",
       "      <td>Volante por izquierda</td>\n",
       "      <td>1992-03-05</td>\n",
       "      <td>Argentina</td>\n",
       "      <td>1295</td>\n",
       "      <td>4.726390</td>\n",
       "      <td>4.72639</td>\n",
       "    </tr>\n",
       "    <tr>\n",
       "      <th>2</th>\n",
       "      <td>Alanis, Gabriel</td>\n",
       "      <td>Volante por izquierda</td>\n",
       "      <td>1994-03-16</td>\n",
       "      <td>Argentina</td>\n",
       "      <td>118</td>\n",
       "      <td>3.117585</td>\n",
       "      <td>0.00000</td>\n",
       "    </tr>\n",
       "    <tr>\n",
       "      <th>3</th>\n",
       "      <td>Alaniz, Diego</td>\n",
       "      <td>Volante por izquierda</td>\n",
       "      <td>1993-02-19</td>\n",
       "      <td>Uruguaya</td>\n",
       "      <td>299</td>\n",
       "      <td>2.853512</td>\n",
       "      <td>0.00000</td>\n",
       "    </tr>\n",
       "    <tr>\n",
       "      <th>4</th>\n",
       "      <td>Andrada, Omar Brian</td>\n",
       "      <td>Volante por izquierda</td>\n",
       "      <td>1997-06-22</td>\n",
       "      <td>Argentina</td>\n",
       "      <td>6</td>\n",
       "      <td>6.450000</td>\n",
       "      <td>0.00000</td>\n",
       "    </tr>\n",
       "  </tbody>\n",
       "</table>\n",
       "</div>"
      ],
      "text/plain": [
       "              Jugador               Posición  Fecha de Nacimiento   \\\n",
       "0      Acosta, Lautaro  Volante por izquierda           1988-03-14   \n",
       "1       Aguirre, Jonas  Volante por izquierda           1992-03-05   \n",
       "2      Alanis, Gabriel  Volante por izquierda           1994-03-16   \n",
       "3        Alaniz, Diego  Volante por izquierda           1993-02-19   \n",
       "4  Andrada, Omar Brian  Volante por izquierda           1997-06-22   \n",
       "\n",
       "  Nacionalidad   Minutos Jugados Temporada 15-16  \\\n",
       "0     Argentina                             1842   \n",
       "1     Argentina                             1295   \n",
       "2     Argentina                              118   \n",
       "3      Uruguaya                              299   \n",
       "4     Argentina                                6   \n",
       "\n",
       "   Suma Ponderada Agregada Temporada 15-16  \\\n",
       "0                                 3.784080   \n",
       "1                                 4.726390   \n",
       "2                                 3.117585   \n",
       "3                                 2.853512   \n",
       "4                                 6.450000   \n",
       "\n",
       "   Suma Ponderada Agregada restringida Temporada 15-16  \n",
       "0                                            3.78408    \n",
       "1                                            4.72639    \n",
       "2                                            0.00000    \n",
       "3                                            0.00000    \n",
       "4                                            0.00000    "
      ]
     },
     "execution_count": 38,
     "metadata": {},
     "output_type": "execute_result"
    }
   ],
   "source": [
    "df_16.head()"
   ]
  },
  {
   "cell_type": "markdown",
   "metadata": {},
   "source": [
    "# Descriptivos\n",
    "Se procede a generar descriptivos de la base de datos"
   ]
  },
  {
   "cell_type": "code",
   "execution_count": 39,
   "metadata": {},
   "outputs": [
    {
     "data": {
      "text/plain": [
       "(1487, 7)"
      ]
     },
     "execution_count": 39,
     "metadata": {},
     "output_type": "execute_result"
    }
   ],
   "source": [
    "# 1487 jugadores en la temporada 16-17\n",
    "df_16.shape"
   ]
  },
  {
   "cell_type": "code",
   "execution_count": 40,
   "metadata": {},
   "outputs": [
    {
     "data": {
      "text/plain": [
       "Index(['Jugador', 'Posicion', 'Fecha_de_Nacimiento', 'Nacionalidad',\n",
       "       'Minutos_Jugados', 'Suma_Ponderada_Agregada',\n",
       "       'Suma_Ponderada_Agregada_restringida'],\n",
       "      dtype='object')"
      ]
     },
     "execution_count": 40,
     "metadata": {},
     "output_type": "execute_result"
    }
   ],
   "source": [
    "df_16.columns = ['Jugador', 'Posicion', 'Fecha_de_Nacimiento', 'Nacionalidad',\n",
    "       'Minutos_Jugados',\n",
    "       'Suma_Ponderada_Agregada','Suma_Ponderada_Agregada_restringida']\n",
    "df_16.columns"
   ]
  },
  {
   "cell_type": "code",
   "execution_count": 41,
   "metadata": {},
   "outputs": [
    {
     "data": {
      "text/plain": [
       "Zuqui, Fernando                 4\n",
       "Rodriguez, Thomas               3\n",
       "Valdez Chamorro, Jorge Vidal    3\n",
       "Romero Gamarra, Alejandro       3\n",
       "Villarruel, Gustavo             3\n",
       "Name: Jugador, dtype: int64"
      ]
     },
     "execution_count": 41,
     "metadata": {},
     "output_type": "execute_result"
    }
   ],
   "source": [
    "df_16.Jugador.value_counts()[:5] \n",
    "# hay nombres que se repiten, hay que partir los nombres en apellido y nombre"
   ]
  },
  {
   "cell_type": "code",
   "execution_count": 42,
   "metadata": {},
   "outputs": [],
   "source": [
    "df_16['Jugador'] = [unidecode.unidecode(nombre) for nombre in df_16.Jugador]"
   ]
  },
  {
   "cell_type": "code",
   "execution_count": 43,
   "metadata": {},
   "outputs": [],
   "source": [
    "df_16['apellido'] = df_16.Jugador.str.split(',').str[0]"
   ]
  },
  {
   "cell_type": "code",
   "execution_count": 44,
   "metadata": {},
   "outputs": [],
   "source": [
    "df_16['nombre_temp'] = df_16.Jugador.str.split(',').str[1].str.replace(' ', '')"
   ]
  },
  {
   "cell_type": "code",
   "execution_count": 45,
   "metadata": {},
   "outputs": [],
   "source": [
    "nombres = [re.findall('[A-Z][^A-Z]*', nombre) for nombre in df_16.nombre_temp.values]\n",
    "primer_nombre = [primer[0] for primer in nombres]\n",
    "segundo_nombre = [segundo[1] if len(segundo) != 1 else np.nan for segundo in nombres]"
   ]
  },
  {
   "cell_type": "code",
   "execution_count": 46,
   "metadata": {},
   "outputs": [],
   "source": [
    "df_16['nombre'] = primer_nombre\n",
    "df_16['segundo_nombre'] = segundo_nombre"
   ]
  },
  {
   "cell_type": "code",
   "execution_count": 47,
   "metadata": {},
   "outputs": [
    {
     "data": {
      "text/html": [
       "<div>\n",
       "<style scoped>\n",
       "    .dataframe tbody tr th:only-of-type {\n",
       "        vertical-align: middle;\n",
       "    }\n",
       "\n",
       "    .dataframe tbody tr th {\n",
       "        vertical-align: top;\n",
       "    }\n",
       "\n",
       "    .dataframe thead th {\n",
       "        text-align: right;\n",
       "    }\n",
       "</style>\n",
       "<table border=\"1\" class=\"dataframe\">\n",
       "  <thead>\n",
       "    <tr style=\"text-align: right;\">\n",
       "      <th></th>\n",
       "      <th>Jugador</th>\n",
       "      <th>Posicion</th>\n",
       "      <th>Fecha_de_Nacimiento</th>\n",
       "      <th>Nacionalidad</th>\n",
       "      <th>Minutos_Jugados</th>\n",
       "      <th>Suma_Ponderada_Agregada</th>\n",
       "      <th>Suma_Ponderada_Agregada_restringida</th>\n",
       "      <th>apellido</th>\n",
       "      <th>nombre_temp</th>\n",
       "      <th>nombre</th>\n",
       "      <th>segundo_nombre</th>\n",
       "    </tr>\n",
       "  </thead>\n",
       "  <tbody>\n",
       "    <tr>\n",
       "      <th>0</th>\n",
       "      <td>Acosta, Lautaro</td>\n",
       "      <td>Volante por izquierda</td>\n",
       "      <td>1988-03-14</td>\n",
       "      <td>Argentina</td>\n",
       "      <td>1842</td>\n",
       "      <td>3.784080</td>\n",
       "      <td>3.78408</td>\n",
       "      <td>Acosta</td>\n",
       "      <td>Lautaro</td>\n",
       "      <td>Lautaro</td>\n",
       "      <td>NaN</td>\n",
       "    </tr>\n",
       "    <tr>\n",
       "      <th>1</th>\n",
       "      <td>Aguirre, Jonas</td>\n",
       "      <td>Volante por izquierda</td>\n",
       "      <td>1992-03-05</td>\n",
       "      <td>Argentina</td>\n",
       "      <td>1295</td>\n",
       "      <td>4.726390</td>\n",
       "      <td>4.72639</td>\n",
       "      <td>Aguirre</td>\n",
       "      <td>Jonas</td>\n",
       "      <td>Jonas</td>\n",
       "      <td>NaN</td>\n",
       "    </tr>\n",
       "    <tr>\n",
       "      <th>2</th>\n",
       "      <td>Alanis, Gabriel</td>\n",
       "      <td>Volante por izquierda</td>\n",
       "      <td>1994-03-16</td>\n",
       "      <td>Argentina</td>\n",
       "      <td>118</td>\n",
       "      <td>3.117585</td>\n",
       "      <td>0.00000</td>\n",
       "      <td>Alanis</td>\n",
       "      <td>Gabriel</td>\n",
       "      <td>Gabriel</td>\n",
       "      <td>NaN</td>\n",
       "    </tr>\n",
       "    <tr>\n",
       "      <th>3</th>\n",
       "      <td>Alaniz, Diego</td>\n",
       "      <td>Volante por izquierda</td>\n",
       "      <td>1993-02-19</td>\n",
       "      <td>Uruguaya</td>\n",
       "      <td>299</td>\n",
       "      <td>2.853512</td>\n",
       "      <td>0.00000</td>\n",
       "      <td>Alaniz</td>\n",
       "      <td>Diego</td>\n",
       "      <td>Diego</td>\n",
       "      <td>NaN</td>\n",
       "    </tr>\n",
       "    <tr>\n",
       "      <th>4</th>\n",
       "      <td>Andrada, Omar Brian</td>\n",
       "      <td>Volante por izquierda</td>\n",
       "      <td>1997-06-22</td>\n",
       "      <td>Argentina</td>\n",
       "      <td>6</td>\n",
       "      <td>6.450000</td>\n",
       "      <td>0.00000</td>\n",
       "      <td>Andrada</td>\n",
       "      <td>OmarBrian</td>\n",
       "      <td>Omar</td>\n",
       "      <td>Brian</td>\n",
       "    </tr>\n",
       "  </tbody>\n",
       "</table>\n",
       "</div>"
      ],
      "text/plain": [
       "               Jugador               Posicion Fecha_de_Nacimiento  \\\n",
       "0      Acosta, Lautaro  Volante por izquierda          1988-03-14   \n",
       "1       Aguirre, Jonas  Volante por izquierda          1992-03-05   \n",
       "2      Alanis, Gabriel  Volante por izquierda          1994-03-16   \n",
       "3        Alaniz, Diego  Volante por izquierda          1993-02-19   \n",
       "4  Andrada, Omar Brian  Volante por izquierda          1997-06-22   \n",
       "\n",
       "  Nacionalidad  Minutos_Jugados  Suma_Ponderada_Agregada  \\\n",
       "0    Argentina             1842                 3.784080   \n",
       "1    Argentina             1295                 4.726390   \n",
       "2    Argentina              118                 3.117585   \n",
       "3     Uruguaya              299                 2.853512   \n",
       "4    Argentina                6                 6.450000   \n",
       "\n",
       "   Suma_Ponderada_Agregada_restringida apellido nombre_temp   nombre  \\\n",
       "0                              3.78408   Acosta     Lautaro  Lautaro   \n",
       "1                              4.72639  Aguirre       Jonas    Jonas   \n",
       "2                              0.00000   Alanis     Gabriel  Gabriel   \n",
       "3                              0.00000   Alaniz       Diego    Diego   \n",
       "4                              0.00000  Andrada   OmarBrian     Omar   \n",
       "\n",
       "  segundo_nombre  \n",
       "0            NaN  \n",
       "1            NaN  \n",
       "2            NaN  \n",
       "3            NaN  \n",
       "4          Brian  "
      ]
     },
     "execution_count": 47,
     "metadata": {},
     "output_type": "execute_result"
    }
   ],
   "source": [
    "df_16.head()"
   ]
  },
  {
   "cell_type": "code",
   "execution_count": 60,
   "metadata": {},
   "outputs": [
    {
     "data": {
      "text/plain": [
       "875"
      ]
     },
     "execution_count": 60,
     "metadata": {},
     "output_type": "execute_result"
    }
   ],
   "source": [
    "#numero de jugadores unicos\n",
    "len(df_16.groupby(['Jugador','Fecha_de_Nacimiento']).Posicion.unique().index)\n"
   ]
  },
  {
   "cell_type": "code",
   "execution_count": 56,
   "metadata": {},
   "outputs": [
    {
     "data": {
      "text/plain": [
       "Jugador            Fecha_de_Nacimiento\n",
       "Abelairas, Matias  1985-06-18               [Volante Mixto , Volante ofensivo]\n",
       "Abila, Ramon       1989-10-14             [Delantero, Delantero con Movilidad]\n",
       "Acevedo, Lucas     1991-11-08                                [Defensa central]\n",
       "Acevedo, Nelson    1988-07-11              [Volante defensivo, Volante Mixto ]\n",
       "Acevedo, Walter    1986-02-16              [Volante defensivo, Volante Mixto ]\n",
       "Name: Posicion, dtype: object"
      ]
     },
     "execution_count": 56,
     "metadata": {},
     "output_type": "execute_result"
    }
   ],
   "source": [
    "df_16.groupby(['Jugador','Fecha_de_Nacimiento']).Posicion.unique()[:5]"
   ]
  },
  {
   "cell_type": "code",
   "execution_count": 54,
   "metadata": {},
   "outputs": [
    {
     "data": {
      "text/plain": [
       "array([1, 2, 3])"
      ]
     },
     "execution_count": 54,
     "metadata": {},
     "output_type": "execute_result"
    }
   ],
   "source": [
    "#  numero de posiciones por jugador\n",
    "np.unique([len(i) for i in df_16.groupby(['Jugador','Fecha_de_Nacimiento']).Posicion.unique().values])"
   ]
  },
  {
   "cell_type": "code",
   "execution_count": null,
   "metadata": {},
   "outputs": [],
   "source": []
  },
  {
   "cell_type": "markdown",
   "metadata": {},
   "source": [
    "# Merge Transfer Market"
   ]
  },
  {
   "cell_type": "code",
   "execution_count": 238,
   "metadata": {},
   "outputs": [],
   "source": [
    "df_tp_16 = pd.read_pickle('prueba_2016.pkl')"
   ]
  },
  {
   "cell_type": "code",
   "execution_count": 239,
   "metadata": {},
   "outputs": [],
   "source": [
    "df = df_16.merge(df_tp_16, on=['apellido','nombre'])"
   ]
  },
  {
   "cell_type": "code",
   "execution_count": 240,
   "metadata": {},
   "outputs": [
    {
     "data": {
      "text/html": [
       "<div>\n",
       "<style scoped>\n",
       "    .dataframe tbody tr th:only-of-type {\n",
       "        vertical-align: middle;\n",
       "    }\n",
       "\n",
       "    .dataframe tbody tr th {\n",
       "        vertical-align: top;\n",
       "    }\n",
       "\n",
       "    .dataframe thead th {\n",
       "        text-align: right;\n",
       "    }\n",
       "</style>\n",
       "<table border=\"1\" class=\"dataframe\">\n",
       "  <thead>\n",
       "    <tr style=\"text-align: right;\">\n",
       "      <th></th>\n",
       "      <th>Jugador</th>\n",
       "      <th>Posición</th>\n",
       "      <th>Fecha_de_Nacimiento</th>\n",
       "      <th>Nacionalidad</th>\n",
       "      <th>Minutos_Jugados</th>\n",
       "      <th>Suma_Ponderada_Agregada</th>\n",
       "      <th>Suma_Ponderada_Agregada_restringida</th>\n",
       "      <th>apellido</th>\n",
       "      <th>nombre_temp</th>\n",
       "      <th>primer_nombre</th>\n",
       "      <th>segundo_nombre</th>\n",
       "      <th>nombre</th>\n",
       "      <th>jugadores</th>\n",
       "      <th>valor</th>\n",
       "      <th>equipo</th>\n",
       "      <th>value_2016</th>\n",
       "    </tr>\n",
       "  </thead>\n",
       "  <tbody>\n",
       "    <tr>\n",
       "      <th>0</th>\n",
       "      <td>Acosta, Lautaro</td>\n",
       "      <td>Volante por izquierda</td>\n",
       "      <td>1988-03-14</td>\n",
       "      <td>Argentina</td>\n",
       "      <td>1842</td>\n",
       "      <td>3.784080</td>\n",
       "      <td>3.784080</td>\n",
       "      <td>Acosta</td>\n",
       "      <td>Lautaro</td>\n",
       "      <td>Lautaro</td>\n",
       "      <td>NaN</td>\n",
       "      <td>Lautaro</td>\n",
       "      <td>Lautaro Acosta</td>\n",
       "      <td>500 miles €</td>\n",
       "      <td>Club Atlético Lanús</td>\n",
       "      <td>0.5</td>\n",
       "    </tr>\n",
       "    <tr>\n",
       "      <th>1</th>\n",
       "      <td>Acosta, Lautaro</td>\n",
       "      <td>Volante Mixto</td>\n",
       "      <td>1988-03-14</td>\n",
       "      <td>Argentina</td>\n",
       "      <td>1842</td>\n",
       "      <td>3.557492</td>\n",
       "      <td>3.557492</td>\n",
       "      <td>Acosta</td>\n",
       "      <td>Lautaro</td>\n",
       "      <td>Lautaro</td>\n",
       "      <td>NaN</td>\n",
       "      <td>Lautaro</td>\n",
       "      <td>Lautaro Acosta</td>\n",
       "      <td>500 miles €</td>\n",
       "      <td>Club Atlético Lanús</td>\n",
       "      <td>0.5</td>\n",
       "    </tr>\n",
       "    <tr>\n",
       "      <th>2</th>\n",
       "      <td>Aguirre, Jonas</td>\n",
       "      <td>Volante por izquierda</td>\n",
       "      <td>1992-03-05</td>\n",
       "      <td>Argentina</td>\n",
       "      <td>1295</td>\n",
       "      <td>4.726390</td>\n",
       "      <td>4.726390</td>\n",
       "      <td>Aguirre</td>\n",
       "      <td>Jonas</td>\n",
       "      <td>Jonas</td>\n",
       "      <td>NaN</td>\n",
       "      <td>Jonas</td>\n",
       "      <td>Jonas Aguirre</td>\n",
       "      <td>NaN</td>\n",
       "      <td>Club Atlético Rosario Central</td>\n",
       "      <td>NaN</td>\n",
       "    </tr>\n",
       "    <tr>\n",
       "      <th>3</th>\n",
       "      <td>Aguirre, Jonas</td>\n",
       "      <td>Volante Mixto</td>\n",
       "      <td>1992-03-05</td>\n",
       "      <td>Argentina</td>\n",
       "      <td>1295</td>\n",
       "      <td>4.354054</td>\n",
       "      <td>4.354054</td>\n",
       "      <td>Aguirre</td>\n",
       "      <td>Jonas</td>\n",
       "      <td>Jonas</td>\n",
       "      <td>NaN</td>\n",
       "      <td>Jonas</td>\n",
       "      <td>Jonas Aguirre</td>\n",
       "      <td>NaN</td>\n",
       "      <td>Club Atlético Rosario Central</td>\n",
       "      <td>NaN</td>\n",
       "    </tr>\n",
       "    <tr>\n",
       "      <th>4</th>\n",
       "      <td>Alanis, Gabriel</td>\n",
       "      <td>Volante por izquierda</td>\n",
       "      <td>1994-03-16</td>\n",
       "      <td>Argentina</td>\n",
       "      <td>118</td>\n",
       "      <td>3.117585</td>\n",
       "      <td>0.000000</td>\n",
       "      <td>Alanis</td>\n",
       "      <td>Gabriel</td>\n",
       "      <td>Gabriel</td>\n",
       "      <td>NaN</td>\n",
       "      <td>Gabriel</td>\n",
       "      <td>Gabriel Alanis</td>\n",
       "      <td>1,25 mill. €</td>\n",
       "      <td>Club Atlético Belgrano</td>\n",
       "      <td>125.0</td>\n",
       "    </tr>\n",
       "  </tbody>\n",
       "</table>\n",
       "</div>"
      ],
      "text/plain": [
       "           Jugador               Posición Fecha_de_Nacimiento  Nacionalidad  \\\n",
       "0  Acosta, Lautaro  Volante por izquierda           1988-03-14    Argentina   \n",
       "1  Acosta, Lautaro         Volante Mixto            1988-03-14    Argentina   \n",
       "2   Aguirre, Jonas  Volante por izquierda           1992-03-05    Argentina   \n",
       "3   Aguirre, Jonas         Volante Mixto            1992-03-05    Argentina   \n",
       "4  Alanis, Gabriel  Volante por izquierda           1994-03-16    Argentina   \n",
       "\n",
       "   Minutos_Jugados  Suma_Ponderada_Agregada  \\\n",
       "0             1842                 3.784080   \n",
       "1             1842                 3.557492   \n",
       "2             1295                 4.726390   \n",
       "3             1295                 4.354054   \n",
       "4              118                 3.117585   \n",
       "\n",
       "   Suma_Ponderada_Agregada_restringida apellido nombre_temp primer_nombre  \\\n",
       "0                             3.784080   Acosta     Lautaro       Lautaro   \n",
       "1                             3.557492   Acosta     Lautaro       Lautaro   \n",
       "2                             4.726390  Aguirre       Jonas         Jonas   \n",
       "3                             4.354054  Aguirre       Jonas         Jonas   \n",
       "4                             0.000000   Alanis     Gabriel       Gabriel   \n",
       "\n",
       "  segundo_nombre   nombre       jugadores           valor  \\\n",
       "0            NaN  Lautaro  Lautaro Acosta   500 miles €     \n",
       "1            NaN  Lautaro  Lautaro Acosta   500 miles €     \n",
       "2            NaN    Jonas   Jonas Aguirre             NaN   \n",
       "3            NaN    Jonas   Jonas Aguirre             NaN   \n",
       "4            NaN  Gabriel  Gabriel Alanis  1,25 mill. €     \n",
       "\n",
       "                          equipo  value_2016  \n",
       "0            Club Atlético Lanús         0.5  \n",
       "1            Club Atlético Lanús         0.5  \n",
       "2  Club Atlético Rosario Central         NaN  \n",
       "3  Club Atlético Rosario Central         NaN  \n",
       "4         Club Atlético Belgrano       125.0  "
      ]
     },
     "execution_count": 240,
     "metadata": {},
     "output_type": "execute_result"
    }
   ],
   "source": [
    "df.head() #Cruzando por apellido y primer nombre se encuentran que hay duplicados por posicion!"
   ]
  },
  {
   "cell_type": "markdown",
   "metadata": {},
   "source": [
    "Por lo que se tiene que agregar el numero de posiciones en la que juega el jugador, sin embargo, el ranking cambia para cada uno."
   ]
  },
  {
   "cell_type": "code",
   "execution_count": 241,
   "metadata": {},
   "outputs": [],
   "source": [
    "df_tp_17 = pd.read_pickle('prueba_2017.pkl')"
   ]
  },
  {
   "cell_type": "code",
   "execution_count": 242,
   "metadata": {},
   "outputs": [],
   "source": [
    "df = df.merge(df_tp_17[['apellido','nombre', 'value_2017']], on=['apellido','nombre'])"
   ]
  },
  {
   "cell_type": "code",
   "execution_count": 243,
   "metadata": {},
   "outputs": [],
   "source": [
    "df['nombre_posicion'] = df.jugadores +'_'+df.Posición"
   ]
  },
  {
   "cell_type": "code",
   "execution_count": 244,
   "metadata": {},
   "outputs": [],
   "source": [
    "df = df[['nombre_posicion', 'jugadores','Posición','Fecha_de_Nacimiento ', 'Nacionalidad','equipo',\n",
    "    'Minutos_Jugados', 'Suma_Ponderada_Agregada',\n",
    "    'Suma_Ponderada_Agregada_restringida',\n",
    "    'value_2016', 'value_2017']]"
   ]
  },
  {
   "cell_type": "code",
   "execution_count": 245,
   "metadata": {},
   "outputs": [],
   "source": [
    "df['Fecha_de_Nacimiento'] = pd.to_datetime(df['Fecha_de_Nacimiento '])"
   ]
  },
  {
   "cell_type": "code",
   "execution_count": 246,
   "metadata": {},
   "outputs": [],
   "source": [
    "# (pd.to_datetime('today').year - df.Fecha_de_Nacimiento)\n",
    "df['edad'] = round((datetime.datetime.now() - df.Fecha_de_Nacimiento)/ 365 / datetime.timedelta (days=1),0)"
   ]
  },
  {
   "cell_type": "code",
   "execution_count": 247,
   "metadata": {},
   "outputs": [
    {
     "data": {
      "text/plain": [
       "count    712.000000\n",
       "mean      29.117978\n",
       "std        4.670898\n",
       "min       19.000000\n",
       "25%       26.000000\n",
       "50%       28.000000\n",
       "75%       32.000000\n",
       "max       40.000000\n",
       "Name: edad, dtype: float64"
      ]
     },
     "execution_count": 247,
     "metadata": {},
     "output_type": "execute_result"
    }
   ],
   "source": [
    "df.edad.describe()"
   ]
  },
  {
   "cell_type": "code",
   "execution_count": 257,
   "metadata": {},
   "outputs": [
    {
     "data": {
      "image/png": "[encoded data removed]",
      "text/plain": [
       "<Figure size 1152x576 with 1 Axes>"
      ]
     },
     "metadata": {},
     "output_type": "display_data"
    }
   ],
   "source": [
    "sns.kdeplot(df.edad,shade=True,legend=False)\n",
    "plt.title('Distribución de la edad') \n",
    "plt.xlim(19,40)\n",
    "plt.xticks(range(19,41))\n",
    "plt.vlines(df.edad.median(),plt.ylim()[0],plt.ylim()[1], color='navy')\n",
    "plt.text( 24.9,0.095,'Mediana de edad',color='navy');"
   ]
  },
  {
   "cell_type": "code",
   "execution_count": 258,
   "metadata": {},
   "outputs": [
    {
     "data": {
      "text/plain": [
       "count     712.000000\n",
       "mean     1164.214888\n",
       "std       761.816000\n",
       "min         2.000000\n",
       "25%       498.000000\n",
       "50%      1081.000000\n",
       "75%      1791.750000\n",
       "max      2700.000000\n",
       "Name: Minutos_Jugados, dtype: float64"
      ]
     },
     "execution_count": 258,
     "metadata": {},
     "output_type": "execute_result"
    }
   ],
   "source": [
    "df.Minutos_Jugados.describe()"
   ]
  },
  {
   "cell_type": "code",
   "execution_count": 249,
   "metadata": {},
   "outputs": [
    {
     "data": {
      "text/plain": [
       "<matplotlib.axes._subplots.AxesSubplot at 0x7fe503d13198>"
      ]
     },
     "execution_count": 249,
     "metadata": {},
     "output_type": "execute_result"
    },
    {
     "data": {
      "image/png": "[encoded data removed]",
      "text/plain": [
       "<Figure size 1152x576 with 1 Axes>"
      ]
     },
     "metadata": {},
     "output_type": "display_data"
    }
   ],
   "source": [
    "df.Minutos_Jugados.hist(bins=10)"
   ]
  },
  {
   "cell_type": "code",
   "execution_count": 259,
   "metadata": {},
   "outputs": [
    {
     "data": {
      "text/plain": [
       "(-2, 2700)"
      ]
     },
     "execution_count": 259,
     "metadata": {},
     "output_type": "execute_result"
    },
    {
     "data": {
      "image/png": "[encoded data removed]",
      "text/plain": [
       "<Figure size 1152x576 with 1 Axes>"
      ]
     },
     "metadata": {},
     "output_type": "display_data"
    }
   ],
   "source": [
    "sns.kdeplot(df.Minutos_Jugados,shade=True,legend=False)\n",
    "plt.title('Distribución de Minutos jugados') \n",
    "plt.xlim(-2,2700)"
   ]
  },
  {
   "cell_type": "code",
   "execution_count": null,
   "metadata": {},
   "outputs": [],
   "source": []
  }
 ],
 "metadata": {
  "kernelspec": {
   "display_name": "Python 3",
   "language": "python",
   "name": "python3"
  },
  "language_info": {
   "codemirror_mode": {
    "name": "ipython",
    "version": 3
   },
   "file_extension": ".py",
   "mimetype": "text/x-python",
   "name": "python",
   "nbconvert_exporter": "python",
   "pygments_lexer": "ipython3",
   "version": "3.6.6"
  }
 },
 "nbformat": 4,
 "nbformat_minor": 2
}
