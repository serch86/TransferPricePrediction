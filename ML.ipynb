{
 "cells": [
  {
   "cell_type": "markdown",
   "metadata": {},
   "source": [
    "# Limpieza de Datos"
   ]
  },
  {
   "cell_type": "code",
   "execution_count": 1,
   "metadata": {},
   "outputs": [],
   "source": [
    "import pandas as pd\n",
    "import numpy as np\n",
    "import matplotlib.pyplot as plt"
   ]
  },
  {
   "cell_type": "code",
   "execution_count": 2,
   "metadata": {},
   "outputs": [
    {
     "data": {
      "text/html": [
       "<div>\n",
       "<style scoped>\n",
       "    .dataframe tbody tr th:only-of-type {\n",
       "        vertical-align: middle;\n",
       "    }\n",
       "\n",
       "    .dataframe tbody tr th {\n",
       "        vertical-align: top;\n",
       "    }\n",
       "\n",
       "    .dataframe thead th {\n",
       "        text-align: right;\n",
       "    }\n",
       "</style>\n",
       "<table border=\"1\" class=\"dataframe\">\n",
       "  <thead>\n",
       "    <tr style=\"text-align: right;\">\n",
       "      <th></th>\n",
       "      <th>jugador</th>\n",
       "      <th>fecha_nacimiento_x</th>\n",
       "      <th>nacionalidad</th>\n",
       "      <th>equipo_x</th>\n",
       "      <th>posicion_1</th>\n",
       "      <th>posicion_2</th>\n",
       "      <th>posicion_3</th>\n",
       "      <th>minutos_jugados_pos1</th>\n",
       "      <th>minutos_jugados_pos2</th>\n",
       "      <th>minutos_jugados_pos3</th>\n",
       "      <th>ranking_pos1</th>\n",
       "      <th>ranking_pos2</th>\n",
       "      <th>ranking_pos3</th>\n",
       "      <th>ranking_restringido_pos1</th>\n",
       "      <th>ranking_restringido_pos2</th>\n",
       "      <th>ranking_restringido_pos3</th>\n",
       "      <th>value_2015</th>\n",
       "      <th>value_2016</th>\n",
       "    </tr>\n",
       "  </thead>\n",
       "  <tbody>\n",
       "    <tr>\n",
       "      <th>0</th>\n",
       "      <td>Abelairas, Matias</td>\n",
       "      <td>1985-06-18</td>\n",
       "      <td>Argentina</td>\n",
       "      <td>NaN</td>\n",
       "      <td>Volante Mixto</td>\n",
       "      <td>Volante ofensivo</td>\n",
       "      <td>NaN</td>\n",
       "      <td>128.0</td>\n",
       "      <td>128.0</td>\n",
       "      <td>NaN</td>\n",
       "      <td>9.485156</td>\n",
       "      <td>6.644531</td>\n",
       "      <td>NaN</td>\n",
       "      <td>0.000000</td>\n",
       "      <td>0.000000</td>\n",
       "      <td>NaN</td>\n",
       "      <td>NaN</td>\n",
       "      <td>NaN</td>\n",
       "    </tr>\n",
       "    <tr>\n",
       "      <th>1</th>\n",
       "      <td>Abila, Ramon</td>\n",
       "      <td>1989-10-14</td>\n",
       "      <td>Argentina</td>\n",
       "      <td>Club Atlético Huracán</td>\n",
       "      <td>Delantero</td>\n",
       "      <td>Delantero con Movilidad</td>\n",
       "      <td>NaN</td>\n",
       "      <td>2094.0</td>\n",
       "      <td>2094.0</td>\n",
       "      <td>NaN</td>\n",
       "      <td>2.281160</td>\n",
       "      <td>1.449713</td>\n",
       "      <td>NaN</td>\n",
       "      <td>2.281160</td>\n",
       "      <td>1.449713</td>\n",
       "      <td>NaN</td>\n",
       "      <td>0.400</td>\n",
       "      <td>NaN</td>\n",
       "    </tr>\n",
       "    <tr>\n",
       "      <th>2</th>\n",
       "      <td>Acevedo, Lucas</td>\n",
       "      <td>1991-11-08</td>\n",
       "      <td>Argentina</td>\n",
       "      <td>NaN</td>\n",
       "      <td>Defensa central</td>\n",
       "      <td>NaN</td>\n",
       "      <td>NaN</td>\n",
       "      <td>379.0</td>\n",
       "      <td>NaN</td>\n",
       "      <td>NaN</td>\n",
       "      <td>7.387124</td>\n",
       "      <td>NaN</td>\n",
       "      <td>NaN</td>\n",
       "      <td>0.000000</td>\n",
       "      <td>NaN</td>\n",
       "      <td>NaN</td>\n",
       "      <td>NaN</td>\n",
       "      <td>NaN</td>\n",
       "    </tr>\n",
       "    <tr>\n",
       "      <th>3</th>\n",
       "      <td>Acevedo, Nelson</td>\n",
       "      <td>1988-07-11</td>\n",
       "      <td>Argentina</td>\n",
       "      <td>Club Atlético Unión (Santa Fe)</td>\n",
       "      <td>Volante defensivo</td>\n",
       "      <td>Volante Mixto</td>\n",
       "      <td>NaN</td>\n",
       "      <td>699.0</td>\n",
       "      <td>699.0</td>\n",
       "      <td>NaN</td>\n",
       "      <td>8.114807</td>\n",
       "      <td>6.786695</td>\n",
       "      <td>NaN</td>\n",
       "      <td>8.114807</td>\n",
       "      <td>6.786695</td>\n",
       "      <td>NaN</td>\n",
       "      <td>0.075</td>\n",
       "      <td>0.225</td>\n",
       "    </tr>\n",
       "    <tr>\n",
       "      <th>5</th>\n",
       "      <td>Acevedo, Walter</td>\n",
       "      <td>1986-02-16</td>\n",
       "      <td>Argentina</td>\n",
       "      <td>NaN</td>\n",
       "      <td>Volante defensivo</td>\n",
       "      <td>Volante Mixto</td>\n",
       "      <td>NaN</td>\n",
       "      <td>538.0</td>\n",
       "      <td>538.0</td>\n",
       "      <td>NaN</td>\n",
       "      <td>8.406134</td>\n",
       "      <td>7.415799</td>\n",
       "      <td>NaN</td>\n",
       "      <td>0.000000</td>\n",
       "      <td>0.000000</td>\n",
       "      <td>NaN</td>\n",
       "      <td>NaN</td>\n",
       "      <td>NaN</td>\n",
       "    </tr>\n",
       "  </tbody>\n",
       "</table>\n",
       "</div>"
      ],
      "text/plain": [
       "             jugador fecha_nacimiento_x nacionalidad  \\\n",
       "0  Abelairas, Matias         1985-06-18    Argentina   \n",
       "1       Abila, Ramon         1989-10-14    Argentina   \n",
       "2     Acevedo, Lucas         1991-11-08    Argentina   \n",
       "3    Acevedo, Nelson         1988-07-11    Argentina   \n",
       "5    Acevedo, Walter         1986-02-16    Argentina   \n",
       "\n",
       "                         equipo_x         posicion_1               posicion_2  \\\n",
       "0                             NaN     Volante Mixto          Volante ofensivo   \n",
       "1           Club Atlético Huracán          Delantero  Delantero con Movilidad   \n",
       "2                             NaN    Defensa central                      NaN   \n",
       "3  Club Atlético Unión (Santa Fe)  Volante defensivo           Volante Mixto    \n",
       "5                             NaN  Volante defensivo           Volante Mixto    \n",
       "\n",
       "  posicion_3  minutos_jugados_pos1  minutos_jugados_pos2  \\\n",
       "0        NaN                 128.0                 128.0   \n",
       "1        NaN                2094.0                2094.0   \n",
       "2        NaN                 379.0                   NaN   \n",
       "3        NaN                 699.0                 699.0   \n",
       "5        NaN                 538.0                 538.0   \n",
       "\n",
       "   minutos_jugados_pos3  ranking_pos1  ranking_pos2  ranking_pos3  \\\n",
       "0                   NaN      9.485156      6.644531           NaN   \n",
       "1                   NaN      2.281160      1.449713           NaN   \n",
       "2                   NaN      7.387124           NaN           NaN   \n",
       "3                   NaN      8.114807      6.786695           NaN   \n",
       "5                   NaN      8.406134      7.415799           NaN   \n",
       "\n",
       "   ranking_restringido_pos1  ranking_restringido_pos2  \\\n",
       "0                  0.000000                  0.000000   \n",
       "1                  2.281160                  1.449713   \n",
       "2                  0.000000                       NaN   \n",
       "3                  8.114807                  6.786695   \n",
       "5                  0.000000                  0.000000   \n",
       "\n",
       "   ranking_restringido_pos3  value_2015  value_2016  \n",
       "0                       NaN         NaN         NaN  \n",
       "1                       NaN       0.400         NaN  \n",
       "2                       NaN         NaN         NaN  \n",
       "3                       NaN       0.075       0.225  \n",
       "5                       NaN         NaN         NaN  "
      ]
     },
     "execution_count": 2,
     "metadata": {},
     "output_type": "execute_result"
    }
   ],
   "source": [
    "df = pd.read_pickle('df_for_regression_2015_2016.pkl')\n",
    "df.head()"
   ]
  },
  {
   "cell_type": "markdown",
   "metadata": {},
   "source": [
    "Observemos que Acevedo Nelson está repetido dos veces. Podría ser que tuviéramos renglones repetidos en el dataframe. Vamos a revisarlo:"
   ]
  },
  {
   "cell_type": "code",
   "execution_count": 3,
   "metadata": {},
   "outputs": [
    {
     "name": "stdout",
     "output_type": "stream",
     "text": [
      "El número de renglones es: 965\n",
      "El número de valores únicos en la columna jugador es: 872\n"
     ]
    }
   ],
   "source": [
    "print('El número de renglones es:', df.shape[0])\n",
    "print('El número de valores únicos en la columna jugador es:', df.jugador.nunique())"
   ]
  },
  {
   "cell_type": "markdown",
   "metadata": {},
   "source": [
    "Así que tenemos renglones duplicados de los que hay que deshacernos. Usemos la función drop_duplicates de pandas para lograrlo:"
   ]
  },
  {
   "cell_type": "code",
   "execution_count": 4,
   "metadata": {},
   "outputs": [],
   "source": [
    "df = df.drop_duplicates()"
   ]
  },
  {
   "cell_type": "code",
   "execution_count": 5,
   "metadata": {},
   "outputs": [
    {
     "data": {
      "text/plain": [
       "965"
      ]
     },
     "execution_count": 5,
     "metadata": {},
     "output_type": "execute_result"
    }
   ],
   "source": [
    "df.shape[0]"
   ]
  },
  {
   "cell_type": "code",
   "execution_count": 6,
   "metadata": {},
   "outputs": [
    {
     "name": "stdout",
     "output_type": "stream",
     "text": [
      "<class 'pandas.core.frame.DataFrame'>\n",
      "Int64Index: 965 entries, 0 to 1062\n",
      "Data columns (total 18 columns):\n",
      "jugador                     965 non-null object\n",
      "fecha_nacimiento_x          965 non-null datetime64[ns]\n",
      "nacionalidad                965 non-null object\n",
      "equipo_x                    635 non-null object\n",
      "posicion_1                  965 non-null object\n",
      "posicion_2                  643 non-null object\n",
      "posicion_3                  14 non-null object\n",
      "minutos_jugados_pos1        965 non-null float64\n",
      "minutos_jugados_pos2        643 non-null float64\n",
      "minutos_jugados_pos3        14 non-null float64\n",
      "ranking_pos1                965 non-null float64\n",
      "ranking_pos2                643 non-null float64\n",
      "ranking_pos3                14 non-null float64\n",
      "ranking_restringido_pos1    965 non-null float64\n",
      "ranking_restringido_pos2    643 non-null float64\n",
      "ranking_restringido_pos3    14 non-null float64\n",
      "value_2015                  507 non-null float64\n",
      "value_2016                  548 non-null float64\n",
      "dtypes: datetime64[ns](1), float64(11), object(6)\n",
      "memory usage: 143.2+ KB\n"
     ]
    }
   ],
   "source": [
    "df.info()"
   ]
  },
  {
   "cell_type": "markdown",
   "metadata": {},
   "source": [
    "Aún tenemos jugadores duplicados, pero estos corresponden a jugadores que cambiaron de equipo durante el periódo de transferencia. Estos renglones difieren únicamente en la columna equipo_x. Dejémoslo así por el momento."
   ]
  },
  {
   "cell_type": "code",
   "execution_count": 7,
   "metadata": {},
   "outputs": [
    {
     "data": {
      "text/plain": [
       "Index(['jugador', 'fecha_nacimiento_x', 'nacionalidad', 'equipo_x',\n",
       "       'posicion_1', 'posicion_2', 'posicion_3', 'minutos_jugados_pos1',\n",
       "       'minutos_jugados_pos2', 'minutos_jugados_pos3', 'ranking_pos1',\n",
       "       'ranking_pos2', 'ranking_pos3', 'ranking_restringido_pos1',\n",
       "       'ranking_restringido_pos2', 'ranking_restringido_pos3', 'value_2015',\n",
       "       'value_2016'],\n",
       "      dtype='object')"
      ]
     },
     "execution_count": 7,
     "metadata": {},
     "output_type": "execute_result"
    }
   ],
   "source": [
    "df.columns"
   ]
  },
  {
   "cell_type": "code",
   "execution_count": 8,
   "metadata": {},
   "outputs": [
    {
     "name": "stdout",
     "output_type": "stream",
     "text": [
      "<class 'pandas.core.frame.DataFrame'>\n",
      "Int64Index: 965 entries, 0 to 1062\n",
      "Data columns (total 18 columns):\n",
      "jugador                     965 non-null object\n",
      "fecha_nacimiento_x          965 non-null datetime64[ns]\n",
      "nacionalidad                965 non-null object\n",
      "equipo_x                    635 non-null object\n",
      "posicion_1                  965 non-null object\n",
      "posicion_2                  643 non-null object\n",
      "posicion_3                  14 non-null object\n",
      "minutos_jugados_pos1        965 non-null float64\n",
      "minutos_jugados_pos2        643 non-null float64\n",
      "minutos_jugados_pos3        14 non-null float64\n",
      "ranking_pos1                965 non-null float64\n",
      "ranking_pos2                643 non-null float64\n",
      "ranking_pos3                14 non-null float64\n",
      "ranking_restringido_pos1    965 non-null float64\n",
      "ranking_restringido_pos2    643 non-null float64\n",
      "ranking_restringido_pos3    14 non-null float64\n",
      "value_2015                  507 non-null float64\n",
      "value_2016                  548 non-null float64\n",
      "dtypes: datetime64[ns](1), float64(11), object(6)\n",
      "memory usage: 143.2+ KB\n"
     ]
    }
   ],
   "source": [
    "df.info()"
   ]
  },
  {
   "cell_type": "markdown",
   "metadata": {},
   "source": [
    "Tenemos varios nulos a tratar, pero, primero, algo que nos diría más que la fecha de nacimiento es la edad del jugador. Calculémosla:"
   ]
  },
  {
   "cell_type": "code",
   "execution_count": 9,
   "metadata": {},
   "outputs": [],
   "source": [
    "import datetime"
   ]
  },
  {
   "cell_type": "markdown",
   "metadata": {},
   "source": [
    "La funcion age calculator toma la fecha de nacimiento del jugador y calcula su edad al 15 de Enero del 2016."
   ]
  },
  {
   "cell_type": "code",
   "execution_count": 10,
   "metadata": {},
   "outputs": [],
   "source": [
    "def age_calculator(df):\n",
    "    \n",
    "    ref_date = []\n",
    "    \n",
    "    for i in range(0, len(df)):\n",
    "        birthday = pd.Timestamp('2016-01-15')\n",
    "        ref_date.append(birthday)\n",
    "    \n",
    "    ref_date = pd.to_datetime(ref_date)\n",
    "    tiempo = ref_date-df['fecha_nacimiento_x']\n",
    "    edad = tiempo.apply(lambda x: round((x.days)/365,1))\n",
    "    df['edad'] = edad\n",
    "    df.drop('fecha_nacimiento_x',1,inplace = True)"
   ]
  },
  {
   "cell_type": "markdown",
   "metadata": {},
   "source": [
    "Aplicando la función al dataframe:"
   ]
  },
  {
   "cell_type": "code",
   "execution_count": 11,
   "metadata": {},
   "outputs": [],
   "source": [
    "age_calculator(df)"
   ]
  },
  {
   "cell_type": "code",
   "execution_count": 12,
   "metadata": {},
   "outputs": [
    {
     "data": {
      "text/html": [
       "<div>\n",
       "<style scoped>\n",
       "    .dataframe tbody tr th:only-of-type {\n",
       "        vertical-align: middle;\n",
       "    }\n",
       "\n",
       "    .dataframe tbody tr th {\n",
       "        vertical-align: top;\n",
       "    }\n",
       "\n",
       "    .dataframe thead th {\n",
       "        text-align: right;\n",
       "    }\n",
       "</style>\n",
       "<table border=\"1\" class=\"dataframe\">\n",
       "  <thead>\n",
       "    <tr style=\"text-align: right;\">\n",
       "      <th></th>\n",
       "      <th>jugador</th>\n",
       "      <th>nacionalidad</th>\n",
       "      <th>equipo_x</th>\n",
       "      <th>posicion_1</th>\n",
       "      <th>posicion_2</th>\n",
       "      <th>posicion_3</th>\n",
       "      <th>minutos_jugados_pos1</th>\n",
       "      <th>minutos_jugados_pos2</th>\n",
       "      <th>minutos_jugados_pos3</th>\n",
       "      <th>ranking_pos1</th>\n",
       "      <th>ranking_pos2</th>\n",
       "      <th>ranking_pos3</th>\n",
       "      <th>ranking_restringido_pos1</th>\n",
       "      <th>ranking_restringido_pos2</th>\n",
       "      <th>ranking_restringido_pos3</th>\n",
       "      <th>value_2015</th>\n",
       "      <th>value_2016</th>\n",
       "      <th>edad</th>\n",
       "    </tr>\n",
       "  </thead>\n",
       "  <tbody>\n",
       "    <tr>\n",
       "      <th>0</th>\n",
       "      <td>Abelairas, Matias</td>\n",
       "      <td>Argentina</td>\n",
       "      <td>NaN</td>\n",
       "      <td>Volante Mixto</td>\n",
       "      <td>Volante ofensivo</td>\n",
       "      <td>NaN</td>\n",
       "      <td>128.0</td>\n",
       "      <td>128.0</td>\n",
       "      <td>NaN</td>\n",
       "      <td>9.485156</td>\n",
       "      <td>6.644531</td>\n",
       "      <td>NaN</td>\n",
       "      <td>0.00000</td>\n",
       "      <td>0.000000</td>\n",
       "      <td>NaN</td>\n",
       "      <td>NaN</td>\n",
       "      <td>NaN</td>\n",
       "      <td>30.6</td>\n",
       "    </tr>\n",
       "    <tr>\n",
       "      <th>1</th>\n",
       "      <td>Abila, Ramon</td>\n",
       "      <td>Argentina</td>\n",
       "      <td>Club Atlético Huracán</td>\n",
       "      <td>Delantero</td>\n",
       "      <td>Delantero con Movilidad</td>\n",
       "      <td>NaN</td>\n",
       "      <td>2094.0</td>\n",
       "      <td>2094.0</td>\n",
       "      <td>NaN</td>\n",
       "      <td>2.281160</td>\n",
       "      <td>1.449713</td>\n",
       "      <td>NaN</td>\n",
       "      <td>2.28116</td>\n",
       "      <td>1.449713</td>\n",
       "      <td>NaN</td>\n",
       "      <td>0.4</td>\n",
       "      <td>NaN</td>\n",
       "      <td>26.3</td>\n",
       "    </tr>\n",
       "  </tbody>\n",
       "</table>\n",
       "</div>"
      ],
      "text/plain": [
       "             jugador nacionalidad               equipo_x      posicion_1  \\\n",
       "0  Abelairas, Matias    Argentina                    NaN  Volante Mixto    \n",
       "1       Abila, Ramon    Argentina  Club Atlético Huracán       Delantero   \n",
       "\n",
       "                posicion_2 posicion_3  minutos_jugados_pos1  \\\n",
       "0         Volante ofensivo        NaN                 128.0   \n",
       "1  Delantero con Movilidad        NaN                2094.0   \n",
       "\n",
       "   minutos_jugados_pos2  minutos_jugados_pos3  ranking_pos1  ranking_pos2  \\\n",
       "0                 128.0                   NaN      9.485156      6.644531   \n",
       "1                2094.0                   NaN      2.281160      1.449713   \n",
       "\n",
       "   ranking_pos3  ranking_restringido_pos1  ranking_restringido_pos2  \\\n",
       "0           NaN                   0.00000                  0.000000   \n",
       "1           NaN                   2.28116                  1.449713   \n",
       "\n",
       "   ranking_restringido_pos3  value_2015  value_2016  edad  \n",
       "0                       NaN         NaN         NaN  30.6  \n",
       "1                       NaN         0.4         NaN  26.3  "
      ]
     },
     "execution_count": 12,
     "metadata": {},
     "output_type": "execute_result"
    }
   ],
   "source": [
    "df.head(2)"
   ]
  },
  {
   "cell_type": "markdown",
   "metadata": {},
   "source": [
    "## Tratamiento de Valores Nulos"
   ]
  },
  {
   "cell_type": "code",
   "execution_count": 13,
   "metadata": {},
   "outputs": [
    {
     "name": "stdout",
     "output_type": "stream",
     "text": [
      "<class 'pandas.core.frame.DataFrame'>\n",
      "Int64Index: 965 entries, 0 to 1062\n",
      "Data columns (total 18 columns):\n",
      "jugador                     965 non-null object\n",
      "nacionalidad                965 non-null object\n",
      "equipo_x                    635 non-null object\n",
      "posicion_1                  965 non-null object\n",
      "posicion_2                  643 non-null object\n",
      "posicion_3                  14 non-null object\n",
      "minutos_jugados_pos1        965 non-null float64\n",
      "minutos_jugados_pos2        643 non-null float64\n",
      "minutos_jugados_pos3        14 non-null float64\n",
      "ranking_pos1                965 non-null float64\n",
      "ranking_pos2                643 non-null float64\n",
      "ranking_pos3                14 non-null float64\n",
      "ranking_restringido_pos1    965 non-null float64\n",
      "ranking_restringido_pos2    643 non-null float64\n",
      "ranking_restringido_pos3    14 non-null float64\n",
      "value_2015                  507 non-null float64\n",
      "value_2016                  548 non-null float64\n",
      "edad                        965 non-null float64\n",
      "dtypes: float64(12), object(6)\n",
      "memory usage: 143.2+ KB\n"
     ]
    }
   ],
   "source": [
    "df.info()"
   ]
  },
  {
   "cell_type": "markdown",
   "metadata": {},
   "source": [
    "Dado que vamos a crear la variable total_minutos_jugados, nos conviene rellenar los valores nulos de minutos_jugados_pos2 y minutos_jugados_pos3 con ceros:"
   ]
  },
  {
   "cell_type": "code",
   "execution_count": 14,
   "metadata": {},
   "outputs": [],
   "source": [
    "df['minutos_jugados_pos2'] = df.minutos_jugados_pos2.fillna(0)"
   ]
  },
  {
   "cell_type": "code",
   "execution_count": 15,
   "metadata": {},
   "outputs": [],
   "source": [
    "df['minutos_jugados_pos3'] = df.minutos_jugados_pos3.fillna(0)"
   ]
  },
  {
   "cell_type": "code",
   "execution_count": 16,
   "metadata": {},
   "outputs": [
    {
     "name": "stdout",
     "output_type": "stream",
     "text": [
      "<class 'pandas.core.frame.DataFrame'>\n",
      "Int64Index: 965 entries, 0 to 1062\n",
      "Data columns (total 18 columns):\n",
      "jugador                     965 non-null object\n",
      "nacionalidad                965 non-null object\n",
      "equipo_x                    635 non-null object\n",
      "posicion_1                  965 non-null object\n",
      "posicion_2                  643 non-null object\n",
      "posicion_3                  14 non-null object\n",
      "minutos_jugados_pos1        965 non-null float64\n",
      "minutos_jugados_pos2        965 non-null float64\n",
      "minutos_jugados_pos3        965 non-null float64\n",
      "ranking_pos1                965 non-null float64\n",
      "ranking_pos2                643 non-null float64\n",
      "ranking_pos3                14 non-null float64\n",
      "ranking_restringido_pos1    965 non-null float64\n",
      "ranking_restringido_pos2    643 non-null float64\n",
      "ranking_restringido_pos3    14 non-null float64\n",
      "value_2015                  507 non-null float64\n",
      "value_2016                  548 non-null float64\n",
      "edad                        965 non-null float64\n",
      "dtypes: float64(12), object(6)\n",
      "memory usage: 143.2+ KB\n"
     ]
    }
   ],
   "source": [
    "df.info()"
   ]
  },
  {
   "cell_type": "code",
   "execution_count": 17,
   "metadata": {},
   "outputs": [
    {
     "data": {
      "text/plain": [
       "array(['Volante Mixto ', 'Delantero', 'Defensa central',\n",
       "       'Volante defensivo', 'Volante por izquierda',\n",
       "       'Volante por derecha', 'Lateral por derecha',\n",
       "       'Lateral por izquierda'], dtype=object)"
      ]
     },
     "execution_count": 17,
     "metadata": {},
     "output_type": "execute_result"
    }
   ],
   "source": [
    "df.posicion_1.unique()"
   ]
  },
  {
   "cell_type": "markdown",
   "metadata": {},
   "source": [
    "En el apartado de posición 1, 2 y 3 tenemos nulos en 2 y 3 y conviene remplazarlos por los strings 'No aplica':"
   ]
  },
  {
   "cell_type": "code",
   "execution_count": 18,
   "metadata": {},
   "outputs": [],
   "source": [
    "df['posicion_2'] = df.posicion_2.fillna('No aplica')\n",
    "df['posicion_3'] = df.posicion_3.fillna('No aplica')"
   ]
  },
  {
   "cell_type": "code",
   "execution_count": 19,
   "metadata": {},
   "outputs": [
    {
     "name": "stdout",
     "output_type": "stream",
     "text": [
      "<class 'pandas.core.frame.DataFrame'>\n",
      "Int64Index: 965 entries, 0 to 1062\n",
      "Data columns (total 18 columns):\n",
      "jugador                     965 non-null object\n",
      "nacionalidad                965 non-null object\n",
      "equipo_x                    635 non-null object\n",
      "posicion_1                  965 non-null object\n",
      "posicion_2                  965 non-null object\n",
      "posicion_3                  965 non-null object\n",
      "minutos_jugados_pos1        965 non-null float64\n",
      "minutos_jugados_pos2        965 non-null float64\n",
      "minutos_jugados_pos3        965 non-null float64\n",
      "ranking_pos1                965 non-null float64\n",
      "ranking_pos2                643 non-null float64\n",
      "ranking_pos3                14 non-null float64\n",
      "ranking_restringido_pos1    965 non-null float64\n",
      "ranking_restringido_pos2    643 non-null float64\n",
      "ranking_restringido_pos3    14 non-null float64\n",
      "value_2015                  507 non-null float64\n",
      "value_2016                  548 non-null float64\n",
      "edad                        965 non-null float64\n",
      "dtypes: float64(12), object(6)\n",
      "memory usage: 143.2+ KB\n"
     ]
    }
   ],
   "source": [
    "df.info()"
   ]
  },
  {
   "cell_type": "code",
   "execution_count": 20,
   "metadata": {},
   "outputs": [
    {
     "data": {
      "text/plain": [
       "count    965.000000\n",
       "mean       4.952111\n",
       "std        2.432928\n",
       "min        0.000000\n",
       "25%        3.361017\n",
       "50%        4.532143\n",
       "75%        6.289396\n",
       "max       49.500000\n",
       "Name: ranking_pos1, dtype: float64"
      ]
     },
     "execution_count": 20,
     "metadata": {},
     "output_type": "execute_result"
    }
   ],
   "source": [
    "df.ranking_pos1.describe()"
   ]
  },
  {
   "cell_type": "code",
   "execution_count": 21,
   "metadata": {},
   "outputs": [
    {
     "data": {
      "text/plain": [
       "count    643.000000\n",
       "mean       4.095810\n",
       "std        2.070979\n",
       "min        0.000000\n",
       "25%        2.304155\n",
       "50%        4.090909\n",
       "75%        5.436336\n",
       "max       14.850000\n",
       "Name: ranking_pos2, dtype: float64"
      ]
     },
     "execution_count": 21,
     "metadata": {},
     "output_type": "execute_result"
    }
   ],
   "source": [
    "df.ranking_pos2.describe()"
   ]
  },
  {
   "cell_type": "code",
   "execution_count": 22,
   "metadata": {},
   "outputs": [
    {
     "data": {
      "text/html": [
       "<div>\n",
       "<style scoped>\n",
       "    .dataframe tbody tr th:only-of-type {\n",
       "        vertical-align: middle;\n",
       "    }\n",
       "\n",
       "    .dataframe tbody tr th {\n",
       "        vertical-align: top;\n",
       "    }\n",
       "\n",
       "    .dataframe thead th {\n",
       "        text-align: right;\n",
       "    }\n",
       "</style>\n",
       "<table border=\"1\" class=\"dataframe\">\n",
       "  <thead>\n",
       "    <tr style=\"text-align: right;\">\n",
       "      <th></th>\n",
       "      <th>jugador</th>\n",
       "      <th>nacionalidad</th>\n",
       "      <th>equipo_x</th>\n",
       "      <th>posicion_1</th>\n",
       "      <th>posicion_2</th>\n",
       "      <th>posicion_3</th>\n",
       "      <th>minutos_jugados_pos1</th>\n",
       "      <th>minutos_jugados_pos2</th>\n",
       "      <th>minutos_jugados_pos3</th>\n",
       "      <th>ranking_pos1</th>\n",
       "      <th>ranking_pos2</th>\n",
       "      <th>ranking_pos3</th>\n",
       "      <th>ranking_restringido_pos1</th>\n",
       "      <th>ranking_restringido_pos2</th>\n",
       "      <th>ranking_restringido_pos3</th>\n",
       "      <th>value_2015</th>\n",
       "      <th>value_2016</th>\n",
       "      <th>edad</th>\n",
       "    </tr>\n",
       "  </thead>\n",
       "  <tbody>\n",
       "    <tr>\n",
       "      <th>472</th>\n",
       "      <td>Gonzalez, Gonzalo</td>\n",
       "      <td>Argentina</td>\n",
       "      <td>Arsenal Fútbol Club</td>\n",
       "      <td>Delantero</td>\n",
       "      <td>Delantero con Movilidad</td>\n",
       "      <td>No aplica</td>\n",
       "      <td>3.0</td>\n",
       "      <td>3.0</td>\n",
       "      <td>0.0</td>\n",
       "      <td>0.0</td>\n",
       "      <td>0.0</td>\n",
       "      <td>NaN</td>\n",
       "      <td>0.0</td>\n",
       "      <td>0.0</td>\n",
       "      <td>NaN</td>\n",
       "      <td>NaN</td>\n",
       "      <td>NaN</td>\n",
       "      <td>21.1</td>\n",
       "    </tr>\n",
       "    <tr>\n",
       "      <th>530</th>\n",
       "      <td>Lattanzio, Carlo</td>\n",
       "      <td>Argentina</td>\n",
       "      <td>NaN</td>\n",
       "      <td>Delantero</td>\n",
       "      <td>Delantero con Movilidad</td>\n",
       "      <td>No aplica</td>\n",
       "      <td>3.0</td>\n",
       "      <td>3.0</td>\n",
       "      <td>0.0</td>\n",
       "      <td>0.0</td>\n",
       "      <td>0.0</td>\n",
       "      <td>NaN</td>\n",
       "      <td>0.0</td>\n",
       "      <td>0.0</td>\n",
       "      <td>NaN</td>\n",
       "      <td>NaN</td>\n",
       "      <td>NaN</td>\n",
       "      <td>18.5</td>\n",
       "    </tr>\n",
       "    <tr>\n",
       "      <th>531</th>\n",
       "      <td>Laurito, Federico</td>\n",
       "      <td>Argentina</td>\n",
       "      <td>Arsenal Fútbol Club</td>\n",
       "      <td>Delantero</td>\n",
       "      <td>Delantero con Movilidad</td>\n",
       "      <td>No aplica</td>\n",
       "      <td>1.0</td>\n",
       "      <td>1.0</td>\n",
       "      <td>0.0</td>\n",
       "      <td>0.0</td>\n",
       "      <td>0.0</td>\n",
       "      <td>NaN</td>\n",
       "      <td>0.0</td>\n",
       "      <td>0.0</td>\n",
       "      <td>NaN</td>\n",
       "      <td>0.8</td>\n",
       "      <td>NaN</td>\n",
       "      <td>25.7</td>\n",
       "    </tr>\n",
       "    <tr>\n",
       "      <th>968</th>\n",
       "      <td>Torres, Jonatan</td>\n",
       "      <td>Argentina</td>\n",
       "      <td>NaN</td>\n",
       "      <td>Delantero</td>\n",
       "      <td>Delantero con Movilidad</td>\n",
       "      <td>No aplica</td>\n",
       "      <td>2.0</td>\n",
       "      <td>2.0</td>\n",
       "      <td>0.0</td>\n",
       "      <td>4.5</td>\n",
       "      <td>0.0</td>\n",
       "      <td>NaN</td>\n",
       "      <td>0.0</td>\n",
       "      <td>0.0</td>\n",
       "      <td>NaN</td>\n",
       "      <td>NaN</td>\n",
       "      <td>NaN</td>\n",
       "      <td>19.1</td>\n",
       "    </tr>\n",
       "  </tbody>\n",
       "</table>\n",
       "</div>"
      ],
      "text/plain": [
       "               jugador nacionalidad             equipo_x posicion_1  \\\n",
       "472  Gonzalez, Gonzalo    Argentina  Arsenal Fútbol Club  Delantero   \n",
       "530   Lattanzio, Carlo    Argentina                  NaN  Delantero   \n",
       "531  Laurito, Federico    Argentina  Arsenal Fútbol Club  Delantero   \n",
       "968    Torres, Jonatan    Argentina                  NaN  Delantero   \n",
       "\n",
       "                  posicion_2 posicion_3  minutos_jugados_pos1  \\\n",
       "472  Delantero con Movilidad  No aplica                   3.0   \n",
       "530  Delantero con Movilidad  No aplica                   3.0   \n",
       "531  Delantero con Movilidad  No aplica                   1.0   \n",
       "968  Delantero con Movilidad  No aplica                   2.0   \n",
       "\n",
       "     minutos_jugados_pos2  minutos_jugados_pos3  ranking_pos1  ranking_pos2  \\\n",
       "472                   3.0                   0.0           0.0           0.0   \n",
       "530                   3.0                   0.0           0.0           0.0   \n",
       "531                   1.0                   0.0           0.0           0.0   \n",
       "968                   2.0                   0.0           4.5           0.0   \n",
       "\n",
       "     ranking_pos3  ranking_restringido_pos1  ranking_restringido_pos2  \\\n",
       "472           NaN                       0.0                       0.0   \n",
       "530           NaN                       0.0                       0.0   \n",
       "531           NaN                       0.0                       0.0   \n",
       "968           NaN                       0.0                       0.0   \n",
       "\n",
       "     ranking_restringido_pos3  value_2015  value_2016  edad  \n",
       "472                       NaN         NaN         NaN  21.1  \n",
       "530                       NaN         NaN         NaN  18.5  \n",
       "531                       NaN         0.8         NaN  25.7  \n",
       "968                       NaN         NaN         NaN  19.1  "
      ]
     },
     "execution_count": 22,
     "metadata": {},
     "output_type": "execute_result"
    }
   ],
   "source": [
    "df[df.ranking_pos2 == 0]"
   ]
  },
  {
   "cell_type": "markdown",
   "metadata": {},
   "source": [
    "El único jugador con un ranking_pos2 igual a cero es un jugador que sólo jugó dos minutos durante la temporada. Reemplacemos los NAN de ranking_pos2 por ceros: "
   ]
  },
  {
   "cell_type": "code",
   "execution_count": 23,
   "metadata": {},
   "outputs": [],
   "source": [
    "df['ranking_pos2'] = df.ranking_pos2.fillna(0)"
   ]
  },
  {
   "cell_type": "code",
   "execution_count": 24,
   "metadata": {},
   "outputs": [
    {
     "name": "stdout",
     "output_type": "stream",
     "text": [
      "<class 'pandas.core.frame.DataFrame'>\n",
      "Int64Index: 965 entries, 0 to 1062\n",
      "Data columns (total 18 columns):\n",
      "jugador                     965 non-null object\n",
      "nacionalidad                965 non-null object\n",
      "equipo_x                    635 non-null object\n",
      "posicion_1                  965 non-null object\n",
      "posicion_2                  965 non-null object\n",
      "posicion_3                  965 non-null object\n",
      "minutos_jugados_pos1        965 non-null float64\n",
      "minutos_jugados_pos2        965 non-null float64\n",
      "minutos_jugados_pos3        965 non-null float64\n",
      "ranking_pos1                965 non-null float64\n",
      "ranking_pos2                965 non-null float64\n",
      "ranking_pos3                14 non-null float64\n",
      "ranking_restringido_pos1    965 non-null float64\n",
      "ranking_restringido_pos2    643 non-null float64\n",
      "ranking_restringido_pos3    14 non-null float64\n",
      "value_2015                  507 non-null float64\n",
      "value_2016                  548 non-null float64\n",
      "edad                        965 non-null float64\n",
      "dtypes: float64(12), object(6)\n",
      "memory usage: 143.2+ KB\n"
     ]
    }
   ],
   "source": [
    "df.info()"
   ]
  },
  {
   "cell_type": "code",
   "execution_count": 25,
   "metadata": {},
   "outputs": [
    {
     "data": {
      "text/plain": [
       "count    14.000000\n",
       "mean      4.206852\n",
       "std       1.487943\n",
       "min       1.289879\n",
       "25%       3.498047\n",
       "50%       4.268204\n",
       "75%       5.445656\n",
       "max       6.071831\n",
       "Name: ranking_pos3, dtype: float64"
      ]
     },
     "execution_count": 25,
     "metadata": {},
     "output_type": "execute_result"
    }
   ],
   "source": [
    "df.ranking_pos3.describe()"
   ]
  },
  {
   "cell_type": "markdown",
   "metadata": {},
   "source": [
    "El mínimo de ranking_pos3 es 3.65, no habría problema de rellenar los datos faltantes con ceros:"
   ]
  },
  {
   "cell_type": "code",
   "execution_count": 26,
   "metadata": {},
   "outputs": [],
   "source": [
    "df['ranking_pos3'] = df.ranking_pos3.fillna(0)"
   ]
  },
  {
   "cell_type": "code",
   "execution_count": 27,
   "metadata": {},
   "outputs": [
    {
     "name": "stdout",
     "output_type": "stream",
     "text": [
      "<class 'pandas.core.frame.DataFrame'>\n",
      "Int64Index: 965 entries, 0 to 1062\n",
      "Data columns (total 18 columns):\n",
      "jugador                     965 non-null object\n",
      "nacionalidad                965 non-null object\n",
      "equipo_x                    635 non-null object\n",
      "posicion_1                  965 non-null object\n",
      "posicion_2                  965 non-null object\n",
      "posicion_3                  965 non-null object\n",
      "minutos_jugados_pos1        965 non-null float64\n",
      "minutos_jugados_pos2        965 non-null float64\n",
      "minutos_jugados_pos3        965 non-null float64\n",
      "ranking_pos1                965 non-null float64\n",
      "ranking_pos2                965 non-null float64\n",
      "ranking_pos3                965 non-null float64\n",
      "ranking_restringido_pos1    965 non-null float64\n",
      "ranking_restringido_pos2    643 non-null float64\n",
      "ranking_restringido_pos3    14 non-null float64\n",
      "value_2015                  507 non-null float64\n",
      "value_2016                  548 non-null float64\n",
      "edad                        965 non-null float64\n",
      "dtypes: float64(12), object(6)\n",
      "memory usage: 143.2+ KB\n"
     ]
    }
   ],
   "source": [
    "df.info()"
   ]
  },
  {
   "cell_type": "code",
   "execution_count": 28,
   "metadata": {},
   "outputs": [
    {
     "data": {
      "text/html": [
       "<div>\n",
       "<style scoped>\n",
       "    .dataframe tbody tr th:only-of-type {\n",
       "        vertical-align: middle;\n",
       "    }\n",
       "\n",
       "    .dataframe tbody tr th {\n",
       "        vertical-align: top;\n",
       "    }\n",
       "\n",
       "    .dataframe thead th {\n",
       "        text-align: right;\n",
       "    }\n",
       "</style>\n",
       "<table border=\"1\" class=\"dataframe\">\n",
       "  <thead>\n",
       "    <tr style=\"text-align: right;\">\n",
       "      <th></th>\n",
       "      <th>jugador</th>\n",
       "      <th>nacionalidad</th>\n",
       "      <th>equipo_x</th>\n",
       "      <th>posicion_1</th>\n",
       "      <th>posicion_2</th>\n",
       "      <th>posicion_3</th>\n",
       "      <th>minutos_jugados_pos1</th>\n",
       "      <th>minutos_jugados_pos2</th>\n",
       "      <th>minutos_jugados_pos3</th>\n",
       "      <th>ranking_pos1</th>\n",
       "      <th>ranking_pos2</th>\n",
       "      <th>ranking_pos3</th>\n",
       "      <th>ranking_restringido_pos1</th>\n",
       "      <th>ranking_restringido_pos2</th>\n",
       "      <th>ranking_restringido_pos3</th>\n",
       "      <th>value_2015</th>\n",
       "      <th>value_2016</th>\n",
       "      <th>edad</th>\n",
       "    </tr>\n",
       "  </thead>\n",
       "  <tbody>\n",
       "    <tr>\n",
       "      <th>0</th>\n",
       "      <td>Abelairas, Matias</td>\n",
       "      <td>Argentina</td>\n",
       "      <td>NaN</td>\n",
       "      <td>Volante Mixto</td>\n",
       "      <td>Volante ofensivo</td>\n",
       "      <td>No aplica</td>\n",
       "      <td>128.0</td>\n",
       "      <td>128.0</td>\n",
       "      <td>0.0</td>\n",
       "      <td>9.485156</td>\n",
       "      <td>6.644531</td>\n",
       "      <td>0.0</td>\n",
       "      <td>0.0</td>\n",
       "      <td>0.0</td>\n",
       "      <td>NaN</td>\n",
       "      <td>NaN</td>\n",
       "      <td>NaN</td>\n",
       "      <td>30.6</td>\n",
       "    </tr>\n",
       "    <tr>\n",
       "      <th>2</th>\n",
       "      <td>Acevedo, Lucas</td>\n",
       "      <td>Argentina</td>\n",
       "      <td>NaN</td>\n",
       "      <td>Defensa central</td>\n",
       "      <td>No aplica</td>\n",
       "      <td>No aplica</td>\n",
       "      <td>379.0</td>\n",
       "      <td>0.0</td>\n",
       "      <td>0.0</td>\n",
       "      <td>7.387124</td>\n",
       "      <td>0.000000</td>\n",
       "      <td>0.0</td>\n",
       "      <td>0.0</td>\n",
       "      <td>NaN</td>\n",
       "      <td>NaN</td>\n",
       "      <td>NaN</td>\n",
       "      <td>NaN</td>\n",
       "      <td>24.2</td>\n",
       "    </tr>\n",
       "    <tr>\n",
       "      <th>5</th>\n",
       "      <td>Acevedo, Walter</td>\n",
       "      <td>Argentina</td>\n",
       "      <td>NaN</td>\n",
       "      <td>Volante defensivo</td>\n",
       "      <td>Volante Mixto</td>\n",
       "      <td>No aplica</td>\n",
       "      <td>538.0</td>\n",
       "      <td>538.0</td>\n",
       "      <td>0.0</td>\n",
       "      <td>8.406134</td>\n",
       "      <td>7.415799</td>\n",
       "      <td>0.0</td>\n",
       "      <td>0.0</td>\n",
       "      <td>0.0</td>\n",
       "      <td>NaN</td>\n",
       "      <td>NaN</td>\n",
       "      <td>NaN</td>\n",
       "      <td>29.9</td>\n",
       "    </tr>\n",
       "    <tr>\n",
       "      <th>11</th>\n",
       "      <td>Affranchino, Facundo</td>\n",
       "      <td>Argentina</td>\n",
       "      <td>NaN</td>\n",
       "      <td>Volante por derecha</td>\n",
       "      <td>Volante Mixto</td>\n",
       "      <td>No aplica</td>\n",
       "      <td>389.0</td>\n",
       "      <td>389.0</td>\n",
       "      <td>0.0</td>\n",
       "      <td>3.100257</td>\n",
       "      <td>3.861440</td>\n",
       "      <td>0.0</td>\n",
       "      <td>0.0</td>\n",
       "      <td>0.0</td>\n",
       "      <td>NaN</td>\n",
       "      <td>NaN</td>\n",
       "      <td>NaN</td>\n",
       "      <td>25.9</td>\n",
       "    </tr>\n",
       "    <tr>\n",
       "      <th>18</th>\n",
       "      <td>Aguirregaray, Matias</td>\n",
       "      <td>Uruguaya</td>\n",
       "      <td>Club Estudiantes de La Plata</td>\n",
       "      <td>Lateral por derecha</td>\n",
       "      <td>No aplica</td>\n",
       "      <td>No aplica</td>\n",
       "      <td>662.0</td>\n",
       "      <td>0.0</td>\n",
       "      <td>0.0</td>\n",
       "      <td>4.320544</td>\n",
       "      <td>0.000000</td>\n",
       "      <td>0.0</td>\n",
       "      <td>0.0</td>\n",
       "      <td>NaN</td>\n",
       "      <td>NaN</td>\n",
       "      <td>1.5</td>\n",
       "      <td>1.7</td>\n",
       "      <td>26.8</td>\n",
       "    </tr>\n",
       "  </tbody>\n",
       "</table>\n",
       "</div>"
      ],
      "text/plain": [
       "                 jugador nacionalidad                      equipo_x  \\\n",
       "0      Abelairas, Matias    Argentina                           NaN   \n",
       "2         Acevedo, Lucas    Argentina                           NaN   \n",
       "5        Acevedo, Walter    Argentina                           NaN   \n",
       "11  Affranchino, Facundo    Argentina                           NaN   \n",
       "18  Aguirregaray, Matias     Uruguaya  Club Estudiantes de La Plata   \n",
       "\n",
       "             posicion_1        posicion_2 posicion_3  minutos_jugados_pos1  \\\n",
       "0        Volante Mixto   Volante ofensivo  No aplica                 128.0   \n",
       "2       Defensa central         No aplica  No aplica                 379.0   \n",
       "5     Volante defensivo    Volante Mixto   No aplica                 538.0   \n",
       "11  Volante por derecha    Volante Mixto   No aplica                 389.0   \n",
       "18  Lateral por derecha         No aplica  No aplica                 662.0   \n",
       "\n",
       "    minutos_jugados_pos2  minutos_jugados_pos3  ranking_pos1  ranking_pos2  \\\n",
       "0                  128.0                   0.0      9.485156      6.644531   \n",
       "2                    0.0                   0.0      7.387124      0.000000   \n",
       "5                  538.0                   0.0      8.406134      7.415799   \n",
       "11                 389.0                   0.0      3.100257      3.861440   \n",
       "18                   0.0                   0.0      4.320544      0.000000   \n",
       "\n",
       "    ranking_pos3  ranking_restringido_pos1  ranking_restringido_pos2  \\\n",
       "0            0.0                       0.0                       0.0   \n",
       "2            0.0                       0.0                       NaN   \n",
       "5            0.0                       0.0                       0.0   \n",
       "11           0.0                       0.0                       0.0   \n",
       "18           0.0                       0.0                       NaN   \n",
       "\n",
       "    ranking_restringido_pos3  value_2015  value_2016  edad  \n",
       "0                        NaN         NaN         NaN  30.6  \n",
       "2                        NaN         NaN         NaN  24.2  \n",
       "5                        NaN         NaN         NaN  29.9  \n",
       "11                       NaN         NaN         NaN  25.9  \n",
       "18                       NaN         1.5         1.7  26.8  "
      ]
     },
     "execution_count": 28,
     "metadata": {},
     "output_type": "execute_result"
    }
   ],
   "source": [
    "df[df.ranking_restringido_pos1 == 0].head()"
   ]
  },
  {
   "cell_type": "markdown",
   "metadata": {},
   "source": [
    "Está variable tiene más valores cero pues, por definición, si el jugador no cumple con un cierto umbral de minutos de juego en la temporada, se manda a cero. Revisemos las variables para posición 2 y 3:"
   ]
  },
  {
   "cell_type": "code",
   "execution_count": 29,
   "metadata": {},
   "outputs": [
    {
     "data": {
      "text/plain": [
       "291"
      ]
     },
     "execution_count": 29,
     "metadata": {},
     "output_type": "execute_result"
    }
   ],
   "source": [
    "len(df[df.ranking_restringido_pos2 == 0])"
   ]
  },
  {
   "cell_type": "markdown",
   "metadata": {},
   "source": [
    "93 de los 266 valores no nulos son cero. Remplacemos los NAN por ceros:"
   ]
  },
  {
   "cell_type": "code",
   "execution_count": 30,
   "metadata": {},
   "outputs": [],
   "source": [
    "df['ranking_restringido_pos2'] = df.ranking_restringido_pos2.fillna(0)"
   ]
  },
  {
   "cell_type": "code",
   "execution_count": 31,
   "metadata": {},
   "outputs": [
    {
     "name": "stdout",
     "output_type": "stream",
     "text": [
      "<class 'pandas.core.frame.DataFrame'>\n",
      "Int64Index: 965 entries, 0 to 1062\n",
      "Data columns (total 18 columns):\n",
      "jugador                     965 non-null object\n",
      "nacionalidad                965 non-null object\n",
      "equipo_x                    635 non-null object\n",
      "posicion_1                  965 non-null object\n",
      "posicion_2                  965 non-null object\n",
      "posicion_3                  965 non-null object\n",
      "minutos_jugados_pos1        965 non-null float64\n",
      "minutos_jugados_pos2        965 non-null float64\n",
      "minutos_jugados_pos3        965 non-null float64\n",
      "ranking_pos1                965 non-null float64\n",
      "ranking_pos2                965 non-null float64\n",
      "ranking_pos3                965 non-null float64\n",
      "ranking_restringido_pos1    965 non-null float64\n",
      "ranking_restringido_pos2    965 non-null float64\n",
      "ranking_restringido_pos3    14 non-null float64\n",
      "value_2015                  507 non-null float64\n",
      "value_2016                  548 non-null float64\n",
      "edad                        965 non-null float64\n",
      "dtypes: float64(12), object(6)\n",
      "memory usage: 143.2+ KB\n"
     ]
    }
   ],
   "source": [
    "df.info()"
   ]
  },
  {
   "cell_type": "code",
   "execution_count": 32,
   "metadata": {},
   "outputs": [],
   "source": [
    "df['ranking_restringido_pos3'] = df.ranking_restringido_pos3.fillna(0)"
   ]
  },
  {
   "cell_type": "code",
   "execution_count": 33,
   "metadata": {},
   "outputs": [
    {
     "name": "stdout",
     "output_type": "stream",
     "text": [
      "<class 'pandas.core.frame.DataFrame'>\n",
      "Int64Index: 965 entries, 0 to 1062\n",
      "Data columns (total 18 columns):\n",
      "jugador                     965 non-null object\n",
      "nacionalidad                965 non-null object\n",
      "equipo_x                    635 non-null object\n",
      "posicion_1                  965 non-null object\n",
      "posicion_2                  965 non-null object\n",
      "posicion_3                  965 non-null object\n",
      "minutos_jugados_pos1        965 non-null float64\n",
      "minutos_jugados_pos2        965 non-null float64\n",
      "minutos_jugados_pos3        965 non-null float64\n",
      "ranking_pos1                965 non-null float64\n",
      "ranking_pos2                965 non-null float64\n",
      "ranking_pos3                965 non-null float64\n",
      "ranking_restringido_pos1    965 non-null float64\n",
      "ranking_restringido_pos2    965 non-null float64\n",
      "ranking_restringido_pos3    965 non-null float64\n",
      "value_2015                  507 non-null float64\n",
      "value_2016                  548 non-null float64\n",
      "edad                        965 non-null float64\n",
      "dtypes: float64(12), object(6)\n",
      "memory usage: 143.2+ KB\n"
     ]
    }
   ],
   "source": [
    "df.info()"
   ]
  },
  {
   "cell_type": "code",
   "execution_count": 34,
   "metadata": {},
   "outputs": [
    {
     "data": {
      "image/png": "[encoded data removed]",
      "text/plain": [
       "<Figure size 576x288 with 1 Axes>"
      ]
     },
     "metadata": {},
     "output_type": "display_data"
    },
    {
     "name": "stdout",
     "output_type": "stream",
     "text": [
      "El valor promedio de un jugador en temporada 2015 es 0.75 millones de euros\n"
     ]
    }
   ],
   "source": [
    "plt.figure(figsize = (8,4))\n",
    "df.value_2015.hist(bins = 120)\n",
    "plt.title('Histograma de Precios de Jugadores en 2015', fontsize = 15)\n",
    "plt.xlabel('Precio en Millones de Euros', fontsize = 12)\n",
    "plt.ylabel('Número de Jugadores', fontsize = 12);\n",
    "plt.xlim(0, df.value_2015.quantile(0.99));\n",
    "plt.show()\n",
    "print('El valor promedio de un jugador en temporada 2015 es %1.2f' %df.value_2015.mean() + ' millones de euros');"
   ]
  },
  {
   "cell_type": "code",
   "execution_count": 35,
   "metadata": {},
   "outputs": [
    {
     "data": {
      "text/plain": [
       "count    507.000000\n",
       "mean       0.752367\n",
       "std        1.221002\n",
       "min        0.025000\n",
       "25%        0.262500\n",
       "50%        0.500000\n",
       "75%        0.850000\n",
       "max       23.000000\n",
       "Name: value_2015, dtype: float64"
      ]
     },
     "execution_count": 35,
     "metadata": {},
     "output_type": "execute_result"
    }
   ],
   "source": [
    "df.value_2015.describe()"
   ]
  },
  {
   "cell_type": "markdown",
   "metadata": {},
   "source": [
    "Dado que tenemos jugadores muy caros en el dataframe, el valor promedio de los jugadores es de 0.76 millones a pesar de que el 75% de los valores de los jugadores es menor a 0.8 millones de euros. En este caso no combiene rellenar los valores nulos con el valor promedio, pero ¿con qué se podrían rellenar?\n",
    "Dado que los jugadores sin valor en 2015 deben ser principiantes o poco destacados, nos combiene rellenar estos valores con un valor pequeño."
   ]
  },
  {
   "cell_type": "code",
   "execution_count": 36,
   "metadata": {},
   "outputs": [
    {
     "name": "stdout",
     "output_type": "stream",
     "text": [
      "La moda es: 0.4 millones de euros\n"
     ]
    }
   ],
   "source": [
    "print('La moda es: %1.1f' %df.value_2015.mode()[0] + ' millones de euros')"
   ]
  },
  {
   "cell_type": "markdown",
   "metadata": {},
   "source": [
    "Este valor resulta más adecuado que el promedio, pero quizás sigue siendo demasiado para los jugadores a los que vamos a asignarle este precio. Tomando en cuenta que estos jugadores deben ser de los más baratos, consideremos el cuantil del 5% y asignemos este número para rellenar los no-nulos:"
   ]
  },
  {
   "cell_type": "code",
   "execution_count": 37,
   "metadata": {},
   "outputs": [
    {
     "name": "stdout",
     "output_type": "stream",
     "text": [
      "El cuantil del 5 por ciento es: 0.05 millones de euros\n"
     ]
    }
   ],
   "source": [
    "print('El cuantil del 5 por ciento es: %1.2f' %df.value_2015.quantile(0.05) + ' millones de euros')"
   ]
  },
  {
   "cell_type": "code",
   "execution_count": 38,
   "metadata": {},
   "outputs": [],
   "source": [
    "df['value_2015'] = df.value_2015.fillna(df.value_2015.quantile(0.05))"
   ]
  },
  {
   "cell_type": "markdown",
   "metadata": {},
   "source": [
    "Procediendo de la misma manera para los valores nulos de value_2016:"
   ]
  },
  {
   "cell_type": "code",
   "execution_count": 39,
   "metadata": {},
   "outputs": [
    {
     "name": "stdout",
     "output_type": "stream",
     "text": [
      "<class 'pandas.core.frame.DataFrame'>\n",
      "Int64Index: 965 entries, 0 to 1062\n",
      "Data columns (total 18 columns):\n",
      "jugador                     965 non-null object\n",
      "nacionalidad                965 non-null object\n",
      "equipo_x                    635 non-null object\n",
      "posicion_1                  965 non-null object\n",
      "posicion_2                  965 non-null object\n",
      "posicion_3                  965 non-null object\n",
      "minutos_jugados_pos1        965 non-null float64\n",
      "minutos_jugados_pos2        965 non-null float64\n",
      "minutos_jugados_pos3        965 non-null float64\n",
      "ranking_pos1                965 non-null float64\n",
      "ranking_pos2                965 non-null float64\n",
      "ranking_pos3                965 non-null float64\n",
      "ranking_restringido_pos1    965 non-null float64\n",
      "ranking_restringido_pos2    965 non-null float64\n",
      "ranking_restringido_pos3    965 non-null float64\n",
      "value_2015                  965 non-null float64\n",
      "value_2016                  548 non-null float64\n",
      "edad                        965 non-null float64\n",
      "dtypes: float64(12), object(6)\n",
      "memory usage: 143.2+ KB\n"
     ]
    }
   ],
   "source": [
    "df.info()"
   ]
  },
  {
   "cell_type": "markdown",
   "metadata": {},
   "source": [
    "Dado que sólo son 9 valores nulos, una primera opción sería sólo eliminar estos renglones y trabajar con los datos restantes. No obstante, repitamos el análisis de antes:"
   ]
  },
  {
   "cell_type": "code",
   "execution_count": 40,
   "metadata": {},
   "outputs": [
    {
     "data": {
      "image/png": "[encoded data removed]",
      "text/plain": [
       "<Figure size 576x288 with 1 Axes>"
      ]
     },
     "metadata": {},
     "output_type": "display_data"
    },
    {
     "name": "stdout",
     "output_type": "stream",
     "text": [
      "El valor promedio de un jugador en temporada 2016 es 0.91 millones de euros\n"
     ]
    }
   ],
   "source": [
    "plt.figure(figsize = (8,4))\n",
    "df.value_2016.hist(bins = 120)\n",
    "plt.title('Histograma de Precios de Jugadores en 2016', fontsize = 15)\n",
    "plt.xlabel('Precio en Millones de Euros', fontsize = 12)\n",
    "plt.ylabel('Número de Jugadores', fontsize = 12);\n",
    "plt.xlim(0, df.value_2016.quantile(0.99));\n",
    "plt.show()\n",
    "print('El valor promedio de un jugador en temporada 2016 es %1.2f' %df.value_2016.mean() + ' millones de euros')\n"
   ]
  },
  {
   "cell_type": "markdown",
   "metadata": {},
   "source": [
    "Pensando de nuevo que estos valores nulos corresponden a jugadores de bajo nivel:"
   ]
  },
  {
   "cell_type": "code",
   "execution_count": 41,
   "metadata": {},
   "outputs": [
    {
     "data": {
      "text/plain": [
       "count    548.000000\n",
       "mean       0.911533\n",
       "std        1.234658\n",
       "min        0.050000\n",
       "25%        0.300000\n",
       "50%        0.500000\n",
       "75%        0.900000\n",
       "max       15.000000\n",
       "Name: value_2016, dtype: float64"
      ]
     },
     "execution_count": 41,
     "metadata": {},
     "output_type": "execute_result"
    }
   ],
   "source": [
    "df.value_2016.describe()"
   ]
  },
  {
   "cell_type": "markdown",
   "metadata": {},
   "source": [
    "De nuevo el promedio es demasiado para la clase de jugadores a los que estamos intentando asignarles un precio. Volvamos a usar el cuantil del 5%:"
   ]
  },
  {
   "cell_type": "code",
   "execution_count": 42,
   "metadata": {},
   "outputs": [
    {
     "data": {
      "text/plain": [
       "0.1"
      ]
     },
     "execution_count": 42,
     "metadata": {},
     "output_type": "execute_result"
    }
   ],
   "source": [
    "df.value_2016.quantile(0.05)"
   ]
  },
  {
   "cell_type": "code",
   "execution_count": 43,
   "metadata": {},
   "outputs": [],
   "source": [
    "df['value_2016'] = df.value_2016.fillna(df.value_2016.quantile(0.05))"
   ]
  },
  {
   "cell_type": "code",
   "execution_count": 44,
   "metadata": {},
   "outputs": [
    {
     "name": "stdout",
     "output_type": "stream",
     "text": [
      "<class 'pandas.core.frame.DataFrame'>\n",
      "Int64Index: 965 entries, 0 to 1062\n",
      "Data columns (total 18 columns):\n",
      "jugador                     965 non-null object\n",
      "nacionalidad                965 non-null object\n",
      "equipo_x                    635 non-null object\n",
      "posicion_1                  965 non-null object\n",
      "posicion_2                  965 non-null object\n",
      "posicion_3                  965 non-null object\n",
      "minutos_jugados_pos1        965 non-null float64\n",
      "minutos_jugados_pos2        965 non-null float64\n",
      "minutos_jugados_pos3        965 non-null float64\n",
      "ranking_pos1                965 non-null float64\n",
      "ranking_pos2                965 non-null float64\n",
      "ranking_pos3                965 non-null float64\n",
      "ranking_restringido_pos1    965 non-null float64\n",
      "ranking_restringido_pos2    965 non-null float64\n",
      "ranking_restringido_pos3    965 non-null float64\n",
      "value_2015                  965 non-null float64\n",
      "value_2016                  965 non-null float64\n",
      "edad                        965 non-null float64\n",
      "dtypes: float64(12), object(6)\n",
      "memory usage: 143.2+ KB\n"
     ]
    }
   ],
   "source": [
    "df.info()"
   ]
  },
  {
   "cell_type": "markdown",
   "metadata": {},
   "source": [
    "Con lo que hemos terminado el tratamiento.\n",
    "\n",
    "## Creación de Variables"
   ]
  },
  {
   "cell_type": "markdown",
   "metadata": {},
   "source": [
    "Notamos que los valores de minutos jugados en posición 1 y 2 se repiten en demasiadas ocasiones. Esto es información redundante y no debe usarse para la nueva variable minutos totales jugados.\n",
    "\n",
    "Filtramos las columnas en las que los minutos jugados en posición 1 y posición 2 son diferentes y además los minutos jugados en posición 2 son distintos de cero:  "
   ]
  },
  {
   "cell_type": "code",
   "execution_count": 45,
   "metadata": {},
   "outputs": [],
   "source": [
    "def total_minutes(df):\n",
    "    min_pos1 = df['minutos_jugados_pos1']\n",
    "    min_pos2 = df['minutos_jugados_pos2']\n",
    "    min_pos3 = df['minutos_jugados_pos3']\n",
    "    \n",
    "    df['minutos_totales'] = np.where((min_pos1 == min_pos2) & (min_pos3 == 0) , min_pos1,\n",
    "                                 np.where((min_pos1 == min_pos2) & (min_pos3 !=0), min_pos1 + min_pos3,\n",
    "                                          np.where(min_pos2 == min_pos3, min_pos1 + min_pos2, \n",
    "                                                   np.where((min_pos1 != min_pos2) & (min_pos2 != min_pos3), \n",
    "                                                            min_pos1 + min_pos2 + min_pos3, min_pos1 + min_pos2))))"
   ]
  },
  {
   "cell_type": "code",
   "execution_count": 46,
   "metadata": {},
   "outputs": [],
   "source": [
    "total_minutes(df)"
   ]
  },
  {
   "cell_type": "markdown",
   "metadata": {},
   "source": [
    "Prueba de que sí sirve:"
   ]
  },
  {
   "cell_type": "code",
   "execution_count": 47,
   "metadata": {},
   "outputs": [
    {
     "data": {
      "text/html": [
       "<div>\n",
       "<style scoped>\n",
       "    .dataframe tbody tr th:only-of-type {\n",
       "        vertical-align: middle;\n",
       "    }\n",
       "\n",
       "    .dataframe tbody tr th {\n",
       "        vertical-align: top;\n",
       "    }\n",
       "\n",
       "    .dataframe thead th {\n",
       "        text-align: right;\n",
       "    }\n",
       "</style>\n",
       "<table border=\"1\" class=\"dataframe\">\n",
       "  <thead>\n",
       "    <tr style=\"text-align: right;\">\n",
       "      <th></th>\n",
       "      <th>minutos_jugados_pos1</th>\n",
       "      <th>minutos_jugados_pos2</th>\n",
       "      <th>minutos_jugados_pos3</th>\n",
       "      <th>minutos_totales</th>\n",
       "    </tr>\n",
       "  </thead>\n",
       "  <tbody>\n",
       "    <tr>\n",
       "      <th>707</th>\n",
       "      <td>252.0</td>\n",
       "      <td>994.0</td>\n",
       "      <td>994.0</td>\n",
       "      <td>1246.0</td>\n",
       "    </tr>\n",
       "    <tr>\n",
       "      <th>709</th>\n",
       "      <td>252.0</td>\n",
       "      <td>994.0</td>\n",
       "      <td>994.0</td>\n",
       "      <td>1246.0</td>\n",
       "    </tr>\n",
       "    <tr>\n",
       "      <th>747</th>\n",
       "      <td>155.0</td>\n",
       "      <td>155.0</td>\n",
       "      <td>1266.0</td>\n",
       "      <td>1421.0</td>\n",
       "    </tr>\n",
       "    <tr>\n",
       "      <th>835</th>\n",
       "      <td>14.0</td>\n",
       "      <td>14.0</td>\n",
       "      <td>197.0</td>\n",
       "      <td>211.0</td>\n",
       "    </tr>\n",
       "    <tr>\n",
       "      <th>842</th>\n",
       "      <td>714.0</td>\n",
       "      <td>714.0</td>\n",
       "      <td>1887.0</td>\n",
       "      <td>2601.0</td>\n",
       "    </tr>\n",
       "    <tr>\n",
       "      <th>852</th>\n",
       "      <td>498.0</td>\n",
       "      <td>573.0</td>\n",
       "      <td>573.0</td>\n",
       "      <td>1071.0</td>\n",
       "    </tr>\n",
       "    <tr>\n",
       "      <th>949</th>\n",
       "      <td>954.0</td>\n",
       "      <td>954.0</td>\n",
       "      <td>2399.0</td>\n",
       "      <td>3353.0</td>\n",
       "    </tr>\n",
       "    <tr>\n",
       "      <th>966</th>\n",
       "      <td>3.0</td>\n",
       "      <td>247.0</td>\n",
       "      <td>247.0</td>\n",
       "      <td>250.0</td>\n",
       "    </tr>\n",
       "    <tr>\n",
       "      <th>979</th>\n",
       "      <td>22.0</td>\n",
       "      <td>76.0</td>\n",
       "      <td>76.0</td>\n",
       "      <td>98.0</td>\n",
       "    </tr>\n",
       "    <tr>\n",
       "      <th>981</th>\n",
       "      <td>143.0</td>\n",
       "      <td>673.0</td>\n",
       "      <td>673.0</td>\n",
       "      <td>816.0</td>\n",
       "    </tr>\n",
       "    <tr>\n",
       "      <th>983</th>\n",
       "      <td>143.0</td>\n",
       "      <td>673.0</td>\n",
       "      <td>673.0</td>\n",
       "      <td>816.0</td>\n",
       "    </tr>\n",
       "    <tr>\n",
       "      <th>1027</th>\n",
       "      <td>1298.0</td>\n",
       "      <td>1298.0</td>\n",
       "      <td>1735.0</td>\n",
       "      <td>3033.0</td>\n",
       "    </tr>\n",
       "    <tr>\n",
       "      <th>1059</th>\n",
       "      <td>432.0</td>\n",
       "      <td>2466.0</td>\n",
       "      <td>2466.0</td>\n",
       "      <td>2898.0</td>\n",
       "    </tr>\n",
       "    <tr>\n",
       "      <th>1060</th>\n",
       "      <td>432.0</td>\n",
       "      <td>2466.0</td>\n",
       "      <td>2466.0</td>\n",
       "      <td>2898.0</td>\n",
       "    </tr>\n",
       "  </tbody>\n",
       "</table>\n",
       "</div>"
      ],
      "text/plain": [
       "      minutos_jugados_pos1  minutos_jugados_pos2  minutos_jugados_pos3  \\\n",
       "707                  252.0                 994.0                 994.0   \n",
       "709                  252.0                 994.0                 994.0   \n",
       "747                  155.0                 155.0                1266.0   \n",
       "835                   14.0                  14.0                 197.0   \n",
       "842                  714.0                 714.0                1887.0   \n",
       "852                  498.0                 573.0                 573.0   \n",
       "949                  954.0                 954.0                2399.0   \n",
       "966                    3.0                 247.0                 247.0   \n",
       "979                   22.0                  76.0                  76.0   \n",
       "981                  143.0                 673.0                 673.0   \n",
       "983                  143.0                 673.0                 673.0   \n",
       "1027                1298.0                1298.0                1735.0   \n",
       "1059                 432.0                2466.0                2466.0   \n",
       "1060                 432.0                2466.0                2466.0   \n",
       "\n",
       "      minutos_totales  \n",
       "707            1246.0  \n",
       "709            1246.0  \n",
       "747            1421.0  \n",
       "835             211.0  \n",
       "842            2601.0  \n",
       "852            1071.0  \n",
       "949            3353.0  \n",
       "966             250.0  \n",
       "979              98.0  \n",
       "981             816.0  \n",
       "983             816.0  \n",
       "1027           3033.0  \n",
       "1059           2898.0  \n",
       "1060           2898.0  "
      ]
     },
     "execution_count": 47,
     "metadata": {},
     "output_type": "execute_result"
    }
   ],
   "source": [
    "test = df[df.minutos_jugados_pos3 > 0].head(20)\n",
    "test[['minutos_jugados_pos1', 'minutos_jugados_pos2', 'minutos_jugados_pos3', 'minutos_totales']]"
   ]
  },
  {
   "cell_type": "code",
   "execution_count": null,
   "metadata": {},
   "outputs": [],
   "source": []
  },
  {
   "cell_type": "code",
   "execution_count": null,
   "metadata": {},
   "outputs": [],
   "source": []
  },
  {
   "cell_type": "code",
   "execution_count": null,
   "metadata": {},
   "outputs": [],
   "source": []
  },
  {
   "cell_type": "code",
   "execution_count": null,
   "metadata": {},
   "outputs": [],
   "source": []
  }
 ],
 "metadata": {
  "kernelspec": {
   "display_name": "Python 3",
   "language": "python",
   "name": "python3"
  },
  "language_info": {
   "codemirror_mode": {
    "name": "ipython",
    "version": 3
   },
   "file_extension": ".py",
   "mimetype": "text/x-python",
   "name": "python",
   "nbconvert_exporter": "python",
   "pygments_lexer": "ipython3",
   "version": "3.6.6"
  }
 },
 "nbformat": 4,
 "nbformat_minor": 2
}
