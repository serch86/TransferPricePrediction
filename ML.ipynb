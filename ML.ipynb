{
 "cells": [
  {
   "cell_type": "markdown",
   "metadata": {},
   "source": [
    "# Limpieza de Datos"
   ]
  },
  {
   "cell_type": "code",
   "execution_count": 1,
   "metadata": {},
   "outputs": [],
   "source": [
    "import pandas as pd\n",
    "import numpy as np\n",
    "import matplotlib.pyplot as plt"
   ]
  },
  {
   "cell_type": "code",
   "execution_count": 3,
   "metadata": {},
   "outputs": [
    {
     "data": {
      "text/html": [
       "<div>\n",
       "<style scoped>\n",
       "    .dataframe tbody tr th:only-of-type {\n",
       "        vertical-align: middle;\n",
       "    }\n",
       "\n",
       "    .dataframe tbody tr th {\n",
       "        vertical-align: top;\n",
       "    }\n",
       "\n",
       "    .dataframe thead th {\n",
       "        text-align: right;\n",
       "    }\n",
       "</style>\n",
       "<table border=\"1\" class=\"dataframe\">\n",
       "  <thead>\n",
       "    <tr style=\"text-align: right;\">\n",
       "      <th></th>\n",
       "      <th>jugador</th>\n",
       "      <th>fecha_nacimiento_x</th>\n",
       "      <th>nacionalidad</th>\n",
       "      <th>equipo_x</th>\n",
       "      <th>posicion_1</th>\n",
       "      <th>posicion_2</th>\n",
       "      <th>posicion_3</th>\n",
       "      <th>minutos_jugados_pos1</th>\n",
       "      <th>minutos_jugados_pos2</th>\n",
       "      <th>minutos_jugados_pos3</th>\n",
       "      <th>ranking_pos1</th>\n",
       "      <th>ranking_pos2</th>\n",
       "      <th>ranking_pos3</th>\n",
       "      <th>ranking_restringido_pos1</th>\n",
       "      <th>ranking_restringido_pos2</th>\n",
       "      <th>ranking_restringido_pos3</th>\n",
       "      <th>value_2015</th>\n",
       "      <th>value_2016</th>\n",
       "    </tr>\n",
       "  </thead>\n",
       "  <tbody>\n",
       "    <tr>\n",
       "      <th>0</th>\n",
       "      <td>Abelairas, Matias</td>\n",
       "      <td>1985-06-18</td>\n",
       "      <td>Argentina</td>\n",
       "      <td>NaN</td>\n",
       "      <td>Volante Mixto</td>\n",
       "      <td>Volante ofensivo</td>\n",
       "      <td>NaN</td>\n",
       "      <td>128.0</td>\n",
       "      <td>128.0</td>\n",
       "      <td>NaN</td>\n",
       "      <td>9.485156</td>\n",
       "      <td>6.644531</td>\n",
       "      <td>NaN</td>\n",
       "      <td>0.000000</td>\n",
       "      <td>0.000000</td>\n",
       "      <td>NaN</td>\n",
       "      <td>NaN</td>\n",
       "      <td>NaN</td>\n",
       "    </tr>\n",
       "    <tr>\n",
       "      <th>1</th>\n",
       "      <td>Abila, Ramon</td>\n",
       "      <td>1989-10-14</td>\n",
       "      <td>Argentina</td>\n",
       "      <td>Club Atlético Huracán</td>\n",
       "      <td>Delantero</td>\n",
       "      <td>Delantero con Movilidad</td>\n",
       "      <td>NaN</td>\n",
       "      <td>2094.0</td>\n",
       "      <td>2094.0</td>\n",
       "      <td>NaN</td>\n",
       "      <td>2.281160</td>\n",
       "      <td>1.449713</td>\n",
       "      <td>NaN</td>\n",
       "      <td>2.281160</td>\n",
       "      <td>1.449713</td>\n",
       "      <td>NaN</td>\n",
       "      <td>0.400</td>\n",
       "      <td>NaN</td>\n",
       "    </tr>\n",
       "    <tr>\n",
       "      <th>2</th>\n",
       "      <td>Acevedo, Lucas</td>\n",
       "      <td>1991-11-08</td>\n",
       "      <td>Argentina</td>\n",
       "      <td>NaN</td>\n",
       "      <td>Defensa central</td>\n",
       "      <td>NaN</td>\n",
       "      <td>NaN</td>\n",
       "      <td>379.0</td>\n",
       "      <td>NaN</td>\n",
       "      <td>NaN</td>\n",
       "      <td>7.387124</td>\n",
       "      <td>NaN</td>\n",
       "      <td>NaN</td>\n",
       "      <td>0.000000</td>\n",
       "      <td>NaN</td>\n",
       "      <td>NaN</td>\n",
       "      <td>NaN</td>\n",
       "      <td>NaN</td>\n",
       "    </tr>\n",
       "    <tr>\n",
       "      <th>3</th>\n",
       "      <td>Acevedo, Nelson</td>\n",
       "      <td>1988-07-11</td>\n",
       "      <td>Argentina</td>\n",
       "      <td>Club Atlético Unión (Santa Fe)</td>\n",
       "      <td>Volante defensivo</td>\n",
       "      <td>Volante Mixto</td>\n",
       "      <td>NaN</td>\n",
       "      <td>699.0</td>\n",
       "      <td>699.0</td>\n",
       "      <td>NaN</td>\n",
       "      <td>8.114807</td>\n",
       "      <td>6.786695</td>\n",
       "      <td>NaN</td>\n",
       "      <td>8.114807</td>\n",
       "      <td>6.786695</td>\n",
       "      <td>NaN</td>\n",
       "      <td>0.075</td>\n",
       "      <td>0.225</td>\n",
       "    </tr>\n",
       "    <tr>\n",
       "      <th>5</th>\n",
       "      <td>Acevedo, Walter</td>\n",
       "      <td>1986-02-16</td>\n",
       "      <td>Argentina</td>\n",
       "      <td>NaN</td>\n",
       "      <td>Volante defensivo</td>\n",
       "      <td>Volante Mixto</td>\n",
       "      <td>NaN</td>\n",
       "      <td>538.0</td>\n",
       "      <td>538.0</td>\n",
       "      <td>NaN</td>\n",
       "      <td>8.406134</td>\n",
       "      <td>7.415799</td>\n",
       "      <td>NaN</td>\n",
       "      <td>0.000000</td>\n",
       "      <td>0.000000</td>\n",
       "      <td>NaN</td>\n",
       "      <td>NaN</td>\n",
       "      <td>NaN</td>\n",
       "    </tr>\n",
       "  </tbody>\n",
       "</table>\n",
       "</div>"
      ],
      "text/plain": [
       "             jugador fecha_nacimiento_x nacionalidad  \\\n",
       "0  Abelairas, Matias         1985-06-18    Argentina   \n",
       "1       Abila, Ramon         1989-10-14    Argentina   \n",
       "2     Acevedo, Lucas         1991-11-08    Argentina   \n",
       "3    Acevedo, Nelson         1988-07-11    Argentina   \n",
       "5    Acevedo, Walter         1986-02-16    Argentina   \n",
       "\n",
       "                         equipo_x         posicion_1               posicion_2  \\\n",
       "0                             NaN     Volante Mixto          Volante ofensivo   \n",
       "1           Club Atlético Huracán          Delantero  Delantero con Movilidad   \n",
       "2                             NaN    Defensa central                      NaN   \n",
       "3  Club Atlético Unión (Santa Fe)  Volante defensivo           Volante Mixto    \n",
       "5                             NaN  Volante defensivo           Volante Mixto    \n",
       "\n",
       "  posicion_3  minutos_jugados_pos1  minutos_jugados_pos2  \\\n",
       "0        NaN                 128.0                 128.0   \n",
       "1        NaN                2094.0                2094.0   \n",
       "2        NaN                 379.0                   NaN   \n",
       "3        NaN                 699.0                 699.0   \n",
       "5        NaN                 538.0                 538.0   \n",
       "\n",
       "   minutos_jugados_pos3  ranking_pos1  ranking_pos2  ranking_pos3  \\\n",
       "0                   NaN      9.485156      6.644531           NaN   \n",
       "1                   NaN      2.281160      1.449713           NaN   \n",
       "2                   NaN      7.387124           NaN           NaN   \n",
       "3                   NaN      8.114807      6.786695           NaN   \n",
       "5                   NaN      8.406134      7.415799           NaN   \n",
       "\n",
       "   ranking_restringido_pos1  ranking_restringido_pos2  \\\n",
       "0                  0.000000                  0.000000   \n",
       "1                  2.281160                  1.449713   \n",
       "2                  0.000000                       NaN   \n",
       "3                  8.114807                  6.786695   \n",
       "5                  0.000000                  0.000000   \n",
       "\n",
       "   ranking_restringido_pos3  value_2015  value_2016  \n",
       "0                       NaN         NaN         NaN  \n",
       "1                       NaN       0.400         NaN  \n",
       "2                       NaN         NaN         NaN  \n",
       "3                       NaN       0.075       0.225  \n",
       "5                       NaN         NaN         NaN  "
      ]
     },
     "execution_count": 3,
     "metadata": {},
     "output_type": "execute_result"
    }
   ],
   "source": [
    "df = pd.read_pickle('df_for_regression_2015_2016.pkl')\n",
    "df.head()"
   ]
  },
  {
   "cell_type": "markdown",
   "metadata": {},
   "source": [
    "Observemos que Acevedo Nelson está repetido dos veces. Podría ser que tuviéramos renglones repetidos en el dataframe. Vamos a revisarlo:"
   ]
  },
  {
   "cell_type": "code",
   "execution_count": 5,
   "metadata": {},
   "outputs": [
    {
     "name": "stdout",
     "output_type": "stream",
     "text": [
      "El número de renglones es: 965\n",
      "El número de valores únicos en la columna jugador es: 872\n"
     ]
    }
   ],
   "source": [
    "print('El número de renglones es:', df.shape[0])\n",
    "print('El número de valores únicos en la columna jugador es:', df.jugador.nunique())"
   ]
  },
  {
   "cell_type": "markdown",
   "metadata": {},
   "source": [
    "Así que tenemos renglones duplicados de los que hay que deshacernos. Usemos la función drop_duplicates de pandas para lograrlo:"
   ]
  },
  {
   "cell_type": "code",
   "execution_count": 6,
   "metadata": {},
   "outputs": [],
   "source": [
    "df = df.drop_duplicates()"
   ]
  },
  {
   "cell_type": "code",
   "execution_count": 7,
   "metadata": {},
   "outputs": [
    {
     "data": {
      "text/plain": [
       "965"
      ]
     },
     "execution_count": 7,
     "metadata": {},
     "output_type": "execute_result"
    }
   ],
   "source": [
    "df.shape[0]"
   ]
  },
  {
   "cell_type": "code",
   "execution_count": 8,
   "metadata": {},
   "outputs": [
    {
     "name": "stdout",
     "output_type": "stream",
     "text": [
      "<class 'pandas.core.frame.DataFrame'>\n",
      "Int64Index: 965 entries, 0 to 1062\n",
      "Data columns (total 18 columns):\n",
      "jugador                     965 non-null object\n",
      "fecha_nacimiento_x          965 non-null datetime64[ns]\n",
      "nacionalidad                965 non-null object\n",
      "equipo_x                    635 non-null object\n",
      "posicion_1                  965 non-null object\n",
      "posicion_2                  643 non-null object\n",
      "posicion_3                  14 non-null object\n",
      "minutos_jugados_pos1        965 non-null float64\n",
      "minutos_jugados_pos2        643 non-null float64\n",
      "minutos_jugados_pos3        14 non-null float64\n",
      "ranking_pos1                965 non-null float64\n",
      "ranking_pos2                643 non-null float64\n",
      "ranking_pos3                14 non-null float64\n",
      "ranking_restringido_pos1    965 non-null float64\n",
      "ranking_restringido_pos2    643 non-null float64\n",
      "ranking_restringido_pos3    14 non-null float64\n",
      "value_2015                  507 non-null float64\n",
      "value_2016                  548 non-null float64\n",
      "dtypes: datetime64[ns](1), float64(11), object(6)\n",
      "memory usage: 143.2+ KB\n"
     ]
    }
   ],
   "source": [
    "df.info()"
   ]
  },
  {
   "cell_type": "markdown",
   "metadata": {},
   "source": [
    "Aún tenemos jugadores duplicados, pero estos corresponden a jugadores que cambiaron de equipo durante el periódo de transferencia. Estos renglones difieren únicamente en la columna equipo_x. Dejémoslo así por el momento."
   ]
  },
  {
   "cell_type": "code",
   "execution_count": 19,
   "metadata": {},
   "outputs": [
    {
     "data": {
      "text/plain": [
       "Index(['Jugador', 'Fecha_de_Nacimiento', 'Nacionalidad', 'posicion_1',\n",
       "       'posicion_2', 'posicion_3', 'minutos_jugados_pos1',\n",
       "       'minutos_jugados_pos2', 'minutos_jugados_pos3', 'ranking_pos1',\n",
       "       'ranking_pos2', 'ranking_pos3', 'ranking_restringido_pos1',\n",
       "       'ranking_restringido_pos2', 'ranking_restringido_pos3', 'equipo_x',\n",
       "       'value_2015', 'value_2016'],\n",
       "      dtype='object')"
      ]
     },
     "execution_count": 19,
     "metadata": {},
     "output_type": "execute_result"
    }
   ],
   "source": [
    "df.columns"
   ]
  },
  {
   "cell_type": "code",
   "execution_count": 20,
   "metadata": {},
   "outputs": [
    {
     "name": "stdout",
     "output_type": "stream",
     "text": [
      "<class 'pandas.core.frame.DataFrame'>\n",
      "Int64Index: 404 entries, 0 to 480\n",
      "Data columns (total 18 columns):\n",
      "Jugador                     404 non-null object\n",
      "Fecha_de_Nacimiento         404 non-null datetime64[ns]\n",
      "Nacionalidad                404 non-null object\n",
      "posicion_1                  404 non-null object\n",
      "posicion_2                  266 non-null object\n",
      "posicion_3                  9 non-null object\n",
      "minutos_jugados_pos1        404 non-null float64\n",
      "minutos_jugados_pos2        266 non-null float64\n",
      "minutos_jugados_pos3        9 non-null float64\n",
      "ranking_pos1                404 non-null float64\n",
      "ranking_pos2                266 non-null float64\n",
      "ranking_pos3                9 non-null float64\n",
      "ranking_restringido_pos1    404 non-null float64\n",
      "ranking_restringido_pos2    266 non-null float64\n",
      "ranking_restringido_pos3    9 non-null float64\n",
      "equipo_x                    404 non-null object\n",
      "value_2015                  318 non-null float64\n",
      "value_2016                  395 non-null float64\n",
      "dtypes: datetime64[ns](1), float64(11), object(6)\n",
      "memory usage: 60.0+ KB\n"
     ]
    }
   ],
   "source": [
    "df.info()"
   ]
  },
  {
   "cell_type": "markdown",
   "metadata": {},
   "source": [
    "Tenemos varios nulos a tratar, pero, primero, algo que nos diría más que la fecha de nacimiento es la edad del jugador. Calculémosla:"
   ]
  },
  {
   "cell_type": "code",
   "execution_count": 9,
   "metadata": {},
   "outputs": [],
   "source": [
    "import datetime"
   ]
  },
  {
   "cell_type": "markdown",
   "metadata": {},
   "source": [
    "La funcion age calculator toma la fecha de nacimiento del jugador y calcula su edad al 15 de Enero del 2016."
   ]
  },
  {
   "cell_type": "code",
   "execution_count": 14,
   "metadata": {},
   "outputs": [],
   "source": [
    "def age_calculator(df):\n",
    "    \n",
    "    ref_date = []\n",
    "    \n",
    "    for i in range(0, len(df)):\n",
    "        birthday = pd.Timestamp('2016-01-15')\n",
    "        ref_date.append(birthday)\n",
    "    \n",
    "    ref_date = pd.to_datetime(ref_date)\n",
    "    tiempo = ref_date-df['fecha_nacimiento_x']\n",
    "    edad = tiempo.apply(lambda x: round((x.days)/365,1))\n",
    "    df['edad'] = edad\n",
    "    df.drop('fecha_nacimiento_x',1,inplace = True)"
   ]
  },
  {
   "cell_type": "markdown",
   "metadata": {},
   "source": [
    "Aplicando la función al dataframe:"
   ]
  },
  {
   "cell_type": "code",
   "execution_count": 15,
   "metadata": {},
   "outputs": [],
   "source": [
    "age_calculator(df)"
   ]
  },
  {
   "cell_type": "code",
   "execution_count": 16,
   "metadata": {},
   "outputs": [
    {
     "data": {
      "text/html": [
       "<div>\n",
       "<style scoped>\n",
       "    .dataframe tbody tr th:only-of-type {\n",
       "        vertical-align: middle;\n",
       "    }\n",
       "\n",
       "    .dataframe tbody tr th {\n",
       "        vertical-align: top;\n",
       "    }\n",
       "\n",
       "    .dataframe thead th {\n",
       "        text-align: right;\n",
       "    }\n",
       "</style>\n",
       "<table border=\"1\" class=\"dataframe\">\n",
       "  <thead>\n",
       "    <tr style=\"text-align: right;\">\n",
       "      <th></th>\n",
       "      <th>jugador</th>\n",
       "      <th>nacionalidad</th>\n",
       "      <th>equipo_x</th>\n",
       "      <th>posicion_1</th>\n",
       "      <th>posicion_2</th>\n",
       "      <th>posicion_3</th>\n",
       "      <th>minutos_jugados_pos1</th>\n",
       "      <th>minutos_jugados_pos2</th>\n",
       "      <th>minutos_jugados_pos3</th>\n",
       "      <th>ranking_pos1</th>\n",
       "      <th>ranking_pos2</th>\n",
       "      <th>ranking_pos3</th>\n",
       "      <th>ranking_restringido_pos1</th>\n",
       "      <th>ranking_restringido_pos2</th>\n",
       "      <th>ranking_restringido_pos3</th>\n",
       "      <th>value_2015</th>\n",
       "      <th>value_2016</th>\n",
       "      <th>edad</th>\n",
       "    </tr>\n",
       "  </thead>\n",
       "  <tbody>\n",
       "    <tr>\n",
       "      <th>0</th>\n",
       "      <td>Abelairas, Matias</td>\n",
       "      <td>Argentina</td>\n",
       "      <td>NaN</td>\n",
       "      <td>Volante Mixto</td>\n",
       "      <td>Volante ofensivo</td>\n",
       "      <td>NaN</td>\n",
       "      <td>128.0</td>\n",
       "      <td>128.0</td>\n",
       "      <td>NaN</td>\n",
       "      <td>9.485156</td>\n",
       "      <td>6.644531</td>\n",
       "      <td>NaN</td>\n",
       "      <td>0.00000</td>\n",
       "      <td>0.000000</td>\n",
       "      <td>NaN</td>\n",
       "      <td>NaN</td>\n",
       "      <td>NaN</td>\n",
       "      <td>30.6</td>\n",
       "    </tr>\n",
       "    <tr>\n",
       "      <th>1</th>\n",
       "      <td>Abila, Ramon</td>\n",
       "      <td>Argentina</td>\n",
       "      <td>Club Atlético Huracán</td>\n",
       "      <td>Delantero</td>\n",
       "      <td>Delantero con Movilidad</td>\n",
       "      <td>NaN</td>\n",
       "      <td>2094.0</td>\n",
       "      <td>2094.0</td>\n",
       "      <td>NaN</td>\n",
       "      <td>2.281160</td>\n",
       "      <td>1.449713</td>\n",
       "      <td>NaN</td>\n",
       "      <td>2.28116</td>\n",
       "      <td>1.449713</td>\n",
       "      <td>NaN</td>\n",
       "      <td>0.4</td>\n",
       "      <td>NaN</td>\n",
       "      <td>26.3</td>\n",
       "    </tr>\n",
       "  </tbody>\n",
       "</table>\n",
       "</div>"
      ],
      "text/plain": [
       "             jugador nacionalidad               equipo_x      posicion_1  \\\n",
       "0  Abelairas, Matias    Argentina                    NaN  Volante Mixto    \n",
       "1       Abila, Ramon    Argentina  Club Atlético Huracán       Delantero   \n",
       "\n",
       "                posicion_2 posicion_3  minutos_jugados_pos1  \\\n",
       "0         Volante ofensivo        NaN                 128.0   \n",
       "1  Delantero con Movilidad        NaN                2094.0   \n",
       "\n",
       "   minutos_jugados_pos2  minutos_jugados_pos3  ranking_pos1  ranking_pos2  \\\n",
       "0                 128.0                   NaN      9.485156      6.644531   \n",
       "1                2094.0                   NaN      2.281160      1.449713   \n",
       "\n",
       "   ranking_pos3  ranking_restringido_pos1  ranking_restringido_pos2  \\\n",
       "0           NaN                   0.00000                  0.000000   \n",
       "1           NaN                   2.28116                  1.449713   \n",
       "\n",
       "   ranking_restringido_pos3  value_2015  value_2016  edad  \n",
       "0                       NaN         NaN         NaN  30.6  \n",
       "1                       NaN         0.4         NaN  26.3  "
      ]
     },
     "execution_count": 16,
     "metadata": {},
     "output_type": "execute_result"
    }
   ],
   "source": [
    "df.head(2)"
   ]
  },
  {
   "cell_type": "code",
   "execution_count": 10,
   "metadata": {},
   "outputs": [],
   "source": []
  },
  {
   "cell_type": "code",
   "execution_count": 11,
   "metadata": {},
   "outputs": [],
   "source": []
  },
  {
   "cell_type": "code",
   "execution_count": 12,
   "metadata": {},
   "outputs": [],
   "source": []
  },
  {
   "cell_type": "code",
   "execution_count": null,
   "metadata": {},
   "outputs": [],
   "source": []
  },
  {
   "cell_type": "code",
   "execution_count": 151,
   "metadata": {},
   "outputs": [],
   "source": []
  },
  {
   "cell_type": "markdown",
   "metadata": {},
   "source": [
    "## Tratamiento de Valores Nulos"
   ]
  },
  {
   "cell_type": "code",
   "execution_count": 17,
   "metadata": {},
   "outputs": [
    {
     "name": "stdout",
     "output_type": "stream",
     "text": [
      "<class 'pandas.core.frame.DataFrame'>\n",
      "Int64Index: 965 entries, 0 to 1062\n",
      "Data columns (total 18 columns):\n",
      "jugador                     965 non-null object\n",
      "nacionalidad                965 non-null object\n",
      "equipo_x                    635 non-null object\n",
      "posicion_1                  965 non-null object\n",
      "posicion_2                  643 non-null object\n",
      "posicion_3                  14 non-null object\n",
      "minutos_jugados_pos1        965 non-null float64\n",
      "minutos_jugados_pos2        643 non-null float64\n",
      "minutos_jugados_pos3        14 non-null float64\n",
      "ranking_pos1                965 non-null float64\n",
      "ranking_pos2                643 non-null float64\n",
      "ranking_pos3                14 non-null float64\n",
      "ranking_restringido_pos1    965 non-null float64\n",
      "ranking_restringido_pos2    643 non-null float64\n",
      "ranking_restringido_pos3    14 non-null float64\n",
      "value_2015                  507 non-null float64\n",
      "value_2016                  548 non-null float64\n",
      "edad                        965 non-null float64\n",
      "dtypes: float64(12), object(6)\n",
      "memory usage: 143.2+ KB\n"
     ]
    }
   ],
   "source": [
    "df.info()"
   ]
  },
  {
   "cell_type": "markdown",
   "metadata": {},
   "source": [
    "Dado que vamos a crear la variable total_minutos_jugados, nos conviene rellenar los valores nulos de minutos_jugados_pos2 y minutos_jugados_pos3 con ceros:"
   ]
  },
  {
   "cell_type": "code",
   "execution_count": 18,
   "metadata": {},
   "outputs": [],
   "source": [
    "df['minutos_jugados_pos2'] = df.minutos_jugados_pos2.fillna(0)"
   ]
  },
  {
   "cell_type": "code",
   "execution_count": 19,
   "metadata": {},
   "outputs": [],
   "source": [
    "df['minutos_jugados_pos3'] = df.minutos_jugados_pos3.fillna(0)"
   ]
  },
  {
   "cell_type": "code",
   "execution_count": 20,
   "metadata": {},
   "outputs": [
    {
     "name": "stdout",
     "output_type": "stream",
     "text": [
      "<class 'pandas.core.frame.DataFrame'>\n",
      "Int64Index: 965 entries, 0 to 1062\n",
      "Data columns (total 18 columns):\n",
      "jugador                     965 non-null object\n",
      "nacionalidad                965 non-null object\n",
      "equipo_x                    635 non-null object\n",
      "posicion_1                  965 non-null object\n",
      "posicion_2                  643 non-null object\n",
      "posicion_3                  14 non-null object\n",
      "minutos_jugados_pos1        965 non-null float64\n",
      "minutos_jugados_pos2        965 non-null float64\n",
      "minutos_jugados_pos3        965 non-null float64\n",
      "ranking_pos1                965 non-null float64\n",
      "ranking_pos2                643 non-null float64\n",
      "ranking_pos3                14 non-null float64\n",
      "ranking_restringido_pos1    965 non-null float64\n",
      "ranking_restringido_pos2    643 non-null float64\n",
      "ranking_restringido_pos3    14 non-null float64\n",
      "value_2015                  507 non-null float64\n",
      "value_2016                  548 non-null float64\n",
      "edad                        965 non-null float64\n",
      "dtypes: float64(12), object(6)\n",
      "memory usage: 143.2+ KB\n"
     ]
    }
   ],
   "source": [
    "df.info()"
   ]
  },
  {
   "cell_type": "code",
   "execution_count": 21,
   "metadata": {},
   "outputs": [
    {
     "data": {
      "text/plain": [
       "array(['Volante Mixto ', 'Delantero', 'Defensa central',\n",
       "       'Volante defensivo', 'Volante por izquierda',\n",
       "       'Volante por derecha', 'Lateral por derecha',\n",
       "       'Lateral por izquierda'], dtype=object)"
      ]
     },
     "execution_count": 21,
     "metadata": {},
     "output_type": "execute_result"
    }
   ],
   "source": [
    "df.posicion_1.unique()"
   ]
  },
  {
   "cell_type": "markdown",
   "metadata": {},
   "source": [
    "En el apartado de posición 1, 2 y 3 tenemos nulos en 2 y 3 y conviene remplazarlos por los strings 'No aplica':"
   ]
  },
  {
   "cell_type": "code",
   "execution_count": 22,
   "metadata": {},
   "outputs": [],
   "source": [
    "df['posicion_2'] = df.posicion_2.fillna('No aplica')\n",
    "df['posicion_3'] = df.posicion_3.fillna('No aplica')"
   ]
  },
  {
   "cell_type": "code",
   "execution_count": 23,
   "metadata": {},
   "outputs": [
    {
     "name": "stdout",
     "output_type": "stream",
     "text": [
      "<class 'pandas.core.frame.DataFrame'>\n",
      "Int64Index: 965 entries, 0 to 1062\n",
      "Data columns (total 18 columns):\n",
      "jugador                     965 non-null object\n",
      "nacionalidad                965 non-null object\n",
      "equipo_x                    635 non-null object\n",
      "posicion_1                  965 non-null object\n",
      "posicion_2                  965 non-null object\n",
      "posicion_3                  965 non-null object\n",
      "minutos_jugados_pos1        965 non-null float64\n",
      "minutos_jugados_pos2        965 non-null float64\n",
      "minutos_jugados_pos3        965 non-null float64\n",
      "ranking_pos1                965 non-null float64\n",
      "ranking_pos2                643 non-null float64\n",
      "ranking_pos3                14 non-null float64\n",
      "ranking_restringido_pos1    965 non-null float64\n",
      "ranking_restringido_pos2    643 non-null float64\n",
      "ranking_restringido_pos3    14 non-null float64\n",
      "value_2015                  507 non-null float64\n",
      "value_2016                  548 non-null float64\n",
      "edad                        965 non-null float64\n",
      "dtypes: float64(12), object(6)\n",
      "memory usage: 143.2+ KB\n"
     ]
    }
   ],
   "source": [
    "df.info()"
   ]
  },
  {
   "cell_type": "code",
   "execution_count": 24,
   "metadata": {},
   "outputs": [
    {
     "data": {
      "text/plain": [
       "count    965.000000\n",
       "mean       4.952111\n",
       "std        2.432928\n",
       "min        0.000000\n",
       "25%        3.361017\n",
       "50%        4.532143\n",
       "75%        6.289396\n",
       "max       49.500000\n",
       "Name: ranking_pos1, dtype: float64"
      ]
     },
     "execution_count": 24,
     "metadata": {},
     "output_type": "execute_result"
    }
   ],
   "source": [
    "df.ranking_pos1.describe()"
   ]
  },
  {
   "cell_type": "code",
   "execution_count": 25,
   "metadata": {},
   "outputs": [
    {
     "data": {
      "text/plain": [
       "count    643.000000\n",
       "mean       4.095810\n",
       "std        2.070979\n",
       "min        0.000000\n",
       "25%        2.304155\n",
       "50%        4.090909\n",
       "75%        5.436336\n",
       "max       14.850000\n",
       "Name: ranking_pos2, dtype: float64"
      ]
     },
     "execution_count": 25,
     "metadata": {},
     "output_type": "execute_result"
    }
   ],
   "source": [
    "df.ranking_pos2.describe()"
   ]
  },
  {
   "cell_type": "code",
   "execution_count": 26,
   "metadata": {},
   "outputs": [
    {
     "data": {
      "text/html": [
       "<div>\n",
       "<style scoped>\n",
       "    .dataframe tbody tr th:only-of-type {\n",
       "        vertical-align: middle;\n",
       "    }\n",
       "\n",
       "    .dataframe tbody tr th {\n",
       "        vertical-align: top;\n",
       "    }\n",
       "\n",
       "    .dataframe thead th {\n",
       "        text-align: right;\n",
       "    }\n",
       "</style>\n",
       "<table border=\"1\" class=\"dataframe\">\n",
       "  <thead>\n",
       "    <tr style=\"text-align: right;\">\n",
       "      <th></th>\n",
       "      <th>jugador</th>\n",
       "      <th>nacionalidad</th>\n",
       "      <th>equipo_x</th>\n",
       "      <th>posicion_1</th>\n",
       "      <th>posicion_2</th>\n",
       "      <th>posicion_3</th>\n",
       "      <th>minutos_jugados_pos1</th>\n",
       "      <th>minutos_jugados_pos2</th>\n",
       "      <th>minutos_jugados_pos3</th>\n",
       "      <th>ranking_pos1</th>\n",
       "      <th>ranking_pos2</th>\n",
       "      <th>ranking_pos3</th>\n",
       "      <th>ranking_restringido_pos1</th>\n",
       "      <th>ranking_restringido_pos2</th>\n",
       "      <th>ranking_restringido_pos3</th>\n",
       "      <th>value_2015</th>\n",
       "      <th>value_2016</th>\n",
       "      <th>edad</th>\n",
       "    </tr>\n",
       "  </thead>\n",
       "  <tbody>\n",
       "    <tr>\n",
       "      <th>472</th>\n",
       "      <td>Gonzalez, Gonzalo</td>\n",
       "      <td>Argentina</td>\n",
       "      <td>Arsenal Fútbol Club</td>\n",
       "      <td>Delantero</td>\n",
       "      <td>Delantero con Movilidad</td>\n",
       "      <td>No aplica</td>\n",
       "      <td>3.0</td>\n",
       "      <td>3.0</td>\n",
       "      <td>0.0</td>\n",
       "      <td>0.0</td>\n",
       "      <td>0.0</td>\n",
       "      <td>NaN</td>\n",
       "      <td>0.0</td>\n",
       "      <td>0.0</td>\n",
       "      <td>NaN</td>\n",
       "      <td>NaN</td>\n",
       "      <td>NaN</td>\n",
       "      <td>21.1</td>\n",
       "    </tr>\n",
       "    <tr>\n",
       "      <th>530</th>\n",
       "      <td>Lattanzio, Carlo</td>\n",
       "      <td>Argentina</td>\n",
       "      <td>NaN</td>\n",
       "      <td>Delantero</td>\n",
       "      <td>Delantero con Movilidad</td>\n",
       "      <td>No aplica</td>\n",
       "      <td>3.0</td>\n",
       "      <td>3.0</td>\n",
       "      <td>0.0</td>\n",
       "      <td>0.0</td>\n",
       "      <td>0.0</td>\n",
       "      <td>NaN</td>\n",
       "      <td>0.0</td>\n",
       "      <td>0.0</td>\n",
       "      <td>NaN</td>\n",
       "      <td>NaN</td>\n",
       "      <td>NaN</td>\n",
       "      <td>18.5</td>\n",
       "    </tr>\n",
       "    <tr>\n",
       "      <th>531</th>\n",
       "      <td>Laurito, Federico</td>\n",
       "      <td>Argentina</td>\n",
       "      <td>Arsenal Fútbol Club</td>\n",
       "      <td>Delantero</td>\n",
       "      <td>Delantero con Movilidad</td>\n",
       "      <td>No aplica</td>\n",
       "      <td>1.0</td>\n",
       "      <td>1.0</td>\n",
       "      <td>0.0</td>\n",
       "      <td>0.0</td>\n",
       "      <td>0.0</td>\n",
       "      <td>NaN</td>\n",
       "      <td>0.0</td>\n",
       "      <td>0.0</td>\n",
       "      <td>NaN</td>\n",
       "      <td>0.8</td>\n",
       "      <td>NaN</td>\n",
       "      <td>25.7</td>\n",
       "    </tr>\n",
       "    <tr>\n",
       "      <th>968</th>\n",
       "      <td>Torres, Jonatan</td>\n",
       "      <td>Argentina</td>\n",
       "      <td>NaN</td>\n",
       "      <td>Delantero</td>\n",
       "      <td>Delantero con Movilidad</td>\n",
       "      <td>No aplica</td>\n",
       "      <td>2.0</td>\n",
       "      <td>2.0</td>\n",
       "      <td>0.0</td>\n",
       "      <td>4.5</td>\n",
       "      <td>0.0</td>\n",
       "      <td>NaN</td>\n",
       "      <td>0.0</td>\n",
       "      <td>0.0</td>\n",
       "      <td>NaN</td>\n",
       "      <td>NaN</td>\n",
       "      <td>NaN</td>\n",
       "      <td>19.1</td>\n",
       "    </tr>\n",
       "  </tbody>\n",
       "</table>\n",
       "</div>"
      ],
      "text/plain": [
       "               jugador nacionalidad             equipo_x posicion_1  \\\n",
       "472  Gonzalez, Gonzalo    Argentina  Arsenal Fútbol Club  Delantero   \n",
       "530   Lattanzio, Carlo    Argentina                  NaN  Delantero   \n",
       "531  Laurito, Federico    Argentina  Arsenal Fútbol Club  Delantero   \n",
       "968    Torres, Jonatan    Argentina                  NaN  Delantero   \n",
       "\n",
       "                  posicion_2 posicion_3  minutos_jugados_pos1  \\\n",
       "472  Delantero con Movilidad  No aplica                   3.0   \n",
       "530  Delantero con Movilidad  No aplica                   3.0   \n",
       "531  Delantero con Movilidad  No aplica                   1.0   \n",
       "968  Delantero con Movilidad  No aplica                   2.0   \n",
       "\n",
       "     minutos_jugados_pos2  minutos_jugados_pos3  ranking_pos1  ranking_pos2  \\\n",
       "472                   3.0                   0.0           0.0           0.0   \n",
       "530                   3.0                   0.0           0.0           0.0   \n",
       "531                   1.0                   0.0           0.0           0.0   \n",
       "968                   2.0                   0.0           4.5           0.0   \n",
       "\n",
       "     ranking_pos3  ranking_restringido_pos1  ranking_restringido_pos2  \\\n",
       "472           NaN                       0.0                       0.0   \n",
       "530           NaN                       0.0                       0.0   \n",
       "531           NaN                       0.0                       0.0   \n",
       "968           NaN                       0.0                       0.0   \n",
       "\n",
       "     ranking_restringido_pos3  value_2015  value_2016  edad  \n",
       "472                       NaN         NaN         NaN  21.1  \n",
       "530                       NaN         NaN         NaN  18.5  \n",
       "531                       NaN         0.8         NaN  25.7  \n",
       "968                       NaN         NaN         NaN  19.1  "
      ]
     },
     "execution_count": 26,
     "metadata": {},
     "output_type": "execute_result"
    }
   ],
   "source": [
    "df[df.ranking_pos2 == 0]"
   ]
  },
  {
   "cell_type": "markdown",
   "metadata": {},
   "source": [
    "El único jugador con un ranking_pos2 igual a cero es un jugador que sólo jugó dos minutos durante la temporada. Reemplacemos los NAN de ranking_pos2 por ceros: "
   ]
  },
  {
   "cell_type": "code",
   "execution_count": 27,
   "metadata": {},
   "outputs": [],
   "source": [
    "df['ranking_pos2'] = df.ranking_pos2.fillna(0)"
   ]
  },
  {
   "cell_type": "code",
   "execution_count": 28,
   "metadata": {},
   "outputs": [
    {
     "name": "stdout",
     "output_type": "stream",
     "text": [
      "<class 'pandas.core.frame.DataFrame'>\n",
      "Int64Index: 965 entries, 0 to 1062\n",
      "Data columns (total 18 columns):\n",
      "jugador                     965 non-null object\n",
      "nacionalidad                965 non-null object\n",
      "equipo_x                    635 non-null object\n",
      "posicion_1                  965 non-null object\n",
      "posicion_2                  965 non-null object\n",
      "posicion_3                  965 non-null object\n",
      "minutos_jugados_pos1        965 non-null float64\n",
      "minutos_jugados_pos2        965 non-null float64\n",
      "minutos_jugados_pos3        965 non-null float64\n",
      "ranking_pos1                965 non-null float64\n",
      "ranking_pos2                965 non-null float64\n",
      "ranking_pos3                14 non-null float64\n",
      "ranking_restringido_pos1    965 non-null float64\n",
      "ranking_restringido_pos2    643 non-null float64\n",
      "ranking_restringido_pos3    14 non-null float64\n",
      "value_2015                  507 non-null float64\n",
      "value_2016                  548 non-null float64\n",
      "edad                        965 non-null float64\n",
      "dtypes: float64(12), object(6)\n",
      "memory usage: 143.2+ KB\n"
     ]
    }
   ],
   "source": [
    "df.info()"
   ]
  },
  {
   "cell_type": "code",
   "execution_count": 29,
   "metadata": {},
   "outputs": [
    {
     "data": {
      "text/plain": [
       "count    14.000000\n",
       "mean      4.206852\n",
       "std       1.487943\n",
       "min       1.289879\n",
       "25%       3.498047\n",
       "50%       4.268204\n",
       "75%       5.445656\n",
       "max       6.071831\n",
       "Name: ranking_pos3, dtype: float64"
      ]
     },
     "execution_count": 29,
     "metadata": {},
     "output_type": "execute_result"
    }
   ],
   "source": [
    "df.ranking_pos3.describe()"
   ]
  },
  {
   "cell_type": "markdown",
   "metadata": {},
   "source": [
    "El mínimo de ranking_pos3 es 3.65, no habría problema de rellenar los datos faltantes con ceros:"
   ]
  },
  {
   "cell_type": "code",
   "execution_count": 30,
   "metadata": {},
   "outputs": [],
   "source": [
    "df['ranking_pos3'] = df.ranking_pos3.fillna(0)"
   ]
  },
  {
   "cell_type": "code",
   "execution_count": 31,
   "metadata": {},
   "outputs": [
    {
     "name": "stdout",
     "output_type": "stream",
     "text": [
      "<class 'pandas.core.frame.DataFrame'>\n",
      "Int64Index: 965 entries, 0 to 1062\n",
      "Data columns (total 18 columns):\n",
      "jugador                     965 non-null object\n",
      "nacionalidad                965 non-null object\n",
      "equipo_x                    635 non-null object\n",
      "posicion_1                  965 non-null object\n",
      "posicion_2                  965 non-null object\n",
      "posicion_3                  965 non-null object\n",
      "minutos_jugados_pos1        965 non-null float64\n",
      "minutos_jugados_pos2        965 non-null float64\n",
      "minutos_jugados_pos3        965 non-null float64\n",
      "ranking_pos1                965 non-null float64\n",
      "ranking_pos2                965 non-null float64\n",
      "ranking_pos3                965 non-null float64\n",
      "ranking_restringido_pos1    965 non-null float64\n",
      "ranking_restringido_pos2    643 non-null float64\n",
      "ranking_restringido_pos3    14 non-null float64\n",
      "value_2015                  507 non-null float64\n",
      "value_2016                  548 non-null float64\n",
      "edad                        965 non-null float64\n",
      "dtypes: float64(12), object(6)\n",
      "memory usage: 143.2+ KB\n"
     ]
    }
   ],
   "source": [
    "df.info()"
   ]
  },
  {
   "cell_type": "code",
   "execution_count": 32,
   "metadata": {},
   "outputs": [
    {
     "data": {
      "text/html": [
       "<div>\n",
       "<style scoped>\n",
       "    .dataframe tbody tr th:only-of-type {\n",
       "        vertical-align: middle;\n",
       "    }\n",
       "\n",
       "    .dataframe tbody tr th {\n",
       "        vertical-align: top;\n",
       "    }\n",
       "\n",
       "    .dataframe thead th {\n",
       "        text-align: right;\n",
       "    }\n",
       "</style>\n",
       "<table border=\"1\" class=\"dataframe\">\n",
       "  <thead>\n",
       "    <tr style=\"text-align: right;\">\n",
       "      <th></th>\n",
       "      <th>jugador</th>\n",
       "      <th>nacionalidad</th>\n",
       "      <th>equipo_x</th>\n",
       "      <th>posicion_1</th>\n",
       "      <th>posicion_2</th>\n",
       "      <th>posicion_3</th>\n",
       "      <th>minutos_jugados_pos1</th>\n",
       "      <th>minutos_jugados_pos2</th>\n",
       "      <th>minutos_jugados_pos3</th>\n",
       "      <th>ranking_pos1</th>\n",
       "      <th>ranking_pos2</th>\n",
       "      <th>ranking_pos3</th>\n",
       "      <th>ranking_restringido_pos1</th>\n",
       "      <th>ranking_restringido_pos2</th>\n",
       "      <th>ranking_restringido_pos3</th>\n",
       "      <th>value_2015</th>\n",
       "      <th>value_2016</th>\n",
       "      <th>edad</th>\n",
       "    </tr>\n",
       "  </thead>\n",
       "  <tbody>\n",
       "    <tr>\n",
       "      <th>0</th>\n",
       "      <td>Abelairas, Matias</td>\n",
       "      <td>Argentina</td>\n",
       "      <td>NaN</td>\n",
       "      <td>Volante Mixto</td>\n",
       "      <td>Volante ofensivo</td>\n",
       "      <td>No aplica</td>\n",
       "      <td>128.0</td>\n",
       "      <td>128.0</td>\n",
       "      <td>0.0</td>\n",
       "      <td>9.485156</td>\n",
       "      <td>6.644531</td>\n",
       "      <td>0.0</td>\n",
       "      <td>0.0</td>\n",
       "      <td>0.0</td>\n",
       "      <td>NaN</td>\n",
       "      <td>NaN</td>\n",
       "      <td>NaN</td>\n",
       "      <td>30.6</td>\n",
       "    </tr>\n",
       "    <tr>\n",
       "      <th>2</th>\n",
       "      <td>Acevedo, Lucas</td>\n",
       "      <td>Argentina</td>\n",
       "      <td>NaN</td>\n",
       "      <td>Defensa central</td>\n",
       "      <td>No aplica</td>\n",
       "      <td>No aplica</td>\n",
       "      <td>379.0</td>\n",
       "      <td>0.0</td>\n",
       "      <td>0.0</td>\n",
       "      <td>7.387124</td>\n",
       "      <td>0.000000</td>\n",
       "      <td>0.0</td>\n",
       "      <td>0.0</td>\n",
       "      <td>NaN</td>\n",
       "      <td>NaN</td>\n",
       "      <td>NaN</td>\n",
       "      <td>NaN</td>\n",
       "      <td>24.2</td>\n",
       "    </tr>\n",
       "    <tr>\n",
       "      <th>5</th>\n",
       "      <td>Acevedo, Walter</td>\n",
       "      <td>Argentina</td>\n",
       "      <td>NaN</td>\n",
       "      <td>Volante defensivo</td>\n",
       "      <td>Volante Mixto</td>\n",
       "      <td>No aplica</td>\n",
       "      <td>538.0</td>\n",
       "      <td>538.0</td>\n",
       "      <td>0.0</td>\n",
       "      <td>8.406134</td>\n",
       "      <td>7.415799</td>\n",
       "      <td>0.0</td>\n",
       "      <td>0.0</td>\n",
       "      <td>0.0</td>\n",
       "      <td>NaN</td>\n",
       "      <td>NaN</td>\n",
       "      <td>NaN</td>\n",
       "      <td>29.9</td>\n",
       "    </tr>\n",
       "    <tr>\n",
       "      <th>11</th>\n",
       "      <td>Affranchino, Facundo</td>\n",
       "      <td>Argentina</td>\n",
       "      <td>NaN</td>\n",
       "      <td>Volante por derecha</td>\n",
       "      <td>Volante Mixto</td>\n",
       "      <td>No aplica</td>\n",
       "      <td>389.0</td>\n",
       "      <td>389.0</td>\n",
       "      <td>0.0</td>\n",
       "      <td>3.100257</td>\n",
       "      <td>3.861440</td>\n",
       "      <td>0.0</td>\n",
       "      <td>0.0</td>\n",
       "      <td>0.0</td>\n",
       "      <td>NaN</td>\n",
       "      <td>NaN</td>\n",
       "      <td>NaN</td>\n",
       "      <td>25.9</td>\n",
       "    </tr>\n",
       "    <tr>\n",
       "      <th>18</th>\n",
       "      <td>Aguirregaray, Matias</td>\n",
       "      <td>Uruguaya</td>\n",
       "      <td>Club Estudiantes de La Plata</td>\n",
       "      <td>Lateral por derecha</td>\n",
       "      <td>No aplica</td>\n",
       "      <td>No aplica</td>\n",
       "      <td>662.0</td>\n",
       "      <td>0.0</td>\n",
       "      <td>0.0</td>\n",
       "      <td>4.320544</td>\n",
       "      <td>0.000000</td>\n",
       "      <td>0.0</td>\n",
       "      <td>0.0</td>\n",
       "      <td>NaN</td>\n",
       "      <td>NaN</td>\n",
       "      <td>1.5</td>\n",
       "      <td>1.7</td>\n",
       "      <td>26.8</td>\n",
       "    </tr>\n",
       "  </tbody>\n",
       "</table>\n",
       "</div>"
      ],
      "text/plain": [
       "                 jugador nacionalidad                      equipo_x  \\\n",
       "0      Abelairas, Matias    Argentina                           NaN   \n",
       "2         Acevedo, Lucas    Argentina                           NaN   \n",
       "5        Acevedo, Walter    Argentina                           NaN   \n",
       "11  Affranchino, Facundo    Argentina                           NaN   \n",
       "18  Aguirregaray, Matias     Uruguaya  Club Estudiantes de La Plata   \n",
       "\n",
       "             posicion_1        posicion_2 posicion_3  minutos_jugados_pos1  \\\n",
       "0        Volante Mixto   Volante ofensivo  No aplica                 128.0   \n",
       "2       Defensa central         No aplica  No aplica                 379.0   \n",
       "5     Volante defensivo    Volante Mixto   No aplica                 538.0   \n",
       "11  Volante por derecha    Volante Mixto   No aplica                 389.0   \n",
       "18  Lateral por derecha         No aplica  No aplica                 662.0   \n",
       "\n",
       "    minutos_jugados_pos2  minutos_jugados_pos3  ranking_pos1  ranking_pos2  \\\n",
       "0                  128.0                   0.0      9.485156      6.644531   \n",
       "2                    0.0                   0.0      7.387124      0.000000   \n",
       "5                  538.0                   0.0      8.406134      7.415799   \n",
       "11                 389.0                   0.0      3.100257      3.861440   \n",
       "18                   0.0                   0.0      4.320544      0.000000   \n",
       "\n",
       "    ranking_pos3  ranking_restringido_pos1  ranking_restringido_pos2  \\\n",
       "0            0.0                       0.0                       0.0   \n",
       "2            0.0                       0.0                       NaN   \n",
       "5            0.0                       0.0                       0.0   \n",
       "11           0.0                       0.0                       0.0   \n",
       "18           0.0                       0.0                       NaN   \n",
       "\n",
       "    ranking_restringido_pos3  value_2015  value_2016  edad  \n",
       "0                        NaN         NaN         NaN  30.6  \n",
       "2                        NaN         NaN         NaN  24.2  \n",
       "5                        NaN         NaN         NaN  29.9  \n",
       "11                       NaN         NaN         NaN  25.9  \n",
       "18                       NaN         1.5         1.7  26.8  "
      ]
     },
     "execution_count": 32,
     "metadata": {},
     "output_type": "execute_result"
    }
   ],
   "source": [
    "df[df.ranking_restringido_pos1 == 0].head()"
   ]
  },
  {
   "cell_type": "markdown",
   "metadata": {},
   "source": [
    "Está variable tiene más valores cero pues, por definición, si el jugador no cumple con un cierto umbral de minutos de juego en la temporada, se manda a cero. Revisemos las variables para posición 2 y 3:"
   ]
  },
  {
   "cell_type": "code",
   "execution_count": 33,
   "metadata": {},
   "outputs": [
    {
     "data": {
      "text/plain": [
       "291"
      ]
     },
     "execution_count": 33,
     "metadata": {},
     "output_type": "execute_result"
    }
   ],
   "source": [
    "len(df[df.ranking_restringido_pos2 == 0])"
   ]
  },
  {
   "cell_type": "markdown",
   "metadata": {},
   "source": [
    "93 de los 266 valores no nulos son cero. Remplacemos los NAN por ceros:"
   ]
  },
  {
   "cell_type": "code",
   "execution_count": 34,
   "metadata": {},
   "outputs": [],
   "source": [
    "df['ranking_restringido_pos2'] = df.ranking_restringido_pos2.fillna(0)"
   ]
  },
  {
   "cell_type": "code",
   "execution_count": 35,
   "metadata": {},
   "outputs": [
    {
     "name": "stdout",
     "output_type": "stream",
     "text": [
      "<class 'pandas.core.frame.DataFrame'>\n",
      "Int64Index: 965 entries, 0 to 1062\n",
      "Data columns (total 18 columns):\n",
      "jugador                     965 non-null object\n",
      "nacionalidad                965 non-null object\n",
      "equipo_x                    635 non-null object\n",
      "posicion_1                  965 non-null object\n",
      "posicion_2                  965 non-null object\n",
      "posicion_3                  965 non-null object\n",
      "minutos_jugados_pos1        965 non-null float64\n",
      "minutos_jugados_pos2        965 non-null float64\n",
      "minutos_jugados_pos3        965 non-null float64\n",
      "ranking_pos1                965 non-null float64\n",
      "ranking_pos2                965 non-null float64\n",
      "ranking_pos3                965 non-null float64\n",
      "ranking_restringido_pos1    965 non-null float64\n",
      "ranking_restringido_pos2    965 non-null float64\n",
      "ranking_restringido_pos3    14 non-null float64\n",
      "value_2015                  507 non-null float64\n",
      "value_2016                  548 non-null float64\n",
      "edad                        965 non-null float64\n",
      "dtypes: float64(12), object(6)\n",
      "memory usage: 143.2+ KB\n"
     ]
    }
   ],
   "source": [
    "df.info()"
   ]
  },
  {
   "cell_type": "code",
   "execution_count": 36,
   "metadata": {},
   "outputs": [],
   "source": [
    "df['ranking_restringido_pos3'] = df.ranking_restringido_pos3.fillna(0)"
   ]
  },
  {
   "cell_type": "code",
   "execution_count": 37,
   "metadata": {},
   "outputs": [
    {
     "name": "stdout",
     "output_type": "stream",
     "text": [
      "<class 'pandas.core.frame.DataFrame'>\n",
      "Int64Index: 965 entries, 0 to 1062\n",
      "Data columns (total 18 columns):\n",
      "jugador                     965 non-null object\n",
      "nacionalidad                965 non-null object\n",
      "equipo_x                    635 non-null object\n",
      "posicion_1                  965 non-null object\n",
      "posicion_2                  965 non-null object\n",
      "posicion_3                  965 non-null object\n",
      "minutos_jugados_pos1        965 non-null float64\n",
      "minutos_jugados_pos2        965 non-null float64\n",
      "minutos_jugados_pos3        965 non-null float64\n",
      "ranking_pos1                965 non-null float64\n",
      "ranking_pos2                965 non-null float64\n",
      "ranking_pos3                965 non-null float64\n",
      "ranking_restringido_pos1    965 non-null float64\n",
      "ranking_restringido_pos2    965 non-null float64\n",
      "ranking_restringido_pos3    965 non-null float64\n",
      "value_2015                  507 non-null float64\n",
      "value_2016                  548 non-null float64\n",
      "edad                        965 non-null float64\n",
      "dtypes: float64(12), object(6)\n",
      "memory usage: 143.2+ KB\n"
     ]
    }
   ],
   "source": [
    "df.info()"
   ]
  },
  {
   "cell_type": "code",
   "execution_count": 38,
   "metadata": {},
   "outputs": [
    {
     "data": {
      "image/png": "[encoded data removed]",
      "text/plain": [
       "<Figure size 576x288 with 1 Axes>"
      ]
     },
     "metadata": {},
     "output_type": "display_data"
    },
    {
     "name": "stdout",
     "output_type": "stream",
     "text": [
      "El valor promedio de un jugador en temporada 2015 es 0.75 millones de euros\n"
     ]
    }
   ],
   "source": [
    "plt.figure(figsize = (8,4))\n",
    "df.value_2015.hist(bins = 120)\n",
    "plt.title('Histograma de Precios de Jugadores en 2015', fontsize = 15)\n",
    "plt.xlabel('Precio en Millones de Euros', fontsize = 12)\n",
    "plt.ylabel('Número de Jugadores', fontsize = 12);\n",
    "plt.xlim(0, df.value_2015.quantile(0.99));\n",
    "plt.show()\n",
    "print('El valor promedio de un jugador en temporada 2015 es %1.2f' %df.value_2015.mean() + ' millones de euros')"
   ]
  },
  {
   "cell_type": "code",
   "execution_count": 39,
   "metadata": {},
   "outputs": [
    {
     "data": {
      "text/plain": [
       "count    507.000000\n",
       "mean       0.752367\n",
       "std        1.221002\n",
       "min        0.025000\n",
       "25%        0.262500\n",
       "50%        0.500000\n",
       "75%        0.850000\n",
       "max       23.000000\n",
       "Name: value_2015, dtype: float64"
      ]
     },
     "execution_count": 39,
     "metadata": {},
     "output_type": "execute_result"
    }
   ],
   "source": [
    "df.value_2015.describe()"
   ]
  },
  {
   "cell_type": "markdown",
   "metadata": {},
   "source": [
    "Dado que tenemos jugadores muy caros en el dataframe, el valor promedio de los jugadores es de 0.76 millones a pesar de que el 75% de los valores de los jugadores es menor a 0.8 millones de euros. En este caso no combiene rellenar los valores nulos con el valor promedio, pero ¿con qué se podrían rellenar?\n",
    "Dado que los jugadores sin valor en 2015 deben ser principiantes o poco destacados, nos combiene rellenar estos valores con un valor pequeño."
   ]
  },
  {
   "cell_type": "code",
   "execution_count": 40,
   "metadata": {},
   "outputs": [
    {
     "name": "stdout",
     "output_type": "stream",
     "text": [
      "La moda es: 0.4 millones de euros\n"
     ]
    }
   ],
   "source": [
    "print('La moda es: %1.1f' %df.value_2015.mode()[0] + ' millones de euros')"
   ]
  },
  {
   "cell_type": "markdown",
   "metadata": {},
   "source": [
    "Este valor resulta más adecuado que el promedio, pero quizás sigue siendo demasiado para los jugadores a los que vamos a asignarle este precio. Tomando en cuenta que estos jugadores deben ser de los más baratos, consideremos el cuantil del 5% y asignemos este número para rellenar los no-nulos:"
   ]
  },
  {
   "cell_type": "code",
   "execution_count": 177,
   "metadata": {},
   "outputs": [
    {
     "name": "stdout",
     "output_type": "stream",
     "text": [
      "El cuantil del 5 por ciento es: 0.05 millones de euros\n"
     ]
    }
   ],
   "source": [
    "print('El cuantil del 5 por ciento es: %1.2f' %df.value_2015.quantile(0.05) + ' millones de euros')"
   ]
  },
  {
   "cell_type": "code",
   "execution_count": 178,
   "metadata": {},
   "outputs": [],
   "source": [
    "df['value_2015'] = df.value_2015.fillna(df.value_2015.quantile(0.05))"
   ]
  },
  {
   "cell_type": "markdown",
   "metadata": {},
   "source": [
    "Procediendo de la misma manera para los valores nulos de value_2016:"
   ]
  },
  {
   "cell_type": "code",
   "execution_count": 179,
   "metadata": {},
   "outputs": [
    {
     "name": "stdout",
     "output_type": "stream",
     "text": [
      "<class 'pandas.core.frame.DataFrame'>\n",
      "Int64Index: 404 entries, 0 to 480\n",
      "Data columns (total 18 columns):\n",
      "Jugador                     404 non-null object\n",
      "Nacionalidad                404 non-null object\n",
      "posicion_1                  404 non-null object\n",
      "posicion_2                  404 non-null object\n",
      "posicion_3                  404 non-null object\n",
      "minutos_jugados_pos1        404 non-null float64\n",
      "minutos_jugados_pos2        404 non-null float64\n",
      "minutos_jugados_pos3        404 non-null float64\n",
      "ranking_pos1                404 non-null float64\n",
      "ranking_pos2                404 non-null float64\n",
      "ranking_pos3                404 non-null float64\n",
      "ranking_restringido_pos1    404 non-null float64\n",
      "ranking_restringido_pos2    404 non-null float64\n",
      "ranking_restringido_pos3    404 non-null float64\n",
      "equipo_x                    404 non-null object\n",
      "value_2015                  404 non-null float64\n",
      "value_2016                  395 non-null float64\n",
      "edad                        404 non-null float64\n",
      "dtypes: float64(12), object(6)\n",
      "memory usage: 60.0+ KB\n"
     ]
    }
   ],
   "source": [
    "df.info()"
   ]
  },
  {
   "cell_type": "markdown",
   "metadata": {},
   "source": [
    "Dado que sólo son 9 valores nulos, una primera opción sería sólo eliminar estos renglones y trabajar con los datos restantes. No obstante, repitamos el análisis de antes:"
   ]
  },
  {
   "cell_type": "code",
   "execution_count": 180,
   "metadata": {},
   "outputs": [
    {
     "data": {
      "image/png": "[encoded data removed]",
      "text/plain": [
       "<Figure size 576x288 with 1 Axes>"
      ]
     },
     "metadata": {},
     "output_type": "display_data"
    },
    {
     "name": "stdout",
     "output_type": "stream",
     "text": [
      "El valor promedio de un jugador en temporada 2016 es 0.99 millones de euros\n"
     ]
    }
   ],
   "source": [
    "plt.figure(figsize = (8,4))\n",
    "df.value_2016.hist(bins = 120)\n",
    "plt.title('Histograma de Precios de Jugadores en 2016', fontsize = 15)\n",
    "plt.xlabel('Precio en Millones de Euros', fontsize = 12)\n",
    "plt.ylabel('Número de Jugadores', fontsize = 12);\n",
    "plt.xlim(0, df.value_2016.quantile(0.99));\n",
    "plt.show()\n",
    "print('El valor promedio de un jugador en temporada 2016 es %1.2f' %df.value_2016.mean() + ' millones de euros')\n"
   ]
  },
  {
   "cell_type": "markdown",
   "metadata": {},
   "source": [
    "Pensando de nuevo que estos valores nulos corresponden a jugadores de bajo nivel:"
   ]
  },
  {
   "cell_type": "code",
   "execution_count": 181,
   "metadata": {},
   "outputs": [
    {
     "data": {
      "text/plain": [
       "count    395.000000\n",
       "mean       0.989114\n",
       "std        1.388926\n",
       "min        0.050000\n",
       "25%        0.300000\n",
       "50%        0.600000\n",
       "75%        0.950000\n",
       "max       15.000000\n",
       "Name: value_2016, dtype: float64"
      ]
     },
     "execution_count": 181,
     "metadata": {},
     "output_type": "execute_result"
    }
   ],
   "source": [
    "df.value_2016.describe()"
   ]
  },
  {
   "cell_type": "markdown",
   "metadata": {},
   "source": [
    "De nuevo el promedio es demasiado para la clase de jugadores a los que estamos intentando asignarles un precio. Volvamos a usar el cuantil del 5%:"
   ]
  },
  {
   "cell_type": "code",
   "execution_count": 182,
   "metadata": {},
   "outputs": [
    {
     "data": {
      "text/plain": [
       "0.1"
      ]
     },
     "execution_count": 182,
     "metadata": {},
     "output_type": "execute_result"
    }
   ],
   "source": [
    "df.value_2016.quantile(0.05)"
   ]
  },
  {
   "cell_type": "code",
   "execution_count": 183,
   "metadata": {},
   "outputs": [],
   "source": [
    "df['value_2016'] = df.value_2016.fillna(df.value_2016.quantile(0.05))"
   ]
  },
  {
   "cell_type": "code",
   "execution_count": 184,
   "metadata": {},
   "outputs": [
    {
     "name": "stdout",
     "output_type": "stream",
     "text": [
      "<class 'pandas.core.frame.DataFrame'>\n",
      "Int64Index: 404 entries, 0 to 480\n",
      "Data columns (total 18 columns):\n",
      "Jugador                     404 non-null object\n",
      "Nacionalidad                404 non-null object\n",
      "posicion_1                  404 non-null object\n",
      "posicion_2                  404 non-null object\n",
      "posicion_3                  404 non-null object\n",
      "minutos_jugados_pos1        404 non-null float64\n",
      "minutos_jugados_pos2        404 non-null float64\n",
      "minutos_jugados_pos3        404 non-null float64\n",
      "ranking_pos1                404 non-null float64\n",
      "ranking_pos2                404 non-null float64\n",
      "ranking_pos3                404 non-null float64\n",
      "ranking_restringido_pos1    404 non-null float64\n",
      "ranking_restringido_pos2    404 non-null float64\n",
      "ranking_restringido_pos3    404 non-null float64\n",
      "equipo_x                    404 non-null object\n",
      "value_2015                  404 non-null float64\n",
      "value_2016                  404 non-null float64\n",
      "edad                        404 non-null float64\n",
      "dtypes: float64(12), object(6)\n",
      "memory usage: 60.0+ KB\n"
     ]
    }
   ],
   "source": [
    "df.info()"
   ]
  },
  {
   "cell_type": "markdown",
   "metadata": {},
   "source": [
    "Con lo que hemos terminado el tratamiento.\n",
    "\n",
    "## Creación de Variables"
   ]
  },
  {
   "cell_type": "markdown",
   "metadata": {},
   "source": [
    "Notamos que los valores de minutos jugados en posición 1 y 2 se repiten en demasiadas ocasiones. Esto es información redundante y no debe usarse para la nueva variable minutos totales jugados.\n",
    "\n",
    "Filtramos las columnas en las que los minutos jugados en posición 1 y posición 2 son diferentes y además los minutos jugados en posición 2 son distintos de cero:  "
   ]
  },
  {
   "cell_type": "code",
   "execution_count": 189,
   "metadata": {},
   "outputs": [
    {
     "data": {
      "text/html": [
       "<div>\n",
       "<style scoped>\n",
       "    .dataframe tbody tr th:only-of-type {\n",
       "        vertical-align: middle;\n",
       "    }\n",
       "\n",
       "    .dataframe tbody tr th {\n",
       "        vertical-align: top;\n",
       "    }\n",
       "\n",
       "    .dataframe thead th {\n",
       "        text-align: right;\n",
       "    }\n",
       "</style>\n",
       "<table border=\"1\" class=\"dataframe\">\n",
       "  <thead>\n",
       "    <tr style=\"text-align: right;\">\n",
       "      <th></th>\n",
       "      <th>Jugador</th>\n",
       "      <th>Nacionalidad</th>\n",
       "      <th>posicion_1</th>\n",
       "      <th>posicion_2</th>\n",
       "      <th>posicion_3</th>\n",
       "      <th>minutos_jugados_pos1</th>\n",
       "      <th>minutos_jugados_pos2</th>\n",
       "      <th>minutos_jugados_pos3</th>\n",
       "      <th>ranking_pos1</th>\n",
       "      <th>ranking_pos2</th>\n",
       "      <th>ranking_pos3</th>\n",
       "      <th>ranking_restringido_pos1</th>\n",
       "      <th>ranking_restringido_pos2</th>\n",
       "      <th>ranking_restringido_pos3</th>\n",
       "      <th>equipo_x</th>\n",
       "      <th>value_2015</th>\n",
       "      <th>value_2016</th>\n",
       "      <th>edad</th>\n",
       "    </tr>\n",
       "  </thead>\n",
       "  <tbody>\n",
       "    <tr>\n",
       "      <th>142</th>\n",
       "      <td>Cufre, Brian Ezequiel</td>\n",
       "      <td>Argentina</td>\n",
       "      <td>Lateral por izquierda</td>\n",
       "      <td>Defensa central</td>\n",
       "      <td>No aplica</td>\n",
       "      <td>270.0</td>\n",
       "      <td>1689.0</td>\n",
       "      <td>0.0</td>\n",
       "      <td>3.060667</td>\n",
       "      <td>4.114000</td>\n",
       "      <td>0.000000</td>\n",
       "      <td>0.000000</td>\n",
       "      <td>4.114000</td>\n",
       "      <td>0.000000</td>\n",
       "      <td>Club Atlético Vélez Sarsfield</td>\n",
       "      <td>0.05</td>\n",
       "      <td>0.15</td>\n",
       "      <td>19.1</td>\n",
       "    </tr>\n",
       "    <tr>\n",
       "      <th>325</th>\n",
       "      <td>Papa, Emiliano</td>\n",
       "      <td>Argentina</td>\n",
       "      <td>Volante por izquierda</td>\n",
       "      <td>Lateral por izquierda</td>\n",
       "      <td>Volante Mixto</td>\n",
       "      <td>252.0</td>\n",
       "      <td>994.0</td>\n",
       "      <td>994.0</td>\n",
       "      <td>4.387206</td>\n",
       "      <td>5.772133</td>\n",
       "      <td>6.071831</td>\n",
       "      <td>0.000000</td>\n",
       "      <td>5.772133</td>\n",
       "      <td>6.071831</td>\n",
       "      <td>Club Atlético Independiente</td>\n",
       "      <td>1.20</td>\n",
       "      <td>0.50</td>\n",
       "      <td>33.8</td>\n",
       "    </tr>\n",
       "    <tr>\n",
       "      <th>327</th>\n",
       "      <td>Papa, Emiliano</td>\n",
       "      <td>Argentina</td>\n",
       "      <td>Volante por izquierda</td>\n",
       "      <td>Lateral por izquierda</td>\n",
       "      <td>Volante Mixto</td>\n",
       "      <td>252.0</td>\n",
       "      <td>994.0</td>\n",
       "      <td>994.0</td>\n",
       "      <td>4.387206</td>\n",
       "      <td>5.772133</td>\n",
       "      <td>6.071831</td>\n",
       "      <td>0.000000</td>\n",
       "      <td>5.772133</td>\n",
       "      <td>6.071831</td>\n",
       "      <td>Club Atlético Tigre</td>\n",
       "      <td>1.20</td>\n",
       "      <td>0.50</td>\n",
       "      <td>33.8</td>\n",
       "    </tr>\n",
       "    <tr>\n",
       "      <th>395</th>\n",
       "      <td>Rosales, Santiago</td>\n",
       "      <td>Argentina</td>\n",
       "      <td>Volante por izquierda</td>\n",
       "      <td>Volante por derecha</td>\n",
       "      <td>Volante Mixto</td>\n",
       "      <td>498.0</td>\n",
       "      <td>573.0</td>\n",
       "      <td>573.0</td>\n",
       "      <td>4.066265</td>\n",
       "      <td>4.112042</td>\n",
       "      <td>4.303665</td>\n",
       "      <td>0.000000</td>\n",
       "      <td>0.000000</td>\n",
       "      <td>0.000000</td>\n",
       "      <td>Club Atlético Aldosivi</td>\n",
       "      <td>0.05</td>\n",
       "      <td>0.50</td>\n",
       "      <td>20.8</td>\n",
       "    </tr>\n",
       "    <tr>\n",
       "      <th>418</th>\n",
       "      <td>Silva, Alejandro</td>\n",
       "      <td>Uruguaya</td>\n",
       "      <td>Volante por derecha</td>\n",
       "      <td>Lateral por derecha</td>\n",
       "      <td>No aplica</td>\n",
       "      <td>318.0</td>\n",
       "      <td>1650.0</td>\n",
       "      <td>0.0</td>\n",
       "      <td>4.866792</td>\n",
       "      <td>5.275636</td>\n",
       "      <td>0.000000</td>\n",
       "      <td>0.000000</td>\n",
       "      <td>5.275636</td>\n",
       "      <td>0.000000</td>\n",
       "      <td>Club Atlético Lanús</td>\n",
       "      <td>0.90</td>\n",
       "      <td>0.90</td>\n",
       "      <td>26.4</td>\n",
       "    </tr>\n",
       "    <tr>\n",
       "      <th>421</th>\n",
       "      <td>Solari, Augusto</td>\n",
       "      <td>Argentina</td>\n",
       "      <td>Volante por derecha</td>\n",
       "      <td>Lateral por derecha</td>\n",
       "      <td>No aplica</td>\n",
       "      <td>979.0</td>\n",
       "      <td>1776.0</td>\n",
       "      <td>0.0</td>\n",
       "      <td>5.645822</td>\n",
       "      <td>3.783193</td>\n",
       "      <td>0.000000</td>\n",
       "      <td>5.645822</td>\n",
       "      <td>3.783193</td>\n",
       "      <td>0.000000</td>\n",
       "      <td>Club Atlético River Plate</td>\n",
       "      <td>0.50</td>\n",
       "      <td>1.25</td>\n",
       "      <td>24.0</td>\n",
       "    </tr>\n",
       "    <tr>\n",
       "      <th>424</th>\n",
       "      <td>Solari, Augusto</td>\n",
       "      <td>Argentina</td>\n",
       "      <td>Volante por derecha</td>\n",
       "      <td>Lateral por derecha</td>\n",
       "      <td>No aplica</td>\n",
       "      <td>979.0</td>\n",
       "      <td>1776.0</td>\n",
       "      <td>0.0</td>\n",
       "      <td>5.645822</td>\n",
       "      <td>3.783193</td>\n",
       "      <td>0.000000</td>\n",
       "      <td>5.645822</td>\n",
       "      <td>3.783193</td>\n",
       "      <td>0.000000</td>\n",
       "      <td>Club Estudiantes de La Plata</td>\n",
       "      <td>0.50</td>\n",
       "      <td>1.25</td>\n",
       "      <td>24.0</td>\n",
       "    </tr>\n",
       "    <tr>\n",
       "      <th>447</th>\n",
       "      <td>Valdez Chamorro, Jorge Vidal</td>\n",
       "      <td>Argentina</td>\n",
       "      <td>Volante por derecha</td>\n",
       "      <td>Volante Mixto</td>\n",
       "      <td>Volante ofensivo</td>\n",
       "      <td>143.0</td>\n",
       "      <td>673.0</td>\n",
       "      <td>673.0</td>\n",
       "      <td>2.954895</td>\n",
       "      <td>4.740713</td>\n",
       "      <td>3.650817</td>\n",
       "      <td>0.000000</td>\n",
       "      <td>4.740713</td>\n",
       "      <td>3.650817</td>\n",
       "      <td>Club Atlético Lanús</td>\n",
       "      <td>0.50</td>\n",
       "      <td>0.50</td>\n",
       "      <td>21.7</td>\n",
       "    </tr>\n",
       "    <tr>\n",
       "      <th>449</th>\n",
       "      <td>Valdez Chamorro, Jorge Vidal</td>\n",
       "      <td>Argentina</td>\n",
       "      <td>Volante por derecha</td>\n",
       "      <td>Volante Mixto</td>\n",
       "      <td>Volante ofensivo</td>\n",
       "      <td>143.0</td>\n",
       "      <td>673.0</td>\n",
       "      <td>673.0</td>\n",
       "      <td>2.954895</td>\n",
       "      <td>4.740713</td>\n",
       "      <td>3.650817</td>\n",
       "      <td>0.000000</td>\n",
       "      <td>4.740713</td>\n",
       "      <td>3.650817</td>\n",
       "      <td>Club de Gimnasia y Esgrima La Plata</td>\n",
       "      <td>0.50</td>\n",
       "      <td>0.50</td>\n",
       "      <td>21.7</td>\n",
       "    </tr>\n",
       "    <tr>\n",
       "      <th>479</th>\n",
       "      <td>Zuqui, Fernando</td>\n",
       "      <td>Argentina</td>\n",
       "      <td>Volante por derecha</td>\n",
       "      <td>Volante defensivo</td>\n",
       "      <td>Volante Mixto</td>\n",
       "      <td>432.0</td>\n",
       "      <td>2466.0</td>\n",
       "      <td>2466.0</td>\n",
       "      <td>5.671875</td>\n",
       "      <td>6.151460</td>\n",
       "      <td>5.577372</td>\n",
       "      <td>0.000000</td>\n",
       "      <td>6.151460</td>\n",
       "      <td>5.577372</td>\n",
       "      <td>Club Atlético Boca Juniors</td>\n",
       "      <td>0.50</td>\n",
       "      <td>1.75</td>\n",
       "      <td>24.2</td>\n",
       "    </tr>\n",
       "    <tr>\n",
       "      <th>480</th>\n",
       "      <td>Zuqui, Fernando</td>\n",
       "      <td>Argentina</td>\n",
       "      <td>Volante por derecha</td>\n",
       "      <td>Volante defensivo</td>\n",
       "      <td>Volante Mixto</td>\n",
       "      <td>432.0</td>\n",
       "      <td>2466.0</td>\n",
       "      <td>2466.0</td>\n",
       "      <td>5.671875</td>\n",
       "      <td>6.151460</td>\n",
       "      <td>5.577372</td>\n",
       "      <td>0.000000</td>\n",
       "      <td>6.151460</td>\n",
       "      <td>5.577372</td>\n",
       "      <td>Club Deportivo Godoy Cruz Antonio Tomba</td>\n",
       "      <td>0.50</td>\n",
       "      <td>1.75</td>\n",
       "      <td>24.2</td>\n",
       "    </tr>\n",
       "  </tbody>\n",
       "</table>\n",
       "</div>"
      ],
      "text/plain": [
       "                          Jugador Nacionalidad             posicion_1  \\\n",
       "142         Cufre, Brian Ezequiel    Argentina  Lateral por izquierda   \n",
       "325                Papa, Emiliano    Argentina  Volante por izquierda   \n",
       "327                Papa, Emiliano    Argentina  Volante por izquierda   \n",
       "395             Rosales, Santiago    Argentina  Volante por izquierda   \n",
       "418              Silva, Alejandro     Uruguaya    Volante por derecha   \n",
       "421               Solari, Augusto    Argentina    Volante por derecha   \n",
       "424               Solari, Augusto    Argentina    Volante por derecha   \n",
       "447  Valdez Chamorro, Jorge Vidal    Argentina    Volante por derecha   \n",
       "449  Valdez Chamorro, Jorge Vidal    Argentina    Volante por derecha   \n",
       "479               Zuqui, Fernando    Argentina    Volante por derecha   \n",
       "480               Zuqui, Fernando    Argentina    Volante por derecha   \n",
       "\n",
       "                posicion_2        posicion_3  minutos_jugados_pos1  \\\n",
       "142        Defensa central         No aplica                 270.0   \n",
       "325  Lateral por izquierda    Volante Mixto                  252.0   \n",
       "327  Lateral por izquierda    Volante Mixto                  252.0   \n",
       "395    Volante por derecha    Volante Mixto                  498.0   \n",
       "418    Lateral por derecha         No aplica                 318.0   \n",
       "421    Lateral por derecha         No aplica                 979.0   \n",
       "424    Lateral por derecha         No aplica                 979.0   \n",
       "447         Volante Mixto   Volante ofensivo                 143.0   \n",
       "449         Volante Mixto   Volante ofensivo                 143.0   \n",
       "479      Volante defensivo    Volante Mixto                  432.0   \n",
       "480      Volante defensivo    Volante Mixto                  432.0   \n",
       "\n",
       "     minutos_jugados_pos2  minutos_jugados_pos3  ranking_pos1  ranking_pos2  \\\n",
       "142                1689.0                   0.0      3.060667      4.114000   \n",
       "325                 994.0                 994.0      4.387206      5.772133   \n",
       "327                 994.0                 994.0      4.387206      5.772133   \n",
       "395                 573.0                 573.0      4.066265      4.112042   \n",
       "418                1650.0                   0.0      4.866792      5.275636   \n",
       "421                1776.0                   0.0      5.645822      3.783193   \n",
       "424                1776.0                   0.0      5.645822      3.783193   \n",
       "447                 673.0                 673.0      2.954895      4.740713   \n",
       "449                 673.0                 673.0      2.954895      4.740713   \n",
       "479                2466.0                2466.0      5.671875      6.151460   \n",
       "480                2466.0                2466.0      5.671875      6.151460   \n",
       "\n",
       "     ranking_pos3  ranking_restringido_pos1  ranking_restringido_pos2  \\\n",
       "142      0.000000                  0.000000                  4.114000   \n",
       "325      6.071831                  0.000000                  5.772133   \n",
       "327      6.071831                  0.000000                  5.772133   \n",
       "395      4.303665                  0.000000                  0.000000   \n",
       "418      0.000000                  0.000000                  5.275636   \n",
       "421      0.000000                  5.645822                  3.783193   \n",
       "424      0.000000                  5.645822                  3.783193   \n",
       "447      3.650817                  0.000000                  4.740713   \n",
       "449      3.650817                  0.000000                  4.740713   \n",
       "479      5.577372                  0.000000                  6.151460   \n",
       "480      5.577372                  0.000000                  6.151460   \n",
       "\n",
       "     ranking_restringido_pos3                                 equipo_x  \\\n",
       "142                  0.000000            Club Atlético Vélez Sarsfield   \n",
       "325                  6.071831              Club Atlético Independiente   \n",
       "327                  6.071831                      Club Atlético Tigre   \n",
       "395                  0.000000                   Club Atlético Aldosivi   \n",
       "418                  0.000000                      Club Atlético Lanús   \n",
       "421                  0.000000                Club Atlético River Plate   \n",
       "424                  0.000000             Club Estudiantes de La Plata   \n",
       "447                  3.650817                      Club Atlético Lanús   \n",
       "449                  3.650817      Club de Gimnasia y Esgrima La Plata   \n",
       "479                  5.577372               Club Atlético Boca Juniors   \n",
       "480                  5.577372  Club Deportivo Godoy Cruz Antonio Tomba   \n",
       "\n",
       "     value_2015  value_2016  edad  \n",
       "142        0.05        0.15  19.1  \n",
       "325        1.20        0.50  33.8  \n",
       "327        1.20        0.50  33.8  \n",
       "395        0.05        0.50  20.8  \n",
       "418        0.90        0.90  26.4  \n",
       "421        0.50        1.25  24.0  \n",
       "424        0.50        1.25  24.0  \n",
       "447        0.50        0.50  21.7  \n",
       "449        0.50        0.50  21.7  \n",
       "479        0.50        1.75  24.2  \n",
       "480        0.50        1.75  24.2  "
      ]
     },
     "execution_count": 189,
     "metadata": {},
     "output_type": "execute_result"
    }
   ],
   "source": [
    "df[(df.minutos_jugados_pos1 != df.minutos_jugados_pos2) & (df.minutos_jugados_pos2 != 0)]"
   ]
  },
  {
   "cell_type": "code",
   "execution_count": 190,
   "metadata": {},
   "outputs": [
    {
     "data": {
      "text/plain": [
       "11"
      ]
     },
     "execution_count": 190,
     "metadata": {},
     "output_type": "execute_result"
    }
   ],
   "source": [
    "len(df[(df.minutos_jugados_pos1 != df.minutos_jugados_pos2) & (df.minutos_jugados_pos2 != 0)])"
   ]
  },
  {
   "cell_type": "markdown",
   "metadata": {},
   "source": [
    "Sólo tenemos 11 jugadores con minutos jugados diferentes en dos posiciones diferentes.\n",
    "Ahora veamos cuantos tenemos con minutos diferentes en la posición dos y tres:"
   ]
  },
  {
   "cell_type": "code",
   "execution_count": 191,
   "metadata": {},
   "outputs": [
    {
     "data": {
      "text/html": [
       "<div>\n",
       "<style scoped>\n",
       "    .dataframe tbody tr th:only-of-type {\n",
       "        vertical-align: middle;\n",
       "    }\n",
       "\n",
       "    .dataframe tbody tr th {\n",
       "        vertical-align: top;\n",
       "    }\n",
       "\n",
       "    .dataframe thead th {\n",
       "        text-align: right;\n",
       "    }\n",
       "</style>\n",
       "<table border=\"1\" class=\"dataframe\">\n",
       "  <thead>\n",
       "    <tr style=\"text-align: right;\">\n",
       "      <th></th>\n",
       "      <th>Jugador</th>\n",
       "      <th>Nacionalidad</th>\n",
       "      <th>posicion_1</th>\n",
       "      <th>posicion_2</th>\n",
       "      <th>posicion_3</th>\n",
       "      <th>minutos_jugados_pos1</th>\n",
       "      <th>minutos_jugados_pos2</th>\n",
       "      <th>minutos_jugados_pos3</th>\n",
       "      <th>ranking_pos1</th>\n",
       "      <th>ranking_pos2</th>\n",
       "      <th>ranking_pos3</th>\n",
       "      <th>ranking_restringido_pos1</th>\n",
       "      <th>ranking_restringido_pos2</th>\n",
       "      <th>ranking_restringido_pos3</th>\n",
       "      <th>equipo_x</th>\n",
       "      <th>value_2015</th>\n",
       "      <th>value_2016</th>\n",
       "      <th>edad</th>\n",
       "    </tr>\n",
       "  </thead>\n",
       "  <tbody>\n",
       "    <tr>\n",
       "      <th>386</th>\n",
       "      <td>Rodriguez, Thomas</td>\n",
       "      <td>Argentina</td>\n",
       "      <td>Volante por derecha</td>\n",
       "      <td>Volante defensivo</td>\n",
       "      <td>Volante Mixto</td>\n",
       "      <td>14.0</td>\n",
       "      <td>14.0</td>\n",
       "      <td>197.0</td>\n",
       "      <td>3.857143</td>\n",
       "      <td>2.957143</td>\n",
       "      <td>5.050508</td>\n",
       "      <td>0.000000</td>\n",
       "      <td>0.000000</td>\n",
       "      <td>0.00000</td>\n",
       "      <td>Club Atlético Banfield</td>\n",
       "      <td>0.05</td>\n",
       "      <td>0.1</td>\n",
       "      <td>19.8</td>\n",
       "    </tr>\n",
       "    <tr>\n",
       "      <th>389</th>\n",
       "      <td>Romero Gamarra, Alejandro</td>\n",
       "      <td>Argentina</td>\n",
       "      <td>Volante por izquierda</td>\n",
       "      <td>Volante por derecha</td>\n",
       "      <td>Volante Mixto</td>\n",
       "      <td>714.0</td>\n",
       "      <td>714.0</td>\n",
       "      <td>1887.0</td>\n",
       "      <td>5.142857</td>\n",
       "      <td>5.316807</td>\n",
       "      <td>4.973370</td>\n",
       "      <td>5.142857</td>\n",
       "      <td>5.316807</td>\n",
       "      <td>4.97337</td>\n",
       "      <td>Club Atlético Huracán</td>\n",
       "      <td>0.05</td>\n",
       "      <td>0.2</td>\n",
       "      <td>21.0</td>\n",
       "    </tr>\n",
       "  </tbody>\n",
       "</table>\n",
       "</div>"
      ],
      "text/plain": [
       "                       Jugador Nacionalidad             posicion_1  \\\n",
       "386          Rodriguez, Thomas    Argentina    Volante por derecha   \n",
       "389  Romero Gamarra, Alejandro    Argentina  Volante por izquierda   \n",
       "\n",
       "              posicion_2      posicion_3  minutos_jugados_pos1  \\\n",
       "386    Volante defensivo  Volante Mixto                   14.0   \n",
       "389  Volante por derecha  Volante Mixto                  714.0   \n",
       "\n",
       "     minutos_jugados_pos2  minutos_jugados_pos3  ranking_pos1  ranking_pos2  \\\n",
       "386                  14.0                 197.0      3.857143      2.957143   \n",
       "389                 714.0                1887.0      5.142857      5.316807   \n",
       "\n",
       "     ranking_pos3  ranking_restringido_pos1  ranking_restringido_pos2  \\\n",
       "386      5.050508                  0.000000                  0.000000   \n",
       "389      4.973370                  5.142857                  5.316807   \n",
       "\n",
       "     ranking_restringido_pos3                equipo_x  value_2015  value_2016  \\\n",
       "386                   0.00000  Club Atlético Banfield        0.05         0.1   \n",
       "389                   4.97337   Club Atlético Huracán        0.05         0.2   \n",
       "\n",
       "     edad  \n",
       "386  19.8  \n",
       "389  21.0  "
      ]
     },
     "execution_count": 191,
     "metadata": {},
     "output_type": "execute_result"
    }
   ],
   "source": [
    "df[(df.minutos_jugados_pos3 != 0) & (df.minutos_jugados_pos3 != df.minutos_jugados_pos2)]"
   ]
  },
  {
   "cell_type": "markdown",
   "metadata": {},
   "source": [
    "Sólo tenemos dos jugadores con posición 2 y 3 distintas de cero y con valores distintos. Y encima, estos dos jugadores tienen repetidos sus minutos en la posición 1 y 2. \n",
    "\n",
    "Bastará con escribir una función que compare los minutos jugados en 1 con 2, si son iguales que sólo considere una para la suma, si son diferentes que compare los minutos en 2 y 3.   "
   ]
  },
  {
   "cell_type": "code",
   "execution_count": 221,
   "metadata": {},
   "outputs": [
    {
     "ename": "ValueError",
     "evalue": "The truth value of a Series is ambiguous. Use a.empty, a.bool(), a.item(), a.any() or a.all().",
     "output_type": "error",
     "traceback": [
      "\u001b[1;31m---------------------------------------------------------------------------\u001b[0m",
      "\u001b[1;31mValueError\u001b[0m                                Traceback (most recent call last)",
      "\u001b[1;32m<ipython-input-221-c43b86f0c055>\u001b[0m in \u001b[0;36m<module>\u001b[1;34m()\u001b[0m\n\u001b[1;32m----> 1\u001b[1;33m \u001b[1;32mif\u001b[0m \u001b[0mdf\u001b[0m\u001b[1;33m.\u001b[0m\u001b[0mminutos_jugados_pos1\u001b[0m \u001b[1;33m==\u001b[0m \u001b[0mdf\u001b[0m\u001b[1;33m.\u001b[0m\u001b[0mminutos_jugados_pos2\u001b[0m\u001b[1;33m:\u001b[0m\u001b[1;33m\u001b[0m\u001b[0m\n\u001b[0m\u001b[0;32m      2\u001b[0m     \u001b[0mprint\u001b[0m\u001b[1;33m(\u001b[0m\u001b[1;34m'gatus'\u001b[0m\u001b[1;33m)\u001b[0m\u001b[1;33m\u001b[0m\u001b[0m\n",
      "\u001b[1;32m~\\Anaconda3\\lib\\site-packages\\pandas\\core\\generic.py\u001b[0m in \u001b[0;36m__nonzero__\u001b[1;34m(self)\u001b[0m\n\u001b[0;32m   1574\u001b[0m         raise ValueError(\"The truth value of a {0} is ambiguous. \"\n\u001b[0;32m   1575\u001b[0m                          \u001b[1;34m\"Use a.empty, a.bool(), a.item(), a.any() or a.all().\"\u001b[0m\u001b[1;33m\u001b[0m\u001b[0m\n\u001b[1;32m-> 1576\u001b[1;33m                          .format(self.__class__.__name__))\n\u001b[0m\u001b[0;32m   1577\u001b[0m \u001b[1;33m\u001b[0m\u001b[0m\n\u001b[0;32m   1578\u001b[0m     \u001b[0m__bool__\u001b[0m \u001b[1;33m=\u001b[0m \u001b[0m__nonzero__\u001b[0m\u001b[1;33m\u001b[0m\u001b[0m\n",
      "\u001b[1;31mValueError\u001b[0m: The truth value of a Series is ambiguous. Use a.empty, a.bool(), a.item(), a.any() or a.all()."
     ]
    }
   ],
   "source": [
    "if df.minutos_jugados_pos1 == df.minutos_jugados_pos2:\n",
    "    print('gatus')"
   ]
  },
  {
   "cell_type": "code",
   "execution_count": 201,
   "metadata": {},
   "outputs": [
    {
     "ename": "ValueError",
     "evalue": "The truth value of a Series is ambiguous. Use a.empty, a.bool(), a.item(), a.any() or a.all().",
     "output_type": "error",
     "traceback": [
      "\u001b[1;31m---------------------------------------------------------------------------\u001b[0m",
      "\u001b[1;31mValueError\u001b[0m                                Traceback (most recent call last)",
      "\u001b[1;32m<ipython-input-201-3019e492898d>\u001b[0m in \u001b[0;36m<module>\u001b[1;34m()\u001b[0m\n\u001b[1;32m----> 1\u001b[1;33m \u001b[1;32mif\u001b[0m \u001b[1;33m(\u001b[0m\u001b[1;33m(\u001b[0m\u001b[0mdf\u001b[0m\u001b[1;33m.\u001b[0m\u001b[0mminutos_jugados_pos1\u001b[0m\u001b[1;33m)\u001b[0m \u001b[1;33m==\u001b[0m \u001b[1;33m(\u001b[0m\u001b[0mdf\u001b[0m\u001b[1;33m.\u001b[0m\u001b[0mminutos_jugados_pos2\u001b[0m\u001b[1;33m)\u001b[0m\u001b[1;33m)\u001b[0m \u001b[1;33m&\u001b[0m \u001b[1;33m(\u001b[0m\u001b[1;33m(\u001b[0m\u001b[0mdf\u001b[0m\u001b[1;33m.\u001b[0m\u001b[0mminutos_jugados_pos3\u001b[0m \u001b[1;33m!=\u001b[0m \u001b[1;36m0\u001b[0m\u001b[1;33m)\u001b[0m\u001b[1;33m)\u001b[0m\u001b[1;33m:\u001b[0m\u001b[1;33m\u001b[0m\u001b[0m\n\u001b[0m\u001b[0;32m      2\u001b[0m     \u001b[0mprint\u001b[0m\u001b[1;33m(\u001b[0m\u001b[1;34m'gatus'\u001b[0m\u001b[1;33m)\u001b[0m\u001b[1;33m\u001b[0m\u001b[0m\n",
      "\u001b[1;32m~\\Anaconda3\\lib\\site-packages\\pandas\\core\\generic.py\u001b[0m in \u001b[0;36m__nonzero__\u001b[1;34m(self)\u001b[0m\n\u001b[0;32m   1574\u001b[0m         raise ValueError(\"The truth value of a {0} is ambiguous. \"\n\u001b[0;32m   1575\u001b[0m                          \u001b[1;34m\"Use a.empty, a.bool(), a.item(), a.any() or a.all().\"\u001b[0m\u001b[1;33m\u001b[0m\u001b[0m\n\u001b[1;32m-> 1576\u001b[1;33m                          .format(self.__class__.__name__))\n\u001b[0m\u001b[0;32m   1577\u001b[0m \u001b[1;33m\u001b[0m\u001b[0m\n\u001b[0;32m   1578\u001b[0m     \u001b[0m__bool__\u001b[0m \u001b[1;33m=\u001b[0m \u001b[0m__nonzero__\u001b[0m\u001b[1;33m\u001b[0m\u001b[0m\n",
      "\u001b[1;31mValueError\u001b[0m: The truth value of a Series is ambiguous. Use a.empty, a.bool(), a.item(), a.any() or a.all()."
     ]
    }
   ],
   "source": [
    "if (df.minutos_jugados_pos1 == df.minutos_jugados_pos2) & (df.minutos_jugados_pos3 != 0):\n",
    "    print('gatus')"
   ]
  },
  {
   "cell_type": "code",
   "execution_count": 127,
   "metadata": {},
   "outputs": [
    {
     "data": {
      "text/plain": [
       "0       True\n",
       "2       True\n",
       "3       True\n",
       "4       True\n",
       "5      False\n",
       "6       True\n",
       "7      False\n",
       "9       True\n",
       "10      True\n",
       "11      True\n",
       "12     False\n",
       "13      True\n",
       "14      True\n",
       "15     False\n",
       "16      True\n",
       "17     False\n",
       "18     False\n",
       "19      True\n",
       "20      True\n",
       "21      True\n",
       "23      True\n",
       "24     False\n",
       "25     False\n",
       "26     False\n",
       "28     False\n",
       "29      True\n",
       "30      True\n",
       "31      True\n",
       "32      True\n",
       "33      True\n",
       "       ...  \n",
       "445    False\n",
       "446    False\n",
       "447    False\n",
       "449    False\n",
       "451     True\n",
       "452     True\n",
       "453    False\n",
       "455     True\n",
       "456     True\n",
       "457     True\n",
       "458    False\n",
       "459     True\n",
       "460     True\n",
       "462     True\n",
       "463     True\n",
       "464     True\n",
       "465    False\n",
       "466     True\n",
       "467    False\n",
       "468    False\n",
       "469     True\n",
       "471     True\n",
       "472     True\n",
       "473    False\n",
       "475     True\n",
       "476    False\n",
       "477    False\n",
       "478    False\n",
       "479    False\n",
       "480    False\n",
       "Length: 404, dtype: bool"
      ]
     },
     "execution_count": 127,
     "metadata": {},
     "output_type": "execute_result"
    }
   ],
   "source": [
    "df['total_minutos_jugados'] = (df.minutos_jugados_pos1)+(df.minutos_jugados_pos2)+(df.minutos_jugados_pos3)"
   ]
  },
  {
   "cell_type": "code",
   "execution_count": 137,
   "metadata": {},
   "outputs": [
    {
     "data": {
      "text/html": [
       "<div>\n",
       "<style scoped>\n",
       "    .dataframe tbody tr th:only-of-type {\n",
       "        vertical-align: middle;\n",
       "    }\n",
       "\n",
       "    .dataframe tbody tr th {\n",
       "        vertical-align: top;\n",
       "    }\n",
       "\n",
       "    .dataframe thead th {\n",
       "        text-align: right;\n",
       "    }\n",
       "</style>\n",
       "<table border=\"1\" class=\"dataframe\">\n",
       "  <thead>\n",
       "    <tr style=\"text-align: right;\">\n",
       "      <th></th>\n",
       "      <th>Jugador</th>\n",
       "      <th>Nacionalidad</th>\n",
       "      <th>posicion_1</th>\n",
       "      <th>posicion_2</th>\n",
       "      <th>posicion_3</th>\n",
       "      <th>minutos_jugados_pos1</th>\n",
       "      <th>minutos_jugados_pos2</th>\n",
       "      <th>minutos_jugados_pos3</th>\n",
       "      <th>ranking_pos1</th>\n",
       "      <th>ranking_pos2</th>\n",
       "      <th>ranking_pos3</th>\n",
       "      <th>ranking_restringido_pos1</th>\n",
       "      <th>ranking_restringido_pos2</th>\n",
       "      <th>ranking_restringido_pos3</th>\n",
       "      <th>equipo_x</th>\n",
       "      <th>value_2015</th>\n",
       "      <th>value_2016</th>\n",
       "      <th>edad</th>\n",
       "    </tr>\n",
       "  </thead>\n",
       "  <tbody>\n",
       "    <tr>\n",
       "      <th>0</th>\n",
       "      <td>Acevedo, Nelson</td>\n",
       "      <td>Argentina</td>\n",
       "      <td>Volante defensivo</td>\n",
       "      <td>Volante Mixto</td>\n",
       "      <td>No aplica</td>\n",
       "      <td>699.0</td>\n",
       "      <td>699.0</td>\n",
       "      <td>0.0</td>\n",
       "      <td>8.114807</td>\n",
       "      <td>6.786695</td>\n",
       "      <td>0.0</td>\n",
       "      <td>8.114807</td>\n",
       "      <td>6.786695</td>\n",
       "      <td>0.0</td>\n",
       "      <td>Club Atlético Unión (Santa Fe)</td>\n",
       "      <td>0.075</td>\n",
       "      <td>0.225</td>\n",
       "      <td>27.5</td>\n",
       "    </tr>\n",
       "    <tr>\n",
       "      <th>2</th>\n",
       "      <td>Acosta, Lautaro</td>\n",
       "      <td>Argentina</td>\n",
       "      <td>Volante por izquierda</td>\n",
       "      <td>Volante Mixto</td>\n",
       "      <td>No aplica</td>\n",
       "      <td>1842.0</td>\n",
       "      <td>1842.0</td>\n",
       "      <td>0.0</td>\n",
       "      <td>3.784080</td>\n",
       "      <td>3.557492</td>\n",
       "      <td>0.0</td>\n",
       "      <td>3.784080</td>\n",
       "      <td>3.557492</td>\n",
       "      <td>0.0</td>\n",
       "      <td>Club Atlético Lanús</td>\n",
       "      <td>1.800</td>\n",
       "      <td>2.000</td>\n",
       "      <td>27.9</td>\n",
       "    </tr>\n",
       "    <tr>\n",
       "      <th>3</th>\n",
       "      <td>Acuna, Marcos</td>\n",
       "      <td>Argentina</td>\n",
       "      <td>Volante por derecha</td>\n",
       "      <td>Volante Mixto</td>\n",
       "      <td>No aplica</td>\n",
       "      <td>1557.0</td>\n",
       "      <td>1557.0</td>\n",
       "      <td>0.0</td>\n",
       "      <td>4.772254</td>\n",
       "      <td>5.514451</td>\n",
       "      <td>0.0</td>\n",
       "      <td>4.772254</td>\n",
       "      <td>5.514451</td>\n",
       "      <td>0.0</td>\n",
       "      <td>Racing Club</td>\n",
       "      <td>0.050</td>\n",
       "      <td>2.000</td>\n",
       "      <td>24.2</td>\n",
       "    </tr>\n",
       "    <tr>\n",
       "      <th>4</th>\n",
       "      <td>Aguero, Emiliano German</td>\n",
       "      <td>Argentina</td>\n",
       "      <td>Volante defensivo</td>\n",
       "      <td>Volante Mixto</td>\n",
       "      <td>No aplica</td>\n",
       "      <td>791.0</td>\n",
       "      <td>791.0</td>\n",
       "      <td>0.0</td>\n",
       "      <td>7.301833</td>\n",
       "      <td>6.352339</td>\n",
       "      <td>0.0</td>\n",
       "      <td>7.301833</td>\n",
       "      <td>6.352339</td>\n",
       "      <td>0.0</td>\n",
       "      <td>Club Atlético San Martín (SJ)</td>\n",
       "      <td>0.050</td>\n",
       "      <td>0.400</td>\n",
       "      <td>21.0</td>\n",
       "    </tr>\n",
       "    <tr>\n",
       "      <th>5</th>\n",
       "      <td>Aguilar, Pablo Andres</td>\n",
       "      <td>Argentina</td>\n",
       "      <td>Lateral por derecha</td>\n",
       "      <td>No aplica</td>\n",
       "      <td>No aplica</td>\n",
       "      <td>1817.0</td>\n",
       "      <td>0.0</td>\n",
       "      <td>0.0</td>\n",
       "      <td>3.125531</td>\n",
       "      <td>0.000000</td>\n",
       "      <td>0.0</td>\n",
       "      <td>3.125531</td>\n",
       "      <td>0.000000</td>\n",
       "      <td>0.0</td>\n",
       "      <td>Club Atlético San Martín (SJ)</td>\n",
       "      <td>0.350</td>\n",
       "      <td>0.350</td>\n",
       "      <td>31.4</td>\n",
       "    </tr>\n",
       "  </tbody>\n",
       "</table>\n",
       "</div>"
      ],
      "text/plain": [
       "                   Jugador Nacionalidad             posicion_1  \\\n",
       "0          Acevedo, Nelson    Argentina      Volante defensivo   \n",
       "2          Acosta, Lautaro    Argentina  Volante por izquierda   \n",
       "3            Acuna, Marcos    Argentina    Volante por derecha   \n",
       "4  Aguero, Emiliano German    Argentina      Volante defensivo   \n",
       "5    Aguilar, Pablo Andres    Argentina    Lateral por derecha   \n",
       "\n",
       "       posicion_2 posicion_3  minutos_jugados_pos1  minutos_jugados_pos2  \\\n",
       "0  Volante Mixto   No aplica                 699.0                 699.0   \n",
       "2  Volante Mixto   No aplica                1842.0                1842.0   \n",
       "3  Volante Mixto   No aplica                1557.0                1557.0   \n",
       "4  Volante Mixto   No aplica                 791.0                 791.0   \n",
       "5       No aplica  No aplica                1817.0                   0.0   \n",
       "\n",
       "   minutos_jugados_pos3  ranking_pos1  ranking_pos2  ranking_pos3  \\\n",
       "0                   0.0      8.114807      6.786695           0.0   \n",
       "2                   0.0      3.784080      3.557492           0.0   \n",
       "3                   0.0      4.772254      5.514451           0.0   \n",
       "4                   0.0      7.301833      6.352339           0.0   \n",
       "5                   0.0      3.125531      0.000000           0.0   \n",
       "\n",
       "   ranking_restringido_pos1  ranking_restringido_pos2  \\\n",
       "0                  8.114807                  6.786695   \n",
       "2                  3.784080                  3.557492   \n",
       "3                  4.772254                  5.514451   \n",
       "4                  7.301833                  6.352339   \n",
       "5                  3.125531                  0.000000   \n",
       "\n",
       "   ranking_restringido_pos3                        equipo_x  value_2015  \\\n",
       "0                       0.0  Club Atlético Unión (Santa Fe)       0.075   \n",
       "2                       0.0             Club Atlético Lanús       1.800   \n",
       "3                       0.0                     Racing Club       0.050   \n",
       "4                       0.0   Club Atlético San Martín (SJ)       0.050   \n",
       "5                       0.0   Club Atlético San Martín (SJ)       0.350   \n",
       "\n",
       "   value_2016  edad  \n",
       "0       0.225  27.5  \n",
       "2       2.000  27.9  \n",
       "3       2.000  24.2  \n",
       "4       0.400  21.0  \n",
       "5       0.350  31.4  "
      ]
     },
     "execution_count": 137,
     "metadata": {},
     "output_type": "execute_result"
    }
   ],
   "source": [
    "df"
   ]
  },
  {
   "cell_type": "code",
   "execution_count": null,
   "metadata": {},
   "outputs": [],
   "source": []
  },
  {
   "cell_type": "code",
   "execution_count": null,
   "metadata": {},
   "outputs": [],
   "source": []
  },
  {
   "cell_type": "code",
   "execution_count": null,
   "metadata": {},
   "outputs": [],
   "source": []
  }
 ],
 "metadata": {
  "kernelspec": {
   "display_name": "Python 3",
   "language": "python",
   "name": "python3"
  },
  "language_info": {
   "codemirror_mode": {
    "name": "ipython",
    "version": 3
   },
   "file_extension": ".py",
   "mimetype": "text/x-python",
   "name": "python",
   "nbconvert_exporter": "python",
   "pygments_lexer": "ipython3",
   "version": "3.6.6"
  }
 },
 "nbformat": 4,
 "nbformat_minor": 2
}
