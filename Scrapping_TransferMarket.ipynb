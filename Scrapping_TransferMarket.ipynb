{
 "cells": [
  {
   "cell_type": "code",
   "execution_count": 1,
   "metadata": {},
   "outputs": [],
   "source": [
    "#Scrapping\n",
    "from bs4 import BeautifulSoup\n",
    "import requests\n",
    "#formato y filtros\n",
    "import numpy as np\n",
    "import pandas as pd\n",
    "#preprocesamiento\n",
    "import locale\n",
    "locale.setlocale(locale.LC_ALL, 'en_US.UTF-8')\n",
    "import unidecode"
   ]
  },
  {
   "cell_type": "markdown",
   "metadata": {},
   "source": [
    "https://fcpython.com/blog/introduction-scraping-data-transfermarkt\n",
    "\n",
    "Se sigue el link anterior como tutorial para scrapear la info."
   ]
  },
  {
   "cell_type": "raw",
   "metadata": {},
   "source": [
    "headers = {'User-Agent': \n",
    "           'Mozilla/5.0 (X11; Linux x86_64) AppleWebKit/537.36 (KHTML, like Gecko) Chrome/47.0.2526.106 Safari/537.36'}\n",
    "\n",
    "page = \"https://www.transfermarkt.co.uk/transfers/transferrekorde/statistik/top/plus/0/galerie/0?saison_id=2000\"\n",
    "pageTree = requests.get(page, headers=headers)\n",
    "pageSoup = BeautifulSoup(pageTree.content, 'html.parser')\n",
    "\n",
    "Players = pageSoup.find_all(\"a\", {\"class\": \"spielprofil_tooltip\"})\n",
    "\n",
    "#Let's look at the first name in the Players list.\n",
    "print(Players[0].text)\n",
    "\n",
    "Values = pageSoup.find_all(\"td\", {\"class\": \"rechts hauptlink\"})\n",
    "\n",
    "print(Values[0].text)\n",
    "\n",
    "PlayersList = []\n",
    "ValuesList = []\n",
    "\n",
    "for i in range(0,25):\n",
    "    PlayersList.append(Players[i].text)\n",
    "    ValuesList.append(Values[i].text)\n",
    "    \n",
    "df = pd.DataFrame({\"Players\":PlayersList,\"Values\":ValuesList})\n",
    "\n",
    "df.head()"
   ]
  },
  {
   "cell_type": "markdown",
   "metadata": {},
   "source": [
    "El codigo anterior ejemplifica el scrapping para obtener el nombre del jugador y el costo de su traspaso, ordenado de mayor a menor traspaso durante el anio 2000"
   ]
  },
  {
   "cell_type": "markdown",
   "metadata": {},
   "source": [
    "# 2018"
   ]
  },
  {
   "cell_type": "code",
   "execution_count": 2,
   "metadata": {},
   "outputs": [],
   "source": [
    "url_madre = 'https://www.transfermarkt.es'\n",
    "#header para que no te cache que eres una webscrapping\n",
    "headers = {'User-Agent': \n",
    "           'Mozilla/5.0 (X11; Linux x86_64) AppleWebKit/537.36 (KHTML, like Gecko) Chrome/47.0.2526.106 Safari/537.36'}\n",
    "#Liga De Interes y anio\n",
    "page = \"https://www.transfermarkt.es/primera-division/startseite/wettbewerb/AR1N\"\n",
    "#pedida de datos\n",
    "pageTree = requests.get(page, headers=headers)\n",
    "#contenido de pagina\n",
    "pageSoup = BeautifulSoup(pageTree.content, 'html.parser')"
   ]
  },
  {
   "cell_type": "code",
   "execution_count": 3,
   "metadata": {},
   "outputs": [],
   "source": [
    "#obtencion de urls para scrapear el predio de cada uno\n",
    "# El [1] Se obtuvo a ojo viendo cual era la tabla de interes.\n",
    "lista_de_interes = pageSoup.find_all('tbody')[1].find_all('a', {\"class\": 'vereinprofil_tooltip'}, href=True)\n",
    "urls_2018 = [urls['href'] for urls in lista_de_interes]\n",
    "urls_2018 = pd.Series(urls_2018).unique()"
   ]
  },
  {
   "cell_type": "code",
   "execution_count": 4,
   "metadata": {},
   "outputs": [
    {
     "data": {
      "text/plain": [
       "26"
      ]
     },
     "execution_count": 4,
     "metadata": {},
     "output_type": "execute_result"
    }
   ],
   "source": [
    "#check de numero de equipos\n",
    "len(urls_2018)"
   ]
  },
  {
   "cell_type": "code",
   "execution_count": 5,
   "metadata": {},
   "outputs": [
    {
     "data": {
      "text/plain": [
       "array(['/club-atletico-boca-juniors/startseite/verein/189/saison_id/2018',\n",
       "       '/club-atletico-river-plate/startseite/verein/209/saison_id/2018',\n",
       "       '/ca-independiente-de-avellaneda/startseite/verein/1234/saison_id/2018',\n",
       "       '/racing-club-de-avellaneda/startseite/verein/1444/saison_id/2018',\n",
       "       '/club-atletico-velez-sarsfield/startseite/verein/1029/saison_id/2018',\n",
       "       '/defensa-y-justicia/startseite/verein/2402/saison_id/2018',\n",
       "       '/club-atletico-san-lorenzo-de-almagro/startseite/verein/1775/saison_id/2018',\n",
       "       '/club-deportivo-godoy-cruz/startseite/verein/12574/saison_id/2018',\n",
       "       '/talleres-de-cordoba-ca/startseite/verein/3938/saison_id/2018',\n",
       "       '/club-atletico-lanus/startseite/verein/333/saison_id/2018',\n",
       "       '/club-atletico-rosario-central/startseite/verein/1418/saison_id/2018',\n",
       "       '/club-atletico-colon-santa-fe-/startseite/verein/1070/saison_id/2018',\n",
       "       '/club-atletico-huracan/startseite/verein/2063/saison_id/2018',\n",
       "       '/argentinos-juniors/startseite/verein/1030/saison_id/2018',\n",
       "       '/ca-union-santa-fe/startseite/verein/7097/saison_id/2018',\n",
       "       '/belgrano-de-cordoba/startseite/verein/2417/saison_id/2018',\n",
       "       '/club-atletico-tigre/startseite/verein/11831/saison_id/2018',\n",
       "       '/club-atletico-aldosivi-mdp-/startseite/verein/12301/saison_id/2018',\n",
       "       '/club-atletico-banfield/startseite/verein/830/saison_id/2018',\n",
       "       '/club-atletico-newells-old-boys/startseite/verein/1286/saison_id/2018',\n",
       "       '/estudiantes-de-la-plata/startseite/verein/288/saison_id/2018',\n",
       "       '/club-de-gimnasia-y-esgrima-la-plata/startseite/verein/1106/saison_id/2018',\n",
       "       '/club-atletico-tucuman/startseite/verein/14554/saison_id/2018',\n",
       "       '/club-atletico-san-martin-sj-/startseite/verein/10511/saison_id/2018',\n",
       "       '/club-atletico-san-martin-tucuman-/startseite/verein/12709/saison_id/2018',\n",
       "       '/club-atletico-patronato/startseite/verein/19806/saison_id/2018'],\n",
       "      dtype=object)"
      ]
     },
     "execution_count": 5,
     "metadata": {},
     "output_type": "execute_result"
    }
   ],
   "source": [
    "# ligas para ir al equipo de interes.\n",
    "urls_2018"
   ]
  },
  {
   "cell_type": "code",
   "execution_count": 6,
   "metadata": {},
   "outputs": [
    {
     "data": {
      "text/plain": [
       "<Response [200]>"
      ]
     },
     "execution_count": 6,
     "metadata": {},
     "output_type": "execute_result"
    }
   ],
   "source": [
    "requests.get(url_madre+urls_2018[0], headers=headers)"
   ]
  },
  {
   "cell_type": "markdown",
   "metadata": {},
   "source": [
    "# 2017"
   ]
  },
  {
   "cell_type": "code",
   "execution_count": 7,
   "metadata": {},
   "outputs": [],
   "source": [
    "url_madre = 'https://www.transfermarkt.es'\n",
    "#header para que no te cache que eres una webscrapping\n",
    "headers = {'User-Agent': \n",
    "           'Mozilla/5.0 (X11; Linux x86_64) AppleWebKit/537.36 (KHTML, like Gecko) Chrome/47.0.2526.106 Safari/537.36'}\n",
    "#Liga De Interes y anio\n",
    "page = \"https://www.transfermarkt.es/primera-division/startseite/wettbewerb/AR1N/plus/?saison_id=2017\"\n",
    "#pedida de datos\n",
    "pageTree = requests.get(page, headers=headers)\n",
    "#contenido de pagina\n",
    "pageSoup = BeautifulSoup(pageTree.content, 'html.parser')"
   ]
  },
  {
   "cell_type": "code",
   "execution_count": 8,
   "metadata": {},
   "outputs": [],
   "source": [
    "#obtencion de urls para scrapear el predio de cada uno\n",
    "# El [1] Se obtuvo a ojo viendo cual era la tabla de interes.\n",
    "lista_de_interes = pageSoup.find_all('tbody')[1].find_all('a', {\"class\": 'vereinprofil_tooltip'}, href=True)\n",
    "urls_2017 = [urls['href'] for urls in lista_de_interes]\n",
    "urls_2017 = pd.Series(urls_2017).unique()"
   ]
  },
  {
   "cell_type": "code",
   "execution_count": 9,
   "metadata": {},
   "outputs": [
    {
     "data": {
      "text/plain": [
       "28"
      ]
     },
     "execution_count": 9,
     "metadata": {},
     "output_type": "execute_result"
    }
   ],
   "source": [
    "#check de numero de equipos\n",
    "len(urls_2017)"
   ]
  },
  {
   "cell_type": "code",
   "execution_count": 10,
   "metadata": {},
   "outputs": [
    {
     "data": {
      "text/plain": [
       "array(['/club-atletico-river-plate/startseite/verein/209/saison_id/2017',\n",
       "       '/club-atletico-boca-juniors/startseite/verein/189/saison_id/2017',\n",
       "       '/ca-independiente-de-avellaneda/startseite/verein/1234/saison_id/2017',\n",
       "       '/racing-club-de-avellaneda/startseite/verein/1444/saison_id/2017',\n",
       "       '/club-atletico-san-lorenzo-de-almagro/startseite/verein/1775/saison_id/2017',\n",
       "       '/club-atletico-lanus/startseite/verein/333/saison_id/2017',\n",
       "       '/club-atletico-colon-santa-fe-/startseite/verein/1070/saison_id/2017',\n",
       "       '/club-atletico-huracan/startseite/verein/2063/saison_id/2017',\n",
       "       '/club-atletico-rosario-central/startseite/verein/1418/saison_id/2017',\n",
       "       '/estudiantes-de-la-plata/startseite/verein/288/saison_id/2017',\n",
       "       '/club-atletico-velez-sarsfield/startseite/verein/1029/saison_id/2017',\n",
       "       '/defensa-y-justicia/startseite/verein/2402/saison_id/2017',\n",
       "       '/club-atletico-tucuman/startseite/verein/14554/saison_id/2017',\n",
       "       '/talleres-de-cordoba-ca/startseite/verein/3938/saison_id/2017',\n",
       "       '/belgrano-de-cordoba/startseite/verein/2417/saison_id/2017',\n",
       "       '/club-atletico-tigre/startseite/verein/11831/saison_id/2017',\n",
       "       '/club-atletico-newells-old-boys/startseite/verein/1286/saison_id/2017',\n",
       "       '/club-atletico-banfield/startseite/verein/830/saison_id/2017',\n",
       "       '/club-de-gimnasia-y-esgrima-la-plata/startseite/verein/1106/saison_id/2017',\n",
       "       '/ca-union-santa-fe/startseite/verein/7097/saison_id/2017',\n",
       "       '/club-deportivo-godoy-cruz/startseite/verein/12574/saison_id/2017',\n",
       "       '/club-atletico-san-martin-sj-/startseite/verein/10511/saison_id/2017',\n",
       "       '/club-atletico-patronato/startseite/verein/19806/saison_id/2017',\n",
       "       '/arsenal-de-sarandi-fc/startseite/verein/4673/saison_id/2017',\n",
       "       '/argentinos-juniors/startseite/verein/1030/saison_id/2017',\n",
       "       '/olimpo-de-bahia-blanca/startseite/verein/7468/saison_id/2017',\n",
       "       '/club-atletico-chacarita-juniors/startseite/verein/2154/saison_id/2017',\n",
       "       '/club-atletico-temperley/startseite/verein/14542/saison_id/2017'],\n",
       "      dtype=object)"
      ]
     },
     "execution_count": 10,
     "metadata": {},
     "output_type": "execute_result"
    }
   ],
   "source": [
    "# ligas para ir al equipo de interes.\n",
    "urls_2017"
   ]
  },
  {
   "cell_type": "code",
   "execution_count": 11,
   "metadata": {},
   "outputs": [
    {
     "data": {
      "text/plain": [
       "<Response [200]>"
      ]
     },
     "execution_count": 11,
     "metadata": {},
     "output_type": "execute_result"
    }
   ],
   "source": [
    "requests.get(url_madre+urls_2017[0], headers=headers)"
   ]
  },
  {
   "cell_type": "markdown",
   "metadata": {},
   "source": [
    "# 2016"
   ]
  },
  {
   "cell_type": "code",
   "execution_count": 12,
   "metadata": {},
   "outputs": [],
   "source": [
    "url_madre = 'https://www.transfermarkt.es'\n",
    "#header para que no te cache que eres una webscrapping\n",
    "headers = {'User-Agent': \n",
    "           'Mozilla/5.0 (X11; Linux x86_64) AppleWebKit/537.36 (KHTML, like Gecko) Chrome/47.0.2526.106 Safari/537.36'}\n",
    "#Liga De Interes y anio\n",
    "page = \"https://www.transfermarkt.es/primera-division/startseite/wettbewerb/AR1N/plus/?saison_id=2016\"\n",
    "#pedida de datos\n",
    "pageTree = requests.get(page, headers=headers)\n",
    "#contenido de pagina\n",
    "pageSoup = BeautifulSoup(pageTree.content, 'html.parser')"
   ]
  },
  {
   "cell_type": "code",
   "execution_count": 13,
   "metadata": {},
   "outputs": [],
   "source": [
    "#obtencion de urls para scrapear el predio de cada uno\n",
    "# El [1] Se obtuvo a ojo viendo cual era la tabla de interes.\n",
    "lista_de_interes = pageSoup.find_all('tbody')[1].find_all('a', {\"class\": 'vereinprofil_tooltip'}, href=True)\n",
    "urls_2016 = [urls['href'] for urls in lista_de_interes]\n",
    "urls_2016 = pd.Series(urls_2016).unique()"
   ]
  },
  {
   "cell_type": "code",
   "execution_count": 14,
   "metadata": {},
   "outputs": [
    {
     "data": {
      "text/plain": [
       "30"
      ]
     },
     "execution_count": 14,
     "metadata": {},
     "output_type": "execute_result"
    }
   ],
   "source": [
    "#check de numero de equipos\n",
    "len(urls_2016)"
   ]
  },
  {
   "cell_type": "code",
   "execution_count": 15,
   "metadata": {},
   "outputs": [
    {
     "data": {
      "text/plain": [
       "array(['/club-atletico-river-plate/startseite/verein/209/saison_id/2016',\n",
       "       '/club-atletico-boca-juniors/startseite/verein/189/saison_id/2016',\n",
       "       '/racing-club-de-avellaneda/startseite/verein/1444/saison_id/2016',\n",
       "       '/club-atletico-san-lorenzo-de-almagro/startseite/verein/1775/saison_id/2016',\n",
       "       '/ca-independiente-de-avellaneda/startseite/verein/1234/saison_id/2016',\n",
       "       '/club-atletico-rosario-central/startseite/verein/1418/saison_id/2016',\n",
       "       '/estudiantes-de-la-plata/startseite/verein/288/saison_id/2016',\n",
       "       '/club-atletico-newells-old-boys/startseite/verein/1286/saison_id/2016',\n",
       "       '/club-de-gimnasia-y-esgrima-la-plata/startseite/verein/1106/saison_id/2016',\n",
       "       '/club-atletico-velez-sarsfield/startseite/verein/1029/saison_id/2016',\n",
       "       '/club-atletico-lanus/startseite/verein/333/saison_id/2016',\n",
       "       '/belgrano-de-cordoba/startseite/verein/2417/saison_id/2016',\n",
       "       '/defensa-y-justicia/startseite/verein/2402/saison_id/2016',\n",
       "       '/club-atletico-tucuman/startseite/verein/14554/saison_id/2016',\n",
       "       '/club-deportivo-godoy-cruz/startseite/verein/12574/saison_id/2016',\n",
       "       '/club-atletico-colon-santa-fe-/startseite/verein/1070/saison_id/2016',\n",
       "       '/talleres-de-cordoba-ca/startseite/verein/3938/saison_id/2016',\n",
       "       '/club-atletico-huracan/startseite/verein/2063/saison_id/2016',\n",
       "       '/arsenal-de-sarandi-fc/startseite/verein/4673/saison_id/2016',\n",
       "       '/club-atletico-tigre/startseite/verein/11831/saison_id/2016',\n",
       "       '/club-atletico-banfield/startseite/verein/830/saison_id/2016',\n",
       "       '/club-atletico-san-martin-sj-/startseite/verein/10511/saison_id/2016',\n",
       "       '/club-atletico-sarmiento-junin-/startseite/verein/12454/saison_id/2016',\n",
       "       '/quilmes-atletico-club/startseite/verein/1826/saison_id/2016',\n",
       "       '/club-atletico-temperley/startseite/verein/14542/saison_id/2016',\n",
       "       '/ca-union-santa-fe/startseite/verein/7097/saison_id/2016',\n",
       "       '/olimpo-de-bahia-blanca/startseite/verein/7468/saison_id/2016',\n",
       "       '/club-atletico-aldosivi-mdp-/startseite/verein/12301/saison_id/2016',\n",
       "       '/club-atletico-patronato/startseite/verein/19806/saison_id/2016',\n",
       "       '/atletico-de-rafaela/startseite/verein/10233/saison_id/2016'],\n",
       "      dtype=object)"
      ]
     },
     "execution_count": 15,
     "metadata": {},
     "output_type": "execute_result"
    }
   ],
   "source": [
    "# ligas para ir al equipo de interes.\n",
    "urls_2016"
   ]
  },
  {
   "cell_type": "code",
   "execution_count": 16,
   "metadata": {},
   "outputs": [
    {
     "data": {
      "text/plain": [
       "<Response [200]>"
      ]
     },
     "execution_count": 16,
     "metadata": {},
     "output_type": "execute_result"
    }
   ],
   "source": [
    "requests.get(url_madre+urls_2017[0], headers=headers)"
   ]
  },
  {
   "cell_type": "markdown",
   "metadata": {},
   "source": [
    "# 2015"
   ]
  },
  {
   "cell_type": "code",
   "execution_count": 17,
   "metadata": {},
   "outputs": [],
   "source": [
    "url_madre = 'https://www.transfermarkt.es'\n",
    "#header para que no te cache que eres una webscrapping\n",
    "headers = {'User-Agent': \n",
    "           'Mozilla/5.0 (X11; Linux x86_64) AppleWebKit/537.36 (KHTML, like Gecko) Chrome/47.0.2526.106 Safari/537.36'}\n",
    "#Liga De Interes y anio\n",
    "page = \"https://www.transfermarkt.es/primera-division/startseite/wettbewerb/AR1N/plus/?saison_id=2015\"\n",
    "#pedida de datos\n",
    "pageTree = requests.get(page, headers=headers)\n",
    "#contenido de pagina\n",
    "pageSoup = BeautifulSoup(pageTree.content, 'html.parser')"
   ]
  },
  {
   "cell_type": "code",
   "execution_count": 18,
   "metadata": {},
   "outputs": [],
   "source": [
    "#obtencion de urls para scrapear el predio de cada uno\n",
    "# El [1] Se obtuvo a ojo viendo cual era la tabla de interes.\n",
    "lista_de_interes = pageSoup.find_all('tbody')[1].find_all('a', {\"class\": 'vereinprofil_tooltip'}, href=True)\n",
    "urls_2015 = [urls['href'] for urls in lista_de_interes]\n",
    "urls_2015 = pd.Series(urls_2015).unique()"
   ]
  },
  {
   "cell_type": "code",
   "execution_count": 19,
   "metadata": {},
   "outputs": [
    {
     "data": {
      "text/plain": [
       "30"
      ]
     },
     "execution_count": 19,
     "metadata": {},
     "output_type": "execute_result"
    }
   ],
   "source": [
    "#check de numero de equipos\n",
    "len(urls_2015)"
   ]
  },
  {
   "cell_type": "code",
   "execution_count": 20,
   "metadata": {},
   "outputs": [
    {
     "data": {
      "text/plain": [
       "array(['/club-atletico-boca-juniors/startseite/verein/189/saison_id/2015',\n",
       "       '/club-atletico-river-plate/startseite/verein/209/saison_id/2015',\n",
       "       '/club-atletico-san-lorenzo-de-almagro/startseite/verein/1775/saison_id/2015',\n",
       "       '/ca-independiente-de-avellaneda/startseite/verein/1234/saison_id/2015',\n",
       "       '/racing-club-de-avellaneda/startseite/verein/1444/saison_id/2015',\n",
       "       '/club-atletico-lanus/startseite/verein/333/saison_id/2015',\n",
       "       '/arsenal-de-sarandi-fc/startseite/verein/4673/saison_id/2015',\n",
       "       '/club-atletico-newells-old-boys/startseite/verein/1286/saison_id/2015',\n",
       "       '/club-atletico-tigre/startseite/verein/11831/saison_id/2015',\n",
       "       '/club-atletico-rosario-central/startseite/verein/1418/saison_id/2015',\n",
       "       '/belgrano-de-cordoba/startseite/verein/2417/saison_id/2015',\n",
       "       '/club-atletico-huracan/startseite/verein/2063/saison_id/2015',\n",
       "       '/club-de-gimnasia-y-esgrima-la-plata/startseite/verein/1106/saison_id/2015',\n",
       "       '/estudiantes-de-la-plata/startseite/verein/288/saison_id/2015',\n",
       "       '/club-atletico-colon-santa-fe-/startseite/verein/1070/saison_id/2015',\n",
       "       '/club-deportivo-godoy-cruz/startseite/verein/12574/saison_id/2015',\n",
       "       '/club-atletico-san-martin-sj-/startseite/verein/10511/saison_id/2015',\n",
       "       '/defensa-y-justicia/startseite/verein/2402/saison_id/2015',\n",
       "       '/club-atletico-sarmiento-junin-/startseite/verein/12454/saison_id/2015',\n",
       "       '/quilmes-atletico-club/startseite/verein/1826/saison_id/2015',\n",
       "       '/olimpo-de-bahia-blanca/startseite/verein/7468/saison_id/2015',\n",
       "       '/club-atletico-banfield/startseite/verein/830/saison_id/2015',\n",
       "       '/club-atletico-tucuman/startseite/verein/14554/saison_id/2015',\n",
       "       '/argentinos-juniors/startseite/verein/1030/saison_id/2015',\n",
       "       '/club-atletico-velez-sarsfield/startseite/verein/1029/saison_id/2015',\n",
       "       '/atletico-de-rafaela/startseite/verein/10233/saison_id/2015',\n",
       "       '/ca-union-santa-fe/startseite/verein/7097/saison_id/2015',\n",
       "       '/club-atletico-temperley/startseite/verein/14542/saison_id/2015',\n",
       "       '/club-atletico-aldosivi-mdp-/startseite/verein/12301/saison_id/2015',\n",
       "       '/club-atletico-patronato/startseite/verein/19806/saison_id/2015'],\n",
       "      dtype=object)"
      ]
     },
     "execution_count": 20,
     "metadata": {},
     "output_type": "execute_result"
    }
   ],
   "source": [
    "# ligas para ir al equipo de interes.\n",
    "urls_2015"
   ]
  },
  {
   "cell_type": "code",
   "execution_count": 21,
   "metadata": {},
   "outputs": [
    {
     "data": {
      "text/plain": [
       "<Response [200]>"
      ]
     },
     "execution_count": 21,
     "metadata": {},
     "output_type": "execute_result"
    }
   ],
   "source": [
    "requests.get(url_madre+urls_2015[0], headers=headers)"
   ]
  },
  {
   "cell_type": "markdown",
   "metadata": {},
   "source": [
    "# Valor jugadores \n",
    "Ya que tengo las URLS de interes de cada equipo ahora falta recopilar la informacion de cada jugador en un DataFrame que tenga las columnas de jugador, valor, equipo y fecha de nacimiento."
   ]
  },
  {
   "cell_type": "markdown",
   "metadata": {},
   "source": [
    "# 2018"
   ]
  },
  {
   "cell_type": "code",
   "execution_count": 215,
   "metadata": {},
   "outputs": [],
   "source": [
    "# pageTree = requests.get(url_madre+urls_2018[25], headers=headers)\n",
    "# pageSoup = BeautifulSoup(pageTree.content, 'html.parser')\n",
    "# #     print(url_madre+url)\n",
    "\n",
    "# # tabla de jugadores con cuadrito de jugador\n",
    "# Players = pageSoup.find_all(\"a\", {\"class\": \"spielprofil_tooltip\"})\n",
    "# # cuadrito de valor\n",
    "# Values = pageSoup.find_all(\"td\", {\"class\": \"rechts hauptlink\"})\n",
    "\n",
    "# Fec_Nac = pageSoup.find_all(\"td\", {\"class\": \"zentriert\"})\n",
    "\n",
    "# # se filtra la tabla de jugadores, dado que tiene 2 nombres uno con la inicial y el otro completo\n",
    "# # y se filtran si ya estan en la lista dado que puede que agarre otra tabla con la misma clase\n",
    "# PlayersList = []\n",
    "# preview = 'nada'\n",
    "# for i in range(len(Players)):\n",
    "#     if len(Players[i].text.split()) == 2:\n",
    "#         if Players[i].text.split()[1] != preview and Players[i].text not in set(PlayersList):\n",
    "#             preview = Players[i].text.split()[1]\n",
    "#             PlayersList.append(Players[i].text)\n",
    "#         else:\n",
    "#             continue\n",
    "#     elif len(Players[i].text.split()) == 3:\n",
    "#         if Players[i].text.split()[2] != preview and Players[i].text not in set(PlayersList):\n",
    "#             preview = Players[i].text.split()[2]\n",
    "#             PlayersList.append(Players[i].text)\n",
    "#         else:\n",
    "#             continue\n",
    "#     else:\n",
    "#         continue\n",
    "# # los valores los toma adecuadamente VALOR DE TRANSFERENCIA\n",
    "# ValuesList = [Values[val].text for val in range(len(Values))]\n",
    "# #extraccion de fecha de nacimiento\n",
    "# FecNacLIst = []\n",
    "# for i in Fec_Nac:\n",
    "#     if len(i.text.split()) == 0:\n",
    "#         continue\n",
    "#     else:\n",
    "#         try:\n",
    "#             FecNacLIst.append(pd.to_datetime(i.text.split()[0]))\n",
    "#         except ValueError:\n",
    "#             continue\n",
    "\n",
    "# # se generan dataframes para cruzar\n",
    "# a = pd.DataFrame(PlayersList,columns=['jugadores'])\n",
    "# b = pd.DataFrame(ValuesList,columns=['valor'])\n",
    "# c = pd.DataFrame(FecNacLIst,columns=['fecha_nacimiento'])\n",
    "# #se apilan y se quitan jugadores extra que vienen con nombre de misma tabla\n",
    "# df = pd.concat([a,b,c],1).dropna()\n",
    "# print(pageSoup.find_all(\"h1\")[0].text.split('\\n')[1])\n",
    "# df['equipo'] = pageSoup.find_all(\"h1\")[0].text.split('\\n')[1]\n",
    "# df_2018 = pd.concat([df_2018, df])"
   ]
  },
  {
   "cell_type": "code",
   "execution_count": 216,
   "metadata": {},
   "outputs": [
    {
     "name": "stdout",
     "output_type": "stream",
     "text": [
      "Club Atlético Boca Juniors\n"
     ]
    },
    {
     "name": "stderr",
     "output_type": "stream",
     "text": [
      "/home/serch/anaconda3/lib/python3.6/site-packages/ipykernel_launcher.py:62: FutureWarning: Sorting because non-concatenation axis is not aligned. A future version\n",
      "of pandas will change to not sort by default.\n",
      "\n",
      "To accept the future behavior, pass 'sort=False'.\n",
      "\n",
      "To retain the current behavior and silence the warning, pass 'sort=True'.\n",
      "\n"
     ]
    },
    {
     "name": "stdout",
     "output_type": "stream",
     "text": [
      "Club Atlético River Plate\n",
      "Club Atlético Independiente\n",
      "Racing Club\n",
      "Club Atlético Vélez Sarsfield\n",
      "Defensa y Justicia\n",
      "Club Atlético San Lorenzo de Almagro\n",
      "Club Deportivo Godoy Cruz Antonio Tomba\n",
      "Club Atlético Talleres\n",
      "Club Atlético Lanús\n",
      "Club Atlético Rosario Central\n",
      "Club Atlético Colón\n",
      "Club Atlético Huracán\n",
      "Asociación Atlética Argentinos Juniors\n",
      "Club Atlético Unión (Santa Fe)\n",
      "Club Atlético Belgrano\n",
      "Club Atlético Tigre\n",
      "Club Atlético Aldosivi\n",
      "Club Atlético Banfield\n",
      "Club Atlético Newell's Old Boys\n",
      "Club Estudiantes de La Plata\n",
      "Club de Gimnasia y Esgrima La Plata\n",
      "Club Atlético Tucumán\n",
      "Club Atlético San Martín (SJ)\n",
      "Club Atlético San Martín (Tucumán)\n",
      "Club Atlético Patronato\n",
      "CPU times: user 6.36 s, sys: 36.1 ms, total: 6.39 s\n",
      "Wall time: 46.1 s\n"
     ]
    }
   ],
   "source": [
    "%%time\n",
    "df_2018 = pd.DataFrame(columns=['jugadores','valor','equipo'])\n",
    "\n",
    "for url in urls_2018:\n",
    "\n",
    "    pageTree = requests.get(url_madre+url, headers=headers)\n",
    "    pageSoup = BeautifulSoup(pageTree.content, 'html.parser')\n",
    "    #     print(url_madre+url)\n",
    "\n",
    "    # tabla de jugadores con cuadrito de jugador\n",
    "    Players = pageSoup.find_all(\"a\", {\"class\": \"spielprofil_tooltip\"})\n",
    "    # cuadrito de valor\n",
    "    Values = pageSoup.find_all(\"td\", {\"class\": \"rechts hauptlink\"})\n",
    "\n",
    "    Fec_Nac = pageSoup.find_all(\"td\", {\"class\": \"zentriert\"})\n",
    "\n",
    "    # se filtra la tabla de jugadores, dado que tiene 2 nombres uno con la inicial y el otro completo\n",
    "    # y se filtran si ya estan en la lista dado que puede que agarre otra tabla con la misma clase\n",
    "    PlayersList = []\n",
    "    preview = 'nada'\n",
    "    for i in range(len(Players)):\n",
    "        if len(Players[i].text.split()) == 2:\n",
    "            if Players[i].text.split()[1] != preview and Players[i].text not in set(PlayersList):\n",
    "                preview = Players[i].text.split()[1]\n",
    "                PlayersList.append(Players[i].text)\n",
    "            else:\n",
    "                continue\n",
    "        elif len(Players[i].text.split()) == 3:\n",
    "            if Players[i].text.split()[2] != preview and Players[i].text not in set(PlayersList):\n",
    "                preview = Players[i].text.split()[2]\n",
    "                PlayersList.append(Players[i].text)\n",
    "            else:\n",
    "                continue\n",
    "        elif len(Players[i].text.split()) == 4:\n",
    "            if Players[i].text.split()[3] != preview and Players[i].text not in set(PlayersList):\n",
    "                preview = Players[i].text.split()[3]\n",
    "                PlayersList.append(Players[i].text)\n",
    "            else:\n",
    "                continue\n",
    "        else:\n",
    "            continue\n",
    "    # los valores los toma adecuadamente VALOR DE TRANSFERENCIA\n",
    "    ValuesList = [Values[val].text for val in range(len(Values))]\n",
    "    #extraccion de fecha de nacimiento\n",
    "    FecNacLIst = []\n",
    "    for i in Fec_Nac:\n",
    "        if len(i.text.split()) == 0:\n",
    "            continue\n",
    "        else:\n",
    "            if len(i.text.split()[0])== 10:\n",
    "                FecNacLIst.append(pd.to_datetime(i.text.split()[0], dayfirst=True))\n",
    "            else:\n",
    "                continue\n",
    "\n",
    "    # se generan dataframes para cruzar\n",
    "    a = pd.DataFrame(PlayersList,columns=['jugadores'])\n",
    "    b = pd.DataFrame(ValuesList,columns=['valor'])\n",
    "    c = pd.DataFrame(FecNacLIst,columns=['fecha_nacimiento'])\n",
    "    #se apilan y se quitan jugadores extra que vienen con nombre de misma tabla\n",
    "    df = pd.concat([a,b,c],1).dropna()\n",
    "    print(pageSoup.find_all(\"h1\")[0].text.split('\\n')[1])\n",
    "    df['equipo'] = pageSoup.find_all(\"h1\")[0].text.split('\\n')[1]\n",
    "    df_2018 = pd.concat([df_2018, df])"
   ]
  },
  {
   "cell_type": "code",
   "execution_count": 217,
   "metadata": {},
   "outputs": [],
   "source": [
    "df_2018.reset_index(drop=True,inplace=True)\n",
    "df_2018.valor.replace('\\xa0',np.nan,inplace=True)\n",
    "new_value = []\n",
    "for i,j in zip(df_2018.valor.str.split().str[0], df_2018.valor.str.split().str[1]):\n",
    "    if type(i) == float:\n",
    "        new_value.append(i)\n",
    "    elif j == 'miles':\n",
    "        new_value.append(int(locale.atoi(i))*0.001)\n",
    "    elif i== '-':\n",
    "        new_value.append(np.nan)\n",
    "    else:\n",
    "        new_value.append(float(locale.atoi(i))/ 100)\n",
    "        \n",
    "df_2018['value_2018'] = new_value"
   ]
  },
  {
   "cell_type": "code",
   "execution_count": 218,
   "metadata": {},
   "outputs": [
    {
     "data": {
      "text/html": [
       "<div>\n",
       "<style scoped>\n",
       "    .dataframe tbody tr th:only-of-type {\n",
       "        vertical-align: middle;\n",
       "    }\n",
       "\n",
       "    .dataframe tbody tr th {\n",
       "        vertical-align: top;\n",
       "    }\n",
       "\n",
       "    .dataframe thead th {\n",
       "        text-align: right;\n",
       "    }\n",
       "</style>\n",
       "<table border=\"1\" class=\"dataframe\">\n",
       "  <thead>\n",
       "    <tr style=\"text-align: right;\">\n",
       "      <th></th>\n",
       "      <th>equipo</th>\n",
       "      <th>fecha_nacimiento</th>\n",
       "      <th>jugadores</th>\n",
       "      <th>valor</th>\n",
       "      <th>value_2018</th>\n",
       "    </tr>\n",
       "  </thead>\n",
       "  <tbody>\n",
       "    <tr>\n",
       "      <th>578</th>\n",
       "      <td>Club de Gimnasia y Esgrima La Plata</td>\n",
       "      <td>1993-03-29</td>\n",
       "      <td>Lorenzo Faravelli</td>\n",
       "      <td>1,50 mill. €</td>\n",
       "      <td>1.50</td>\n",
       "    </tr>\n",
       "    <tr>\n",
       "      <th>245</th>\n",
       "      <td>Club Atlético Talleres</td>\n",
       "      <td>1996-09-15</td>\n",
       "      <td>Joel Soñora</td>\n",
       "      <td>200 miles €</td>\n",
       "      <td>0.20</td>\n",
       "    </tr>\n",
       "    <tr>\n",
       "      <th>650</th>\n",
       "      <td>Club Atlético San Martín (Tucumán)</td>\n",
       "      <td>1981-05-07</td>\n",
       "      <td>Jorge Carranza</td>\n",
       "      <td>50 miles €</td>\n",
       "      <td>0.05</td>\n",
       "    </tr>\n",
       "    <tr>\n",
       "      <th>26</th>\n",
       "      <td>Club Atlético Boca Juniors</td>\n",
       "      <td>1987-03-18</td>\n",
       "      <td>Mauro Zárate</td>\n",
       "      <td>2,00 mill. €</td>\n",
       "      <td>2.00</td>\n",
       "    </tr>\n",
       "    <tr>\n",
       "      <th>594</th>\n",
       "      <td>Club Atlético Tucumán</td>\n",
       "      <td>1978-06-26</td>\n",
       "      <td>Cristian Lucchetti</td>\n",
       "      <td>100 miles €</td>\n",
       "      <td>0.10</td>\n",
       "    </tr>\n",
       "  </tbody>\n",
       "</table>\n",
       "</div>"
      ],
      "text/plain": [
       "                                  equipo fecha_nacimiento           jugadores  \\\n",
       "578  Club de Gimnasia y Esgrima La Plata       1993-03-29   Lorenzo Faravelli   \n",
       "245               Club Atlético Talleres       1996-09-15         Joel Soñora   \n",
       "650   Club Atlético San Martín (Tucumán)       1981-05-07      Jorge Carranza   \n",
       "26            Club Atlético Boca Juniors       1987-03-18        Mauro Zárate   \n",
       "594                Club Atlético Tucumán       1978-06-26  Cristian Lucchetti   \n",
       "\n",
       "              valor  value_2018  \n",
       "578  1,50 mill. €          1.50  \n",
       "245   200 miles €          0.20  \n",
       "650    50 miles €          0.05  \n",
       "26   2,00 mill. €          2.00  \n",
       "594   100 miles €          0.10  "
      ]
     },
     "execution_count": 218,
     "metadata": {},
     "output_type": "execute_result"
    }
   ],
   "source": [
    "df_2018.sample(5)"
   ]
  },
  {
   "cell_type": "markdown",
   "metadata": {},
   "source": [
    "# 2017"
   ]
  },
  {
   "cell_type": "code",
   "execution_count": 219,
   "metadata": {},
   "outputs": [],
   "source": [
    "# pageTree = requests.get(url_madre+urls_2017[5], headers=headers)\n",
    "# pageSoup = BeautifulSoup(pageTree.content, 'html.parser')\n",
    "# #     print(url_madre+url)\n",
    "\n",
    "# # tabla de jugadores con cuadrito de jugador\n",
    "# Players = pageSoup.find_all(\"a\", {\"class\": \"spielprofil_tooltip\"})\n",
    "# # cuadrito de valor\n",
    "# Values = pageSoup.find_all(\"td\", {\"class\": \"rechts hauptlink\"})\n",
    "\n",
    "# Fec_Nac = pageSoup.find_all(\"td\", {\"class\": \"zentriert\"})\n",
    "\n",
    "# # se filtra la tabla de jugadores, dado que tiene 2 nombres uno con la inicial y el otro completo\n",
    "# # y se filtran si ya estan en la lista dado que puede que agarre otra tabla con la misma clase\n",
    "# PlayersList = []\n",
    "# preview = 'nada'\n",
    "# for i in range(len(Players)):\n",
    "#     if len(Players[i].text.split()) == 2:\n",
    "#         if Players[i].text.split()[1] != preview and Players[i].text not in set(PlayersList):\n",
    "#             preview = Players[i].text.split()[1]\n",
    "#             PlayersList.append(Players[i].text)\n",
    "#         else:\n",
    "#             continue\n",
    "#     elif len(Players[i].text.split()) == 3:\n",
    "#         if Players[i].text.split()[2] != preview and Players[i].text not in set(PlayersList):\n",
    "#             preview = Players[i].text.split()[2]\n",
    "#             PlayersList.append(Players[i].text)\n",
    "#         else:\n",
    "#             continue\n",
    "#     else:\n",
    "#         continue\n",
    "# # los valores los toma adecuadamente VALOR DE TRANSFERENCIA\n",
    "# ValuesList = [Values[val].text for val in range(len(Values))]\n",
    "# #extraccion de fecha de nacimiento\n",
    "# FecNacLIst = []\n",
    "# for i in Fec_Nac:\n",
    "#     if len(i.text.split()) == 0:\n",
    "#         continue\n",
    "#     else:\n",
    "#         try:\n",
    "#             FecNacLIst.append(pd.to_datetime(i.text.split()[0]))\n",
    "#         except ValueError:\n",
    "#             continue\n",
    "\n",
    "# # se generan dataframes para cruzar\n",
    "# a = pd.DataFrame(PlayersList,columns=['jugadores'])\n",
    "# b = pd.DataFrame(ValuesList,columns=['valor'])\n",
    "# c = pd.DataFrame(FecNacLIst,columns=['fecha_nacimiento'])\n",
    "# #se apilan y se quitan jugadores extra que vienen con nombre de misma tabla\n",
    "# df = pd.concat([a,b,c],1).dropna()\n",
    "# print(pageSoup.find_all(\"h1\")[0].text.split('\\n')[1])\n",
    "# df['equipo'] = pageSoup.find_all(\"h1\")[0].text.split('\\n')[1]\n",
    "# df_2017 = pd.concat([df_2017, df])"
   ]
  },
  {
   "cell_type": "code",
   "execution_count": 220,
   "metadata": {},
   "outputs": [
    {
     "name": "stdout",
     "output_type": "stream",
     "text": [
      "Club Atlético River Plate\n"
     ]
    },
    {
     "name": "stderr",
     "output_type": "stream",
     "text": [
      "/home/serch/anaconda3/lib/python3.6/site-packages/ipykernel_launcher.py:63: FutureWarning: Sorting because non-concatenation axis is not aligned. A future version\n",
      "of pandas will change to not sort by default.\n",
      "\n",
      "To accept the future behavior, pass 'sort=False'.\n",
      "\n",
      "To retain the current behavior and silence the warning, pass 'sort=True'.\n",
      "\n"
     ]
    },
    {
     "name": "stdout",
     "output_type": "stream",
     "text": [
      "Club Atlético Boca Juniors\n",
      "Club Atlético Independiente\n",
      "Racing Club\n",
      "Club Atlético San Lorenzo de Almagro\n",
      "Club Atlético Lanús\n",
      "Club Atlético Colón\n",
      "Club Atlético Huracán\n",
      "Club Atlético Rosario Central\n",
      "Club Estudiantes de La Plata\n",
      "Club Atlético Vélez Sarsfield\n",
      "Defensa y Justicia\n",
      "Club Atlético Tucumán\n",
      "Club Atlético Talleres\n",
      "Club Atlético Belgrano\n",
      "Club Atlético Tigre\n",
      "Club Atlético Newell's Old Boys\n",
      "Club Atlético Banfield\n",
      "Club de Gimnasia y Esgrima La Plata\n",
      "Club Atlético Unión (Santa Fe)\n",
      "Club Deportivo Godoy Cruz Antonio Tomba\n",
      "Club Atlético San Martín (SJ)\n",
      "Club Atlético Patronato\n",
      "Arsenal Fútbol Club\n",
      "Asociación Atlética Argentinos Juniors\n",
      "Club Olimpo\n",
      "Club Atlético Chacarita Juniors\n",
      "Club Atlético Temperley\n",
      "CPU times: user 6.45 s, sys: 31.5 ms, total: 6.48 s\n",
      "Wall time: 1min 5s\n"
     ]
    }
   ],
   "source": [
    "%%time\n",
    "df_2017 = pd.DataFrame(columns=['jugadores','valor','equipo'])\n",
    "\n",
    "for url in urls_2017:\n",
    "\n",
    "    pageTree = requests.get(url_madre+url, headers=headers)\n",
    "    pageSoup = BeautifulSoup(pageTree.content, 'html.parser')\n",
    "    #     print(url_madre+url)\n",
    "\n",
    "    # tabla de jugadores con cuadrito de jugador\n",
    "    Players = pageSoup.find_all(\"a\", {\"class\": \"spielprofil_tooltip\"})\n",
    "    # cuadrito de valor\n",
    "    Values = pageSoup.find_all(\"td\", {\"class\": \"rechts hauptlink\"})\n",
    "\n",
    "    Fec_Nac = pageSoup.find_all(\"td\", {\"class\": \"zentriert\"})\n",
    "\n",
    "    # se filtra la tabla de jugadores, dado que tiene 2 nombres uno con la inicial y el otro completo\n",
    "    # y se filtran si ya estan en la lista dado que puede que agarre otra tabla con la misma clase\n",
    "    PlayersList = []\n",
    "    preview = 'nada'\n",
    "    for i in range(len(Players)):\n",
    "#         print(Players[i].text.split())\n",
    "        if len(Players[i].text.split()) == 2:\n",
    "            if Players[i].text.split()[1] != preview and Players[i].text not in set(PlayersList):\n",
    "                preview = Players[i].text.split()[1]\n",
    "                PlayersList.append(Players[i].text)\n",
    "            else:\n",
    "                continue\n",
    "        elif len(Players[i].text.split()) == 3:\n",
    "            if Players[i].text.split()[2] != preview and Players[i].text not in set(PlayersList):\n",
    "                preview = Players[i].text.split()[2]\n",
    "                PlayersList.append(Players[i].text)\n",
    "            else:\n",
    "                continue\n",
    "        elif len(Players[i].text.split()) == 4:\n",
    "            if Players[i].text.split()[3] != preview and Players[i].text not in set(PlayersList):\n",
    "                preview = Players[i].text.split()[3]\n",
    "                PlayersList.append(Players[i].text)\n",
    "            else:\n",
    "                continue\n",
    "        else:\n",
    "            continue\n",
    "    # los valores los toma adecuadamente VALOR DE TRANSFERENCIA\n",
    "    ValuesList = [Values[val].text for val in range(len(Values))]\n",
    "    #extraccion de fecha de nacimiento\n",
    "    FecNacLIst = []\n",
    "    for i in Fec_Nac:\n",
    "        if len(i.text.split()) == 0:\n",
    "            continue\n",
    "        else:\n",
    "            if len(i.text.split()[0])== 10:\n",
    "                FecNacLIst.append(pd.to_datetime(i.text.split()[0], dayfirst=True))\n",
    "            else:\n",
    "                continue\n",
    "\n",
    "    # se generan dataframes para cruzar\n",
    "    a = pd.DataFrame(PlayersList,columns=['jugadores'])\n",
    "    b = pd.DataFrame(ValuesList,columns=['valor'])\n",
    "    c = pd.DataFrame(FecNacLIst,columns=['fecha_nacimiento'])\n",
    "    #se apilan y se quitan jugadores extra que vienen con nombre de misma tabla\n",
    "    df = pd.concat([a,b,c],1).dropna()\n",
    "    print(pageSoup.find_all(\"h1\")[0].text.split('\\n')[1])\n",
    "    df['equipo'] = pageSoup.find_all(\"h1\")[0].text.split('\\n')[1]\n",
    "    df_2017 = pd.concat([df_2017, df])"
   ]
  },
  {
   "cell_type": "code",
   "execution_count": 221,
   "metadata": {},
   "outputs": [],
   "source": [
    "df_2017.reset_index(drop=True,inplace=True)\n",
    "df_2017.valor.replace('\\xa0',np.nan,inplace=True)\n",
    "new_value = []\n",
    "for i,j in zip(df_2017.valor.str.split().str[0], df_2017.valor.str.split().str[1]):\n",
    "    if type(i) == float:\n",
    "        new_value.append(i)\n",
    "    elif j == 'miles':\n",
    "        new_value.append(int(locale.atoi(i))*0.001)\n",
    "    elif i== '-':\n",
    "        new_value.append(np.nan)\n",
    "    else:\n",
    "        new_value.append(float(locale.atoi(i))/ 100)\n",
    "        \n",
    "df_2017['value_2017'] = new_value"
   ]
  },
  {
   "cell_type": "code",
   "execution_count": 222,
   "metadata": {},
   "outputs": [],
   "source": [
    "df_2017['jugadores'] = [unidecode.unidecode(nombre) for nombre in df_2017.jugadores]\n",
    "\n",
    "df_2017.to_pickle('df_2017.pkl')"
   ]
  },
  {
   "cell_type": "code",
   "execution_count": 223,
   "metadata": {},
   "outputs": [
    {
     "data": {
      "text/html": [
       "<div>\n",
       "<style scoped>\n",
       "    .dataframe tbody tr th:only-of-type {\n",
       "        vertical-align: middle;\n",
       "    }\n",
       "\n",
       "    .dataframe tbody tr th {\n",
       "        vertical-align: top;\n",
       "    }\n",
       "\n",
       "    .dataframe thead th {\n",
       "        text-align: right;\n",
       "    }\n",
       "</style>\n",
       "<table border=\"1\" class=\"dataframe\">\n",
       "  <thead>\n",
       "    <tr style=\"text-align: right;\">\n",
       "      <th></th>\n",
       "      <th>equipo</th>\n",
       "      <th>fecha_nacimiento</th>\n",
       "      <th>jugadores</th>\n",
       "      <th>valor</th>\n",
       "      <th>value_2017</th>\n",
       "    </tr>\n",
       "  </thead>\n",
       "  <tbody>\n",
       "    <tr>\n",
       "      <th>1075</th>\n",
       "      <td>Club Atlético Temperley</td>\n",
       "      <td>1987-10-02</td>\n",
       "      <td>Juan Sanchez</td>\n",
       "      <td>400 miles €</td>\n",
       "      <td>0.4</td>\n",
       "    </tr>\n",
       "    <tr>\n",
       "      <th>1076</th>\n",
       "      <td>Club Atlético Temperley</td>\n",
       "      <td>1992-08-21</td>\n",
       "      <td>Ramiro Costa</td>\n",
       "      <td>300 miles €</td>\n",
       "      <td>0.3</td>\n",
       "    </tr>\n",
       "    <tr>\n",
       "      <th>1077</th>\n",
       "      <td>Club Atlético Temperley</td>\n",
       "      <td>1995-05-03</td>\n",
       "      <td>Santiago Giordana</td>\n",
       "      <td>200 miles €</td>\n",
       "      <td>0.2</td>\n",
       "    </tr>\n",
       "    <tr>\n",
       "      <th>1078</th>\n",
       "      <td>Club Atlético Temperley</td>\n",
       "      <td>1999-09-19</td>\n",
       "      <td>Franco Sosa</td>\n",
       "      <td>NaN</td>\n",
       "      <td>NaN</td>\n",
       "    </tr>\n",
       "    <tr>\n",
       "      <th>1079</th>\n",
       "      <td>Club Atlético Temperley</td>\n",
       "      <td>1995-03-24</td>\n",
       "      <td>Lucas Delgado</td>\n",
       "      <td>NaN</td>\n",
       "      <td>NaN</td>\n",
       "    </tr>\n",
       "  </tbody>\n",
       "</table>\n",
       "</div>"
      ],
      "text/plain": [
       "                       equipo fecha_nacimiento          jugadores  \\\n",
       "1075  Club Atlético Temperley       1987-10-02       Juan Sanchez   \n",
       "1076  Club Atlético Temperley       1992-08-21       Ramiro Costa   \n",
       "1077  Club Atlético Temperley       1995-05-03  Santiago Giordana   \n",
       "1078  Club Atlético Temperley       1999-09-19        Franco Sosa   \n",
       "1079  Club Atlético Temperley       1995-03-24      Lucas Delgado   \n",
       "\n",
       "              valor  value_2017  \n",
       "1075  400 miles €           0.4  \n",
       "1076  300 miles €           0.3  \n",
       "1077  200 miles €           0.2  \n",
       "1078            NaN         NaN  \n",
       "1079            NaN         NaN  "
      ]
     },
     "execution_count": 223,
     "metadata": {},
     "output_type": "execute_result"
    }
   ],
   "source": [
    "df_2017.tail()"
   ]
  },
  {
   "cell_type": "markdown",
   "metadata": {},
   "source": [
    "# 2016"
   ]
  },
  {
   "cell_type": "code",
   "execution_count": 224,
   "metadata": {},
   "outputs": [
    {
     "name": "stdout",
     "output_type": "stream",
     "text": [
      "Club Atlético River Plate\n"
     ]
    },
    {
     "name": "stderr",
     "output_type": "stream",
     "text": [
      "/home/serch/anaconda3/lib/python3.6/site-packages/ipykernel_launcher.py:63: FutureWarning: Sorting because non-concatenation axis is not aligned. A future version\n",
      "of pandas will change to not sort by default.\n",
      "\n",
      "To accept the future behavior, pass 'sort=False'.\n",
      "\n",
      "To retain the current behavior and silence the warning, pass 'sort=True'.\n",
      "\n"
     ]
    },
    {
     "name": "stdout",
     "output_type": "stream",
     "text": [
      "Club Atlético Boca Juniors\n",
      "Racing Club\n",
      "Club Atlético San Lorenzo de Almagro\n",
      "Club Atlético Independiente\n",
      "Club Atlético Rosario Central\n",
      "Club Estudiantes de La Plata\n",
      "Club Atlético Newell's Old Boys\n",
      "Club de Gimnasia y Esgrima La Plata\n",
      "Club Atlético Vélez Sarsfield\n",
      "Club Atlético Lanús\n",
      "Club Atlético Belgrano\n",
      "Defensa y Justicia\n",
      "Club Atlético Tucumán\n",
      "Club Deportivo Godoy Cruz Antonio Tomba\n",
      "Club Atlético Colón\n",
      "Club Atlético Talleres\n",
      "Club Atlético Huracán\n",
      "Arsenal Fútbol Club\n",
      "Club Atlético Tigre\n",
      "Club Atlético Banfield\n",
      "Club Atlético San Martín (SJ)\n",
      "Club Atlético Sarmiento (Junin)\n",
      "Quilmes Atlético Club\n",
      "Club Atlético Temperley\n",
      "Club Atlético Unión (Santa Fe)\n",
      "Club Olimpo\n",
      "Club Atlético Aldosivi\n",
      "Club Atlético Patronato\n",
      "Atlético de Rafaela\n",
      "CPU times: user 6.88 s, sys: 68.1 ms, total: 6.95 s\n",
      "Wall time: 1min 14s\n"
     ]
    }
   ],
   "source": [
    "%%time\n",
    "df_2016 = pd.DataFrame(columns=['jugadores','valor','equipo'])\n",
    "\n",
    "for url in urls_2016:\n",
    "\n",
    "    pageTree = requests.get(url_madre+url, headers=headers)\n",
    "    pageSoup = BeautifulSoup(pageTree.content, 'html.parser')\n",
    "    #     print(url_madre+url)\n",
    "\n",
    "    # tabla de jugadores con cuadrito de jugador\n",
    "    Players = pageSoup.find_all(\"a\", {\"class\": \"spielprofil_tooltip\"})\n",
    "    # cuadrito de valor\n",
    "    Values = pageSoup.find_all(\"td\", {\"class\": \"rechts hauptlink\"})\n",
    "\n",
    "    Fec_Nac = pageSoup.find_all(\"td\", {\"class\": \"zentriert\"})\n",
    "\n",
    "    # se filtra la tabla de jugadores, dado que tiene 2 nombres uno con la inicial y el otro completo\n",
    "    # y se filtran si ya estan en la lista dado que puede que agarre otra tabla con la misma clase\n",
    "    PlayersList = []\n",
    "    preview = 'nada'\n",
    "    for i in range(len(Players)):\n",
    "#         print(Players[i].text.split())\n",
    "        if len(Players[i].text.split()) == 2:\n",
    "            if Players[i].text.split()[1] != preview and Players[i].text not in set(PlayersList):\n",
    "                preview = Players[i].text.split()[1]\n",
    "                PlayersList.append(Players[i].text)\n",
    "            else:\n",
    "                continue\n",
    "        elif len(Players[i].text.split()) == 3:\n",
    "            if Players[i].text.split()[2] != preview and Players[i].text not in set(PlayersList):\n",
    "                preview = Players[i].text.split()[2]\n",
    "                PlayersList.append(Players[i].text)\n",
    "            else:\n",
    "                continue\n",
    "        elif len(Players[i].text.split()) == 4:\n",
    "            if Players[i].text.split()[3] != preview and Players[i].text not in set(PlayersList):\n",
    "                preview = Players[i].text.split()[3]\n",
    "                PlayersList.append(Players[i].text)\n",
    "            else:\n",
    "                continue\n",
    "        else:\n",
    "            continue\n",
    "    # los valores los toma adecuadamente VALOR DE TRANSFERENCIA\n",
    "    ValuesList = [Values[val].text for val in range(len(Values))]\n",
    "    #extraccion de fecha de nacimiento\n",
    "    FecNacLIst = []\n",
    "    for i in Fec_Nac:\n",
    "        if len(i.text.split()) == 0:\n",
    "            continue\n",
    "        else:\n",
    "            if len(i.text.split()[0])== 10:\n",
    "                FecNacLIst.append(pd.to_datetime(i.text.split()[0], dayfirst=True))\n",
    "            else:\n",
    "                continue\n",
    "\n",
    "    # se generan dataframes para cruzar\n",
    "    a = pd.DataFrame(PlayersList,columns=['jugadores'])\n",
    "    b = pd.DataFrame(ValuesList,columns=['valor'])\n",
    "    c = pd.DataFrame(FecNacLIst,columns=['fecha_nacimiento'])\n",
    "    #se apilan y se quitan jugadores extra que vienen con nombre de misma tabla\n",
    "    df = pd.concat([a,b,c],1).dropna()\n",
    "    print(pageSoup.find_all(\"h1\")[0].text.split('\\n')[1])\n",
    "    df['equipo'] = pageSoup.find_all(\"h1\")[0].text.split('\\n')[1]\n",
    "    df_2016 = pd.concat([df_2016, df])"
   ]
  },
  {
   "cell_type": "code",
   "execution_count": 225,
   "metadata": {},
   "outputs": [],
   "source": [
    "df_2016.reset_index(drop=True,inplace=True)\n",
    "df_2016.valor.replace('\\xa0',np.nan,inplace=True)\n",
    "new_value = []\n",
    "for i,j in zip(df_2016.valor.str.split().str[0], df_2016.valor.str.split().str[1]):\n",
    "    if type(i) == float:\n",
    "        new_value.append(i)\n",
    "    elif j == 'miles':\n",
    "        new_value.append(int(locale.atoi(i))*0.001)\n",
    "    elif i== '-':\n",
    "        new_value.append(np.nan)\n",
    "    else:\n",
    "        new_value.append(float(locale.atoi(i))/ 100)\n",
    "        \n",
    "df_2016['value_2016'] = new_value"
   ]
  },
  {
   "cell_type": "code",
   "execution_count": 226,
   "metadata": {},
   "outputs": [],
   "source": [
    "df_2016['jugadores'] = [unidecode.unidecode(nombre) for nombre in df_2016.jugadores]\n",
    "\n",
    "df_2016.to_pickle('df_2016.pkl')"
   ]
  },
  {
   "cell_type": "code",
   "execution_count": 227,
   "metadata": {},
   "outputs": [
    {
     "data": {
      "text/html": [
       "<div>\n",
       "<style scoped>\n",
       "    .dataframe tbody tr th:only-of-type {\n",
       "        vertical-align: middle;\n",
       "    }\n",
       "\n",
       "    .dataframe tbody tr th {\n",
       "        vertical-align: top;\n",
       "    }\n",
       "\n",
       "    .dataframe thead th {\n",
       "        text-align: right;\n",
       "    }\n",
       "</style>\n",
       "<table border=\"1\" class=\"dataframe\">\n",
       "  <thead>\n",
       "    <tr style=\"text-align: right;\">\n",
       "      <th></th>\n",
       "      <th>equipo</th>\n",
       "      <th>fecha_nacimiento</th>\n",
       "      <th>jugadores</th>\n",
       "      <th>valor</th>\n",
       "      <th>value_2016</th>\n",
       "    </tr>\n",
       "  </thead>\n",
       "  <tbody>\n",
       "    <tr>\n",
       "      <th>1225</th>\n",
       "      <td>Atlético de Rafaela</td>\n",
       "      <td>1996-01-16</td>\n",
       "      <td>Enzo Copetti</td>\n",
       "      <td>NaN</td>\n",
       "      <td>NaN</td>\n",
       "    </tr>\n",
       "    <tr>\n",
       "      <th>1226</th>\n",
       "      <td>Atlético de Rafaela</td>\n",
       "      <td>1989-11-11</td>\n",
       "      <td>Robin Ramirez</td>\n",
       "      <td>750 miles €</td>\n",
       "      <td>0.75</td>\n",
       "    </tr>\n",
       "    <tr>\n",
       "      <th>1227</th>\n",
       "      <td>Atlético de Rafaela</td>\n",
       "      <td>1992-06-06</td>\n",
       "      <td>Leandro Diaz</td>\n",
       "      <td>600 miles €</td>\n",
       "      <td>0.60</td>\n",
       "    </tr>\n",
       "    <tr>\n",
       "      <th>1228</th>\n",
       "      <td>Atlético de Rafaela</td>\n",
       "      <td>1992-08-21</td>\n",
       "      <td>Ramiro Costa</td>\n",
       "      <td>300 miles €</td>\n",
       "      <td>0.30</td>\n",
       "    </tr>\n",
       "    <tr>\n",
       "      <th>1229</th>\n",
       "      <td>Atlético de Rafaela</td>\n",
       "      <td>1986-09-20</td>\n",
       "      <td>Sergio Almiron</td>\n",
       "      <td>NaN</td>\n",
       "      <td>NaN</td>\n",
       "    </tr>\n",
       "  </tbody>\n",
       "</table>\n",
       "</div>"
      ],
      "text/plain": [
       "                   equipo fecha_nacimiento       jugadores          valor  \\\n",
       "1225  Atlético de Rafaela       1996-01-16    Enzo Copetti            NaN   \n",
       "1226  Atlético de Rafaela       1989-11-11   Robin Ramirez  750 miles €     \n",
       "1227  Atlético de Rafaela       1992-06-06    Leandro Diaz  600 miles €     \n",
       "1228  Atlético de Rafaela       1992-08-21    Ramiro Costa  300 miles €     \n",
       "1229  Atlético de Rafaela       1986-09-20  Sergio Almiron            NaN   \n",
       "\n",
       "      value_2016  \n",
       "1225         NaN  \n",
       "1226        0.75  \n",
       "1227        0.60  \n",
       "1228        0.30  \n",
       "1229         NaN  "
      ]
     },
     "execution_count": 227,
     "metadata": {},
     "output_type": "execute_result"
    }
   ],
   "source": [
    "df_2016.tail()"
   ]
  },
  {
   "cell_type": "markdown",
   "metadata": {},
   "source": [
    "# 2015"
   ]
  },
  {
   "cell_type": "code",
   "execution_count": 228,
   "metadata": {},
   "outputs": [],
   "source": [
    "df_2015 =None"
   ]
  },
  {
   "cell_type": "code",
   "execution_count": 229,
   "metadata": {},
   "outputs": [
    {
     "name": "stdout",
     "output_type": "stream",
     "text": [
      "Club Atlético Boca Juniors\n"
     ]
    },
    {
     "name": "stderr",
     "output_type": "stream",
     "text": [
      "/home/serch/anaconda3/lib/python3.6/site-packages/ipykernel_launcher.py:64: FutureWarning: Sorting because non-concatenation axis is not aligned. A future version\n",
      "of pandas will change to not sort by default.\n",
      "\n",
      "To accept the future behavior, pass 'sort=False'.\n",
      "\n",
      "To retain the current behavior and silence the warning, pass 'sort=True'.\n",
      "\n"
     ]
    },
    {
     "name": "stdout",
     "output_type": "stream",
     "text": [
      "Club Atlético River Plate\n",
      "Club Atlético San Lorenzo de Almagro\n",
      "Club Atlético Independiente\n",
      "Racing Club\n",
      "Club Atlético Lanús\n",
      "Arsenal Fútbol Club\n",
      "Club Atlético Newell's Old Boys\n",
      "Club Atlético Tigre\n",
      "Club Atlético Rosario Central\n",
      "Club Atlético Belgrano\n",
      "Club Atlético Huracán\n",
      "Club de Gimnasia y Esgrima La Plata\n",
      "Club Estudiantes de La Plata\n",
      "Club Atlético Colón\n",
      "Club Deportivo Godoy Cruz Antonio Tomba\n",
      "Club Atlético San Martín (SJ)\n",
      "Defensa y Justicia\n",
      "Club Atlético Sarmiento (Junin)\n",
      "Quilmes Atlético Club\n",
      "Club Olimpo\n",
      "Club Atlético Banfield\n",
      "Club Atlético Tucumán\n",
      "Asociación Atlética Argentinos Juniors\n",
      "Club Atlético Vélez Sarsfield\n",
      "Atlético de Rafaela\n",
      "Club Atlético Unión (Santa Fe)\n",
      "Club Atlético Temperley\n",
      "Club Atlético Aldosivi\n",
      "Club Atlético Patronato\n",
      "CPU times: user 5.93 s, sys: 63.7 ms, total: 5.99 s\n",
      "Wall time: 1min 7s\n"
     ]
    }
   ],
   "source": [
    "%%time\n",
    "df_2015 = pd.DataFrame(columns=['jugadores','valor','equipo'])\n",
    "\n",
    "for url in urls_2015:\n",
    "\n",
    "    pageTree = requests.get(url_madre+url, headers=headers)\n",
    "    pageSoup = BeautifulSoup(pageTree.content, 'html.parser')\n",
    "    #     print(url_madre+url)\n",
    "\n",
    "    # tabla de jugadores con cuadrito de jugador\n",
    "    Players = pageSoup.find_all(\"a\", {\"class\": \"spielprofil_tooltip\"})\n",
    "    # cuadrito de valor\n",
    "    Values = pageSoup.find_all(\"td\", {\"class\": \"rechts hauptlink\"})\n",
    "\n",
    "    Fec_Nac = pageSoup.find_all(\"td\", {\"class\": \"zentriert\"})\n",
    "\n",
    "    # se filtra la tabla de jugadores, dado que tiene 2 nombres uno con la inicial y el otro completo\n",
    "    # y se filtran si ya estan en la lista dado que puede que agarre otra tabla con la misma clase\n",
    "    PlayersList = []\n",
    "    preview = 'nada'\n",
    "    for i in range(len(Players)):\n",
    "#         print(Players[i].text.split())\n",
    "        if len(Players[i].text.split()) == 2:\n",
    "            if Players[i].text.split()[1] != preview and Players[i].text not in set(PlayersList):\n",
    "                preview = Players[i].text.split()[1]\n",
    "                PlayersList.append(Players[i].text)\n",
    "            else:\n",
    "                continue\n",
    "        elif len(Players[i].text.split()) == 3:\n",
    "            if Players[i].text.split()[2] != preview and Players[i].text not in set(PlayersList):\n",
    "                preview = Players[i].text.split()[2]\n",
    "                PlayersList.append(Players[i].text)\n",
    "            else:\n",
    "                continue\n",
    "        elif len(Players[i].text.split()) == 4:\n",
    "            if Players[i].text.split()[3] != preview and Players[i].text not in set(PlayersList):\n",
    "                preview = Players[i].text.split()[3]\n",
    "                PlayersList.append(Players[i].text)\n",
    "            else:\n",
    "                continue\n",
    "        else:\n",
    "            continue\n",
    "    # los valores los toma adecuadamente VALOR DE TRANSFERENCIA\n",
    "    ValuesList = [Values[val].text for val in range(len(Values))]\n",
    "    #extraccion de fecha de nacimiento\n",
    "    FecNacLIst = []\n",
    "    for i in Fec_Nac:\n",
    "        if len(i.text.split()) == 0:\n",
    "            continue\n",
    "        else:\n",
    "            if len(i.text.split()[0])== 10:\n",
    "                FecNacLIst.append(pd.to_datetime(i.text.split()[0], dayfirst=True))\n",
    "            else:\n",
    "                continue\n",
    "\n",
    "    # se generan dataframes para cruzar\n",
    "    a = pd.DataFrame(PlayersList,columns=['jugadores'])\n",
    "    b = pd.DataFrame(ValuesList,columns=['valor'])\n",
    "    c = pd.DataFrame(FecNacLIst, columns=['fecha_nacimiento'])\n",
    "    #se apilan y se quitan jugadores extra que vienen con nombre de misma tabla\n",
    "    df = pd.concat([a,b,c],1).dropna()\n",
    "    print(pageSoup.find_all(\"h1\")[0].text.split('\\n')[1])\n",
    "    df['equipo'] = pageSoup.find_all(\"h1\")[0].text.split('\\n')[1]\n",
    "    df_2015 = pd.concat([df_2015, df])"
   ]
  },
  {
   "cell_type": "code",
   "execution_count": 230,
   "metadata": {},
   "outputs": [],
   "source": [
    "df_2015.reset_index(drop=True,inplace=True)\n",
    "df_2015.valor.replace('\\xa0',np.nan,inplace=True)\n",
    "new_value = []\n",
    "for i,j in zip(df_2015.valor.str.split().str[0], df_2015.valor.str.split().str[1]):\n",
    "    if type(i) == float:\n",
    "        new_value.append(i)\n",
    "    elif j == 'miles':\n",
    "        new_value.append(int(locale.atoi(i))*0.001)\n",
    "    elif i== '-':\n",
    "        new_value.append(np.nan)\n",
    "    else:\n",
    "        new_value.append(float(locale.atoi(i))/ 100)\n",
    "        \n",
    "df_2015['value_2015'] = new_value"
   ]
  },
  {
   "cell_type": "code",
   "execution_count": 231,
   "metadata": {},
   "outputs": [],
   "source": [
    "df_2015['jugadores'] = [unidecode.unidecode(nombre) for nombre in df_2015.jugadores]\n",
    "\n",
    "df_2015.to_pickle('df_2015.pkl')"
   ]
  },
  {
   "cell_type": "code",
   "execution_count": 232,
   "metadata": {},
   "outputs": [
    {
     "data": {
      "text/html": [
       "<div>\n",
       "<style scoped>\n",
       "    .dataframe tbody tr th:only-of-type {\n",
       "        vertical-align: middle;\n",
       "    }\n",
       "\n",
       "    .dataframe tbody tr th {\n",
       "        vertical-align: top;\n",
       "    }\n",
       "\n",
       "    .dataframe thead th {\n",
       "        text-align: right;\n",
       "    }\n",
       "</style>\n",
       "<table border=\"1\" class=\"dataframe\">\n",
       "  <thead>\n",
       "    <tr style=\"text-align: right;\">\n",
       "      <th></th>\n",
       "      <th>equipo</th>\n",
       "      <th>fecha_nacimiento</th>\n",
       "      <th>jugadores</th>\n",
       "      <th>valor</th>\n",
       "      <th>value_2015</th>\n",
       "    </tr>\n",
       "  </thead>\n",
       "  <tbody>\n",
       "    <tr>\n",
       "      <th>0</th>\n",
       "      <td>Club Atlético Boca Juniors</td>\n",
       "      <td>1981-06-26</td>\n",
       "      <td>Agustin Orion</td>\n",
       "      <td>1,00 mill. €</td>\n",
       "      <td>1.000</td>\n",
       "    </tr>\n",
       "    <tr>\n",
       "      <th>1</th>\n",
       "      <td>Club Atlético Boca Juniors</td>\n",
       "      <td>1987-09-30</td>\n",
       "      <td>Guillermo Sara</td>\n",
       "      <td>1,00 mill. €</td>\n",
       "      <td>1.000</td>\n",
       "    </tr>\n",
       "    <tr>\n",
       "      <th>2</th>\n",
       "      <td>Club Atlético Boca Juniors</td>\n",
       "      <td>1994-05-08</td>\n",
       "      <td>Bruno Galvan</td>\n",
       "      <td>25 miles €</td>\n",
       "      <td>0.025</td>\n",
       "    </tr>\n",
       "    <tr>\n",
       "      <th>3</th>\n",
       "      <td>Club Atlético Boca Juniors</td>\n",
       "      <td>1991-04-18</td>\n",
       "      <td>Ramiro Martinez</td>\n",
       "      <td>NaN</td>\n",
       "      <td>NaN</td>\n",
       "    </tr>\n",
       "    <tr>\n",
       "      <th>4</th>\n",
       "      <td>Club Atlético Boca Juniors</td>\n",
       "      <td>1989-10-18</td>\n",
       "      <td>Fernando Tobio</td>\n",
       "      <td>2,00 mill. €</td>\n",
       "      <td>2.000</td>\n",
       "    </tr>\n",
       "  </tbody>\n",
       "</table>\n",
       "</div>"
      ],
      "text/plain": [
       "                       equipo fecha_nacimiento        jugadores  \\\n",
       "0  Club Atlético Boca Juniors       1981-06-26    Agustin Orion   \n",
       "1  Club Atlético Boca Juniors       1987-09-30   Guillermo Sara   \n",
       "2  Club Atlético Boca Juniors       1994-05-08     Bruno Galvan   \n",
       "3  Club Atlético Boca Juniors       1991-04-18  Ramiro Martinez   \n",
       "4  Club Atlético Boca Juniors       1989-10-18   Fernando Tobio   \n",
       "\n",
       "            valor  value_2015  \n",
       "0  1,00 mill. €         1.000  \n",
       "1  1,00 mill. €         1.000  \n",
       "2    25 miles €         0.025  \n",
       "3             NaN         NaN  \n",
       "4  2,00 mill. €         2.000  "
      ]
     },
     "execution_count": 232,
     "metadata": {},
     "output_type": "execute_result"
    }
   ],
   "source": [
    "df_2015.head()"
   ]
  },
  {
   "cell_type": "code",
   "execution_count": 233,
   "metadata": {},
   "outputs": [
    {
     "data": {
      "text/html": [
       "<div>\n",
       "<style scoped>\n",
       "    .dataframe tbody tr th:only-of-type {\n",
       "        vertical-align: middle;\n",
       "    }\n",
       "\n",
       "    .dataframe tbody tr th {\n",
       "        vertical-align: top;\n",
       "    }\n",
       "\n",
       "    .dataframe thead th {\n",
       "        text-align: right;\n",
       "    }\n",
       "</style>\n",
       "<table border=\"1\" class=\"dataframe\">\n",
       "  <thead>\n",
       "    <tr style=\"text-align: right;\">\n",
       "      <th></th>\n",
       "      <th>equipo</th>\n",
       "      <th>fecha_nacimiento</th>\n",
       "      <th>jugadores</th>\n",
       "      <th>valor</th>\n",
       "      <th>value_2015</th>\n",
       "    </tr>\n",
       "  </thead>\n",
       "  <tbody>\n",
       "    <tr>\n",
       "      <th>73</th>\n",
       "      <td>Club Atlético River Plate</td>\n",
       "      <td>1989-09-08</td>\n",
       "      <td>Tabare Viudez</td>\n",
       "      <td>4,25 mill. €</td>\n",
       "      <td>4.25</td>\n",
       "    </tr>\n",
       "  </tbody>\n",
       "</table>\n",
       "</div>"
      ],
      "text/plain": [
       "                       equipo fecha_nacimiento      jugadores           valor  \\\n",
       "73  Club Atlético River Plate       1989-09-08  Tabare Viudez  4,25 mill. €     \n",
       "\n",
       "    value_2015  \n",
       "73        4.25  "
      ]
     },
     "execution_count": 233,
     "metadata": {},
     "output_type": "execute_result"
    }
   ],
   "source": [
    "df_2015[df_2015.jugadores == 'Tabare Viudez']"
   ]
  }
 ],
 "metadata": {
  "kernelspec": {
   "display_name": "Python 3",
   "language": "python",
   "name": "python3"
  },
  "language_info": {
   "codemirror_mode": {
    "name": "ipython",
    "version": 3
   },
   "file_extension": ".py",
   "mimetype": "text/x-python",
   "name": "python",
   "nbconvert_exporter": "python",
   "pygments_lexer": "ipython3",
   "version": "3.6.6"
  }
 },
 "nbformat": 4,
 "nbformat_minor": 2
}
